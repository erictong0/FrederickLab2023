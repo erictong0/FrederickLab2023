{
  "nbformat": 4,
  "nbformat_minor": 0,
  "metadata": {
    "colab": {
      "provenance": [],
      "gpuType": "T4",
      "include_colab_link": true
    },
    "kernelspec": {
      "name": "python3",
      "display_name": "Python 3"
    },
    "language_info": {
      "name": "python"
    }
  },
  "cells": [
    {
      "cell_type": "markdown",
      "metadata": {
        "id": "view-in-github",
        "colab_type": "text"
      },
      "source": [
        "<a href=\"https://colab.research.google.com/github/erictong0/FrederickLab2023/blob/main/Linear%20Regression/Pixel%20Things/230629_30x30_Hand_made_optimization_Pixelated_Linear_regression_experiments.ipynb\" target=\"_parent\"><img src=\"https://colab.research.google.com/assets/colab-badge.svg\" alt=\"Open In Colab\"/></a>"
      ]
    },
    {
      "cell_type": "markdown",
      "source": [
        "# irrelevant"
      ],
      "metadata": {
        "id": "eQF4MCDqkJQG"
      }
    },
    {
      "cell_type": "code",
      "execution_count": null,
      "metadata": {
        "colab": {
          "base_uri": "https://localhost:8080/"
        },
        "id": "jbXwMbQrlDAY",
        "outputId": "8a43290e-3a29-4b4a-a4bb-38b5ce85a605"
      },
      "outputs": [
        {
          "output_type": "stream",
          "name": "stdout",
          "text": [
            "Collecting bio\n",
            "  Downloading bio-1.5.9-py3-none-any.whl (276 kB)\n",
            "\u001b[2K     \u001b[90m━━━━━━━━━━━━━━━━━━━━━━━━━━━━━━━━━━━━━━━\u001b[0m \u001b[32m276.4/276.4 kB\u001b[0m \u001b[31m5.7 MB/s\u001b[0m eta \u001b[36m0:00:00\u001b[0m\n",
            "\u001b[?25hCollecting biopython>=1.80 (from bio)\n",
            "  Downloading biopython-1.81-cp310-cp310-manylinux_2_17_x86_64.manylinux2014_x86_64.whl (3.1 MB)\n",
            "\u001b[2K     \u001b[90m━━━━━━━━━━━━━━━━━━━━━━━━━━━━━━━━━━━━━━━━\u001b[0m \u001b[32m3.1/3.1 MB\u001b[0m \u001b[31m50.3 MB/s\u001b[0m eta \u001b[36m0:00:00\u001b[0m\n",
            "\u001b[?25hRequirement already satisfied: requests in /usr/local/lib/python3.10/dist-packages (from bio) (2.27.1)\n",
            "Requirement already satisfied: tqdm in /usr/local/lib/python3.10/dist-packages (from bio) (4.65.0)\n",
            "Collecting mygene (from bio)\n",
            "  Downloading mygene-3.2.2-py2.py3-none-any.whl (5.4 kB)\n",
            "Requirement already satisfied: pandas in /usr/local/lib/python3.10/dist-packages (from bio) (1.5.3)\n",
            "Requirement already satisfied: pooch in /usr/local/lib/python3.10/dist-packages (from bio) (1.6.0)\n",
            "Collecting gprofiler-official (from bio)\n",
            "  Downloading gprofiler_official-1.0.0-py3-none-any.whl (9.3 kB)\n",
            "Requirement already satisfied: numpy in /usr/local/lib/python3.10/dist-packages (from biopython>=1.80->bio) (1.22.4)\n",
            "Collecting biothings-client>=0.2.6 (from mygene->bio)\n",
            "  Downloading biothings_client-0.3.0-py2.py3-none-any.whl (29 kB)\n",
            "Requirement already satisfied: python-dateutil>=2.8.1 in /usr/local/lib/python3.10/dist-packages (from pandas->bio) (2.8.2)\n",
            "Requirement already satisfied: pytz>=2020.1 in /usr/local/lib/python3.10/dist-packages (from pandas->bio) (2022.7.1)\n",
            "Requirement already satisfied: appdirs>=1.3.0 in /usr/local/lib/python3.10/dist-packages (from pooch->bio) (1.4.4)\n",
            "Requirement already satisfied: packaging>=20.0 in /usr/local/lib/python3.10/dist-packages (from pooch->bio) (23.1)\n",
            "Requirement already satisfied: urllib3<1.27,>=1.21.1 in /usr/local/lib/python3.10/dist-packages (from requests->bio) (1.26.16)\n",
            "Requirement already satisfied: certifi>=2017.4.17 in /usr/local/lib/python3.10/dist-packages (from requests->bio) (2023.5.7)\n",
            "Requirement already satisfied: charset-normalizer~=2.0.0 in /usr/local/lib/python3.10/dist-packages (from requests->bio) (2.0.12)\n",
            "Requirement already satisfied: idna<4,>=2.5 in /usr/local/lib/python3.10/dist-packages (from requests->bio) (3.4)\n",
            "Requirement already satisfied: six>=1.5 in /usr/local/lib/python3.10/dist-packages (from python-dateutil>=2.8.1->pandas->bio) (1.16.0)\n",
            "Installing collected packages: biopython, gprofiler-official, biothings-client, mygene, bio\n",
            "Successfully installed bio-1.5.9 biopython-1.81 biothings-client-0.3.0 gprofiler-official-1.0.0 mygene-3.2.2\n",
            "Requirement already satisfied: scipy in /usr/local/lib/python3.10/dist-packages (1.10.1)\n",
            "Requirement already satisfied: numpy<1.27.0,>=1.19.5 in /usr/local/lib/python3.10/dist-packages (from scipy) (1.22.4)\n"
          ]
        }
      ],
      "source": [
        "#imports\n",
        "!pip install bio --upgrade\n",
        "!pip install scipy"
      ]
    },
    {
      "cell_type": "code",
      "source": [
        "#imports for timing things\n",
        "!pip install line_profiler\n",
        "%load_ext line_profiler"
      ],
      "metadata": {
        "colab": {
          "base_uri": "https://localhost:8080/"
        },
        "id": "ygSlwLXZOlhE",
        "outputId": "b1120d4f-30f8-46ca-9c39-b600e15542f6"
      },
      "execution_count": null,
      "outputs": [
        {
          "output_type": "stream",
          "name": "stdout",
          "text": [
            "Collecting line_profiler\n",
            "  Downloading line_profiler-4.0.3-cp310-cp310-manylinux_2_17_x86_64.manylinux2014_x86_64.whl (661 kB)\n",
            "\u001b[?25l     \u001b[90m━━━━━━━━━━━━━━━━━━━━━━━━━━━━━━━━━━━━━━━━\u001b[0m \u001b[32m0.0/661.9 kB\u001b[0m \u001b[31m?\u001b[0m eta \u001b[36m-:--:--\u001b[0m\r\u001b[2K     \u001b[91m━━━━━━━━━━\u001b[0m\u001b[90m╺\u001b[0m\u001b[90m━━━━━━━━━━━━━━━━━━━━━━━━━━━━\u001b[0m \u001b[32m174.1/661.9 kB\u001b[0m \u001b[31m5.6 MB/s\u001b[0m eta \u001b[36m0:00:01\u001b[0m\r\u001b[2K     \u001b[90m━━━━━━━━━━━━━━━━━━━━━━━━━━━━━━━━━━━━━━\u001b[0m \u001b[32m661.9/661.9 kB\u001b[0m \u001b[31m10.1 MB/s\u001b[0m eta \u001b[36m0:00:00\u001b[0m\n",
            "\u001b[?25hInstalling collected packages: line_profiler\n",
            "Successfully installed line_profiler-4.0.3\n"
          ]
        }
      ]
    },
    {
      "cell_type": "code",
      "source": [
        "import sys\n",
        "import glob\n",
        "import math\n",
        "import argparse\n",
        "import numpy as np\n",
        "import matplotlib as mpl\n",
        "import matplotlib.pyplot as plt\n",
        "import matplotlib.ticker as pltticker\n",
        "import matplotlib.cm as cm\n",
        "from matplotlib.patches import Rectangle\n",
        "import csv\n",
        "from matplotlib import colors\n",
        "import re\n",
        "import pandas as pd\n",
        "from numpy import savetxt\n",
        "from sklearn.linear_model import LinearRegression\n",
        "from statistics import mean\n",
        "import statsmodels.api as sm\n",
        "from Bio.Data.IUPACData import protein_letters_1to3 as one2three\n",
        "import scipy.optimize as spo\n",
        "from pandas.core.internals.construction import ma\n",
        "from sklearn.linear_model import Lasso"
      ],
      "metadata": {
        "id": "QdhKhzmOlO1v"
      },
      "execution_count": null,
      "outputs": []
    },
    {
      "cell_type": "code",
      "source": [
        "#works to load information in variables before the program\n",
        "\n",
        "fwhm = 2  # Full width at half maximum\n",
        "# Calculate the standard deviation from the FWHM\n",
        "c = fwhm / (2 * np.sqrt(2 * np.log(2)))\n",
        "\n",
        "def get_row_floats(data, row):\n",
        "  return list(map(lambda x: float(x[row]), data))\n",
        "\n",
        "xArray = []\n",
        "for i in range(68):\n",
        "  b = i / 4 + 54\n",
        "  xArray.append(np.linspace(b - 3 * c, b + 3 * c, 100))\n",
        "\n",
        "oData = []\n",
        "data = []\n",
        "with open(\"T_10K.out\", mode=\"r\") as infile: #open data file and read contents\n",
        "  reader = csv.reader(infile, delimiter=\"\\n\")\n",
        "  for row in reader:\n",
        "    if len(row) == 1:\n",
        "      data.append(re.split('\\t', row[0])[2:])\n",
        "    else:\n",
        "      data.append(row)\n",
        "\n",
        "tempData = []\n",
        "for i in range(6):\n",
        "  tempData.append(np.array(get_row_floats(data[1:], i)))\n",
        "\n",
        "oData.append(tempData)\n",
        "\n",
        "data = []\n",
        "tempData = []\n",
        "count = 0\n",
        "with open(\"spotlight 2022.csv\", mode=\"r\") as infile: #open data file and read contents\n",
        "  chunk_size = 1000\n",
        "  while True:\n",
        "      chunk = infile.readlines(chunk_size)\n",
        "      if not chunk:\n",
        "        break\n",
        "      for line in chunk:\n",
        "        reader = csv.reader(infile)\n",
        "        for row in reader:\n",
        "          count += 1\n",
        "          if len(row) == 1:\n",
        "            tempData.append(re.split(r',', row[0]))\n",
        "          else:\n",
        "            tempData.append(row)\n",
        "\n",
        "data.append(get_row_floats(tempData,0)[1:])\n",
        "data.append(get_row_floats(tempData,1)[1:])\n",
        "\n",
        "oData.append(data)\n",
        "\n",
        "DATAINPUT = oData"
      ],
      "metadata": {
        "id": "uAosrkRIlXzx"
      },
      "execution_count": null,
      "outputs": []
    },
    {
      "cell_type": "code",
      "source": [
        "xScale = 30\n",
        "yScale = 30\n",
        "\n",
        "def main(inData, aa, rangeChoices):\n",
        "  aa1 = aa\n",
        "\n",
        "  phi = inData[0][0]\n",
        "  psi = inData[0][1]\n",
        "  ca = inData[0][2]\n",
        "  cb = inData[0][3]\n",
        "  c = inData[0][4]\n",
        "  n = inData[0][5]\n",
        "\n",
        "\n",
        "\n",
        "  ca_exp = inData[1][0] #def x as Ca shift\n",
        "  intensity = inData[1][1]\n",
        "\n",
        "\n",
        "  atom_key={\n",
        "            \"ca\":0,\n",
        "            \"cb\":1,\n",
        "            \"co\":2,\n",
        "            \"n\":3,\n",
        "          }\n",
        "\n",
        "  nonCys_nonGly_aas={\"A\", \"D\", \"E\", \"F\", \"H\", \"I\", \"K\", \"L\", \"M\",\n",
        "                    \"N\", \"P\", \"Q\", \"R\", \"S\", \"T\", \"V\", \"Y\", \"W\"}\n",
        "\n",
        "  nonCys_aas={\"A\", \"D\", \"E\", \"F\", \"G\", \"H\", \"I\", \"K\", \"L\", \"M\",\n",
        "              \"N\", \"P\", \"Q\", \"R\", \"S\", \"T\", \"V\", \"Y\", \"W\"}\n",
        "\n",
        "  na=np.nan\n",
        "\n",
        "  aa_spec_ranges={ #ranges of interest for chemical shifts\n",
        "                  #aa1 Ca      Cb      C         N\n",
        "                  # Ca & Cb adjusted to 17ppm to match Fig5\n",
        "                 'A':[[11,28],[203,234],[170,184],[112,133]],\n",
        "                  'R':[[47,64],[22,39],[169,183],[112,133]],\n",
        "                  'N':[[44,61],[30,47],[168,182],[106,127]],\n",
        "                  'D':[[45,62],[33,50],[169,183],[109,130]],\n",
        "  #               'C':[[50,67],[22,39],[168,182],[105,126]],\n",
        "                  'Q':[[47,64],[22,39],[169,183],[108,129]],\n",
        "                  'E':[[49,66],[22,39],[169,183],[109,130]],\n",
        "                  'G':[[36,53],[203,234],[167,181],[ 98,119]],\n",
        "                  'H':[[49,66],[23,40],[168,182],[107,128]],\n",
        "                  'I':[[54,71],[31,48],[168,182],[109,130]],\n",
        "                  'L':[[45,62],[33,50],[170,184],[110,131]],\n",
        "                  'K':[[49,66],[26,43],[169,183],[109,130]],\n",
        "                  'M':[[47,64],[26,43],[169,183],[108,129]],\n",
        "                  'F':[[50,67],[31,48],[168,182],[107,128]],\n",
        "                  'P':[[57,74],[25,42],[170,184],[ na, na]],\n",
        "                  'S':[[50,67],[105,139],[55,72],[167,181],[104,125]],\n",
        "                  'T':[[54,70],[104,138],[60,77],[168,182],[102,123]],\n",
        "                  'W':[[48,65],[21,38],[169,183],[109,130]],\n",
        "                  'Y':[[50,67],[30,47],[168,182],[108,129]],\n",
        "                  'V':[[54,71],[25,42],[169,183],[108,129]],\n",
        "                  }\n",
        "\n",
        "  ####Changed this part####\n",
        "  rchoice = rangeChoices\n",
        "\n",
        "  ### extract plot subregions ###\n",
        "  # \"r\" stands for ramachandran\n",
        "  # regions: beta-strand, polyproline helix ii\n",
        "  #          beta-turn I, alpha-helix,\n",
        "  #          left handed helix (all phi > 0)\n",
        "  # !!! top and left corner are always >= or <=\n",
        "  #     unless they reach the bottom/right axis\n",
        "  #     (i.e. betaB, ppiiB, left)\n",
        "\n",
        "  #filter beta regions\n",
        "\n",
        "  def makeMask(a, b, c, d):\n",
        "    return np.logical_and(np.logical_and(phi >= a, phi <= b), np.logical_and(psi >= c, psi <= d))\n",
        "\n",
        "  masks = {}\n",
        "  datas = {}\n",
        "  cs_ca = {}\n",
        "  cs_cb = {}\n",
        "  cs_co = {}\n",
        "\n",
        "  for i in range(int(180/xScale)):\n",
        "    for j in range(int(360/yScale)):\n",
        "      name = f\"{chr(i+65)}{(j+1):02d}\"\n",
        "      mask = makeMask(i*xScale-180, (i+1)*xScale-180, 180-(j+1)*yScale, 180-j*yScale)\n",
        "      #print((i*10-180, i*10-170, 170-j*10, 180-j*10))\n",
        "      cs_ca[name] = ca[mask]\n",
        "      cs_cb[name] = cb[mask]\n",
        "      cs_co[name] = c[mask]\n",
        "\n",
        "  name = \"rturni\"\n",
        "  mask = makeMask(0, 180, -180, 180)\n",
        "  cs_ca[name] = ca[mask]\n",
        "  cs_cb[name] = cb[mask]\n",
        "  cs_co[name] = c[mask]\n",
        "  #cs_ca = list(cs_ca) ???\n",
        "\n",
        "  cs_all = {'ca':cs_ca,\n",
        "            'cb':cs_cb,\n",
        "            'c' :cs_co,\n",
        "            }\n",
        "\n",
        "  bin_width=0.25\n",
        "  mtick_spacing=5\n",
        "  #fig, axs = plt.subplots(1, 1, sharey=False, tight_layout=True,figsize=(10,10)) #35826579\n",
        "\n",
        "  x_lims = np.array(aa_spec_ranges[aa1][0])\n",
        "  y_lims = np.array(aa_spec_ranges[aa1][1])\n",
        "  x_edges = np.arange(x_lims[0],x_lims[1]+bin_width,bin_width) #create an array from one limit to the next using bin widths\n",
        "  y_edges=np.arange(y_lims[0],y_lims[1]+bin_width,bin_width)\n",
        "  hw=bin_width/2\n",
        "  center_bins_x=np.arange(x_lims[0]+hw,x_lims[1]+hw,bin_width)\n",
        "  center_bins_y=np.arange(y_lims[0]+hw,y_lims[1]+hw,bin_width)\n",
        "  inputs = []\n",
        "  h_lists = []\n",
        "  h_list = []\n",
        "  c = fwhm / (2 * np.sqrt(2 * np.log(2)))\n",
        "  for key in cs_ca:\n",
        "    H, bins = np.histogram(cs_ca[key],bins=(x_edges),density=False)\n",
        "    for j in range(len(H)):\n",
        "      a = H[j]  # Maximum value\n",
        "      b = bins[j]  # Peak position\n",
        "\n",
        "      x = xArray[round(b*4-216)]\n",
        "\n",
        "      # Calculate the y values for the curve using the Gaussian function\n",
        "      y = a * np.exp(-(x - b)**2 / (2 * c**2))\n",
        "      histogram, bins = np.histogram(x, bins=x_edges, density=False, weights = y)\n",
        "      h_list.append(histogram)\n",
        "    h_lists = sum(h_list)\n",
        "    inputs.append(h_lists)\n",
        "  H_exp, bins = np.histogram(ca_exp,bins=(x_edges),density=False, weights = intensity)\n",
        "  target = (H_exp)\n",
        "\n",
        "  tempRet = inputs\n",
        "  tempArr = []\n",
        "  for element in inputs:\n",
        "    isSame = False\n",
        "    for element2 in tempArr:\n",
        "      if np.all(element == element2):\n",
        "        isSame = True\n",
        "    if isSame:\n",
        "      pass\n",
        "    else:\n",
        "      tempArr.append(element)\n",
        "  inputs = tempArr\n",
        "\n",
        "\n",
        "  x = inputs\n",
        "  y = target\n",
        "  return (x, y, cs_ca, tempRet)\n",
        "\n",
        "\n",
        "def func3P(dict):\n",
        "  r, s, cs_ca, tempRet = main(DATAINPUT, \"T\", dict)\n",
        "  #print(r.summary())\n",
        "  return (r, s, cs_ca, tempRet)\n",
        "  return (r.summary(), s, e)\n",
        "\n",
        "x, y, cs_ca, rawInput = func3P({})\n",
        "#resultString, cs_ca_list, H_exp = func3P({})\n",
        "\n"
      ],
      "metadata": {
        "id": "Mr287Mxvlir8"
      },
      "execution_count": null,
      "outputs": []
    },
    {
      "cell_type": "markdown",
      "source": [
        "#Insert saved coefficients here\n"
      ],
      "metadata": {
        "id": "5IjVBDwvizUW"
      }
    },
    {
      "cell_type": "code",
      "source": [
        "print(np.shape(x))"
      ],
      "metadata": {
        "colab": {
          "base_uri": "https://localhost:8080/"
        },
        "id": "PzjouCz-cUgL",
        "outputId": "9dce11bd-d736-4463-994a-d965587bd1c4"
      },
      "execution_count": null,
      "outputs": [
        {
          "output_type": "stream",
          "name": "stdout",
          "text": [
            "(43, 64)\n"
          ]
        }
      ]
    },
    {
      "cell_type": "code",
      "source": [
        "\n",
        "copied = \"\"\n",
        "coeff = [float(element) for element in copied.split()]"
      ],
      "metadata": {
        "id": "c1Fx94m-eEQX"
      },
      "execution_count": null,
      "outputs": []
    },
    {
      "cell_type": "code",
      "source": [
        "coeff = [50] * 43"
      ],
      "metadata": {
        "id": "9hdL5d0vcQ9c"
      },
      "execution_count": null,
      "outputs": []
    },
    {
      "cell_type": "markdown",
      "source": [
        "#After\n"
      ],
      "metadata": {
        "id": "-eXOQZvdjcAG"
      }
    },
    {
      "cell_type": "code",
      "source": [
        "f = lambda x, y: ((x-y)**2)/x\n",
        "tempCoeff = coeff\n",
        "def resid2(c):\n",
        "  global tempCoeff\n",
        "  tempCoeff = c\n",
        "  predictedY = [sum(element) for element in np.multiply(np.array(x).T, np.array(c))]\n",
        "  total = sum(f(y, predictedY))\n",
        "  return total\n"
      ],
      "metadata": {
        "id": "7xstVN6tfdGx"
      },
      "execution_count": null,
      "outputs": []
    },
    {
      "cell_type": "code",
      "source": [
        "#Actually optimizing things\n",
        "for i in range(10):\n",
        "  coeff = tempCoeff\n",
        "  result = spo.least_squares(resid2, coeff, verbose = 2, max_nfev = 1000, bounds = (0, 100000000))\n",
        "coeffArchive = tempCoeff\n",
        "print(result.x)\n",
        "print(result.fun)"
      ],
      "metadata": {
        "id": "cAG5ICU_ZyU7",
        "colab": {
          "base_uri": "https://localhost:8080/"
        },
        "outputId": "ae6032b7-9c51-40a6-bf83-8423ef619555"
      },
      "execution_count": null,
      "outputs": [
        {
          "output_type": "stream",
          "name": "stdout",
          "text": [
            "   Iteration     Total nfev        Cost      Cost reduction    Step norm     Optimality   \n",
            "       0              1         4.6016e+17                                    1.33e+17    \n",
            "       1              5         4.5860e+17      1.56e+15       1.05e+02       4.98e+16    \n",
            "       2              6         4.5843e+17      1.77e+14       1.03e+02       4.21e+20    \n",
            "       3             10         4.5838e+17      5.18e+13       5.12e+01       1.54e+16    \n",
            "       4             11         4.5837e+17      2.75e+11       9.59e-02       1.53e+16    \n",
            "       5             12         4.5837e+17      5.46e+11       1.92e-01       1.51e+16    \n",
            "       6             13         4.5837e+17      1.08e+12       3.83e-01       1.48e+16    \n",
            "       7             14         4.5837e+17      2.09e+12       7.66e-01       1.42e+16    \n",
            "       8             15         4.5837e+17      3.94e+12       1.53e+00       1.30e+16    \n",
            "       9             16         4.5836e+17      6.91e+12       3.03e+00       1.05e+16    \n",
            "      10             17         4.5835e+17      1.00e+13       5.96e+00       5.61e+15    \n",
            "      11             18         4.5834e+17      5.89e+12       1.10e+01       5.08e+19    \n",
            "      12             23         4.5834e+17      1.45e+12       6.41e+00       1.36e+15    \n",
            "      13             24         4.5834e+17      2.44e+10       2.39e-02       1.36e+15    \n",
            "      14             25         4.5834e+17      4.85e+10       4.76e-02       1.35e+15    \n",
            "      15             26         4.5834e+17      9.61e+10       9.46e-02       1.33e+15    \n",
            "      16             27         4.5834e+17      1.89e+11       1.87e-01       1.30e+15    \n",
            "      17             28         4.5834e+17      3.67e+11       3.67e-01       1.73e+18    \n",
            "      18             34         4.5834e+17      1.85e+09       1.96e-01       7.75e+15    \n",
            "`ftol` termination condition is satisfied.\n",
            "Function evaluations 34, initial cost 4.6016e+17, final cost 4.5834e+17, first-order optimality 7.75e+15.\n",
            "   Iteration     Total nfev        Cost      Cost reduction    Step norm     Optimality   \n",
            "       0              1         4.5834e+17                                    6.81e+15    \n",
            "       1              8         4.5834e+17      2.56e+11       1.97e+00       1.50e+15    \n",
            "       2              9         4.5834e+17      4.18e+11       4.35e-01       1.41e+15    \n",
            "       3             10         4.5834e+17      7.59e+11       7.98e-01       6.58e+17    \n",
            "       4             17         4.5834e+17      4.10e+08       8.77e-02       1.27e+15    \n",
            "`ftol` termination condition is satisfied.\n",
            "Function evaluations 17, initial cost 4.5834e+17, final cost 4.5834e+17, first-order optimality 1.27e+15.\n",
            "   Iteration     Total nfev        Cost      Cost reduction    Step norm     Optimality   \n",
            "       0              1         4.5834e+17                                    1.27e+15    \n",
            "       1              6         4.5834e+17      5.50e+12       1.32e+01       1.17e+20    \n",
            "       2             11         4.5833e+17      3.02e+12       1.44e+01       3.28e+15    \n",
            "       3             12         4.5833e+17      2.33e+10       2.15e-02       3.26e+15    \n",
            "       4             13         4.5833e+17      4.64e+10       4.29e-02       3.22e+15    \n",
            "       5             14         4.5833e+17      9.20e+10       8.55e-02       3.15e+15    \n",
            "       6             15         4.5833e+17      1.80e+11       1.70e-01       3.00e+15    \n",
            "       7             16         4.5833e+17      3.47e+11       3.35e-01       2.70e+15    \n",
            "       8             17         4.5833e+17      6.39e+11       6.51e-01       2.12e+15    \n",
            "       9             18         4.5833e+17      1.08e+12       1.21e+00       1.49e+15    \n",
            "      10             19         4.5833e+17      1.62e+12       1.98e+00       1.02e+19    \n",
            "      11             25         4.5833e+17      5.63e+10       9.02e-01       2.27e+18    \n",
            "      12             27         4.5833e+17      2.99e+09       2.23e-01       3.08e+17    \n",
            "`ftol` termination condition is satisfied.\n",
            "Function evaluations 27, initial cost 4.5834e+17, final cost 4.5833e+17, first-order optimality 3.08e+17.\n",
            "   Iteration     Total nfev        Cost      Cost reduction    Step norm     Optimality   \n",
            "       0              1         4.5833e+17                                    3.06e+17    \n",
            "       1             13         4.5833e+17      2.80e+08       6.50e-02       1.26e+15    \n",
            "`ftol` termination condition is satisfied.\n",
            "Function evaluations 13, initial cost 4.5833e+17, final cost 4.5833e+17, first-order optimality 1.26e+15.\n",
            "   Iteration     Total nfev        Cost      Cost reduction    Step norm     Optimality   \n",
            "       0              1         4.5833e+17                                    1.26e+15    \n",
            "       1              6         4.5832e+17      5.23e+12       1.33e+01       1.18e+20    \n",
            "       2             11         4.5832e+17      3.15e+12       1.44e+01       3.24e+15    \n",
            "       3             12         4.5832e+17      2.30e+10       2.14e-02       3.22e+15    \n",
            "       4             13         4.5832e+17      4.59e+10       4.28e-02       3.18e+15    \n",
            "       5             14         4.5832e+17      9.08e+10       8.54e-02       3.10e+15    \n",
            "       6             15         4.5832e+17      1.78e+11       1.70e-01       2.95e+15    \n",
            "       7             16         4.5832e+17      3.42e+11       3.35e-01       2.66e+15    \n",
            "       8             17         4.5832e+17      6.30e+11       6.50e-01       2.07e+15    \n",
            "       9             18         4.5832e+17      1.07e+12       1.21e+00       1.47e+15    \n",
            "      10             19         4.5832e+17      1.60e+12       1.97e+00       1.06e+19    \n",
            "      11             25         4.5832e+17      5.96e+10       9.02e-01       2.63e+18    \n",
            "      12             27         4.5832e+17      3.79e+09       2.24e-01       6.63e+17    \n",
            "`ftol` termination condition is satisfied.\n",
            "Function evaluations 27, initial cost 4.5833e+17, final cost 4.5832e+17, first-order optimality 6.63e+17.\n",
            "   Iteration     Total nfev        Cost      Cost reduction    Step norm     Optimality   \n",
            "       0              1         4.5832e+17                                    6.62e+17    \n",
            "       1             13         4.5832e+17      4.06e+08       8.75e-02       1.25e+15    \n",
            "`ftol` termination condition is satisfied.\n",
            "Function evaluations 13, initial cost 4.5832e+17, final cost 4.5832e+17, first-order optimality 1.25e+15.\n",
            "   Iteration     Total nfev        Cost      Cost reduction    Step norm     Optimality   \n",
            "       0              1         4.5832e+17                                    1.25e+15    \n",
            "       1              6         4.5831e+17      5.23e+12       1.33e+01       1.17e+20    \n",
            "       2             11         4.5831e+17      3.05e+12       1.44e+01       3.28e+15    \n",
            "       3             12         4.5831e+17      2.31e+10       2.16e-02       3.26e+15    \n",
            "       4             13         4.5831e+17      4.60e+10       4.31e-02       3.22e+15    \n",
            "       5             14         4.5831e+17      9.11e+10       8.59e-02       3.15e+15    \n",
            "       6             15         4.5831e+17      1.79e+11       1.71e-01       3.00e+15    \n",
            "       7             16         4.5831e+17      3.43e+11       3.37e-01       2.70e+15    \n",
            "       8             17         4.5831e+17      6.31e+11       6.54e-01       2.11e+15    \n",
            "       9             18         4.5831e+17      1.07e+12       1.22e+00       1.47e+15    \n",
            "      10             19         4.5830e+17      1.59e+12       1.98e+00       1.05e+19    \n",
            "      11             25         4.5830e+17      5.87e+10       9.02e-01       2.53e+18    \n",
            "      12             27         4.5830e+17      3.58e+09       2.24e-01       5.71e+17    \n",
            "`ftol` termination condition is satisfied.\n",
            "Function evaluations 27, initial cost 4.5832e+17, final cost 4.5830e+17, first-order optimality 5.71e+17.\n",
            "   Iteration     Total nfev        Cost      Cost reduction    Step norm     Optimality   \n",
            "       0              1         4.5830e+17                                    5.70e+17    \n",
            "       1             13         4.5830e+17      3.47e+08       8.42e-02       1.24e+15    \n",
            "`ftol` termination condition is satisfied.\n",
            "Function evaluations 13, initial cost 4.5830e+17, final cost 4.5830e+17, first-order optimality 1.24e+15.\n",
            "   Iteration     Total nfev        Cost      Cost reduction    Step norm     Optimality   \n",
            "       0              1         4.5830e+17                                    1.24e+15    \n",
            "       1              6         4.5830e+17      5.05e+12       1.33e+01       1.17e+20    \n",
            "       2             11         4.5830e+17      3.10e+12       1.44e+01       3.26e+15    \n",
            "       3             12         4.5830e+17      2.29e+10       2.16e-02       3.25e+15    \n",
            "       4             13         4.5830e+17      4.57e+10       4.31e-02       3.21e+15    \n",
            "       5             14         4.5830e+17      9.04e+10       8.60e-02       3.13e+15    \n",
            "       6             15         4.5830e+17      1.77e+11       1.71e-01       2.98e+15    \n",
            "       7             16         4.5829e+17      3.40e+11       3.37e-01       2.68e+15    \n",
            "       8             17         4.5829e+17      6.25e+11       6.54e-01       2.09e+15    \n",
            "       9             18         4.5829e+17      1.05e+12       1.22e+00       1.45e+15    \n",
            "      10             19         4.5829e+17      1.57e+12       1.98e+00       1.07e+19    \n",
            "      11             25         4.5829e+17      6.06e+10       9.02e-01       2.74e+18    \n",
            "      12             27         4.5829e+17      4.03e+09       2.24e-01       7.73e+17    \n",
            "`ftol` termination condition is satisfied.\n",
            "Function evaluations 27, initial cost 4.5830e+17, final cost 4.5829e+17, first-order optimality 7.73e+17.\n",
            "   Iteration     Total nfev        Cost      Cost reduction    Step norm     Optimality   \n",
            "       0              1         4.5829e+17                                    7.72e+17    \n",
            "       1             13         4.5829e+17      4.77e+08       8.97e-02       1.23e+15    \n",
            "`ftol` termination condition is satisfied.\n",
            "Function evaluations 13, initial cost 4.5829e+17, final cost 4.5829e+17, first-order optimality 1.23e+15.\n",
            "[1.63970653e+01 1.17186249e+01 1.18224728e+01 7.33699963e+00\n",
            " 7.54195059e-03 7.71705815e-03 5.68758751e-03 3.25568439e-03\n",
            " 2.03737126e-03 3.76260430e-04 8.44885016e-05 8.77387715e-05\n",
            " 8.38557985e-05 7.90762742e-05 7.83088626e-05 8.55776305e-05\n",
            " 5.96456044e-07 3.95814575e-07 3.26139611e-07 3.20266622e-07\n",
            " 2.17706287e-07 4.06104788e-10 9.99994651e-11 9.99994793e-11\n",
            " 9.99994784e-11 9.99994781e-11 9.99994768e-11 9.99994790e-11\n",
            " 9.99993935e-11 7.00068840e-10 2.30914357e-09 1.99984910e-09\n",
            " 1.89233471e-09 1.34151745e-09 1.18703075e-07 6.28646252e-04\n",
            " 6.75741796e-04 5.15679405e-04 5.23190243e-04 1.53904893e-01\n",
            " 2.04192114e-01 1.64608729e+03 7.35875891e+03]\n",
            "[9.57383352e+08]\n"
          ]
        }
      ]
    },
    {
      "cell_type": "markdown",
      "source": [
        "#Visualization\n"
      ],
      "metadata": {
        "id": "wN0I7YzrjxW0"
      }
    },
    {
      "cell_type": "code",
      "source": [
        "plt.hist(np.arange(54,70,.25), bins = np.arange(54,70,.25), weights = y);\n",
        "#print(np.shape(sum(np.multiply(np.array(x).T, coeff))));\n",
        "plt.hist(np.arange(54, 70, .25), bins = np.arange(54, 70, .25), weights = sum(np.multiply(np.array(x).T, coeff).T));"
      ],
      "metadata": {
        "colab": {
          "base_uri": "https://localhost:8080/",
          "height": 445
        },
        "id": "lBUrkMamhfQs",
        "outputId": "083c9794-b356-4686-8df0-b8d3c94cff81"
      },
      "execution_count": null,
      "outputs": [
        {
          "output_type": "display_data",
          "data": {
            "text/plain": [
              "<Figure size 640x480 with 1 Axes>"
            ],
            "image/png": "[encoded data removed]"
          },
          "metadata": {}
        }
      ]
    },
    {
      "cell_type": "code",
      "source": [
        "#makes a matplotlib rectangle object based on the coordinates of each corner.\n",
        "def makeRect(s, c):\n",
        "  return Rectangle((s[0], s[2]), s[1]-s[0], s[3]-s[2], color = c)\n",
        "\n",
        "#takes a dictionary and plots all of the various rectangles\n",
        "def visualizeRectangles(d, cs, r2):\n",
        "  norm = colors.Normalize(-6e+03, 6e+03)\n",
        "\n",
        "\n",
        "  fig, ax = plt.subplots()\n",
        "  for key in d.keys():\n",
        "    ax.add_patch(makeRect(d[key], cs[key]))\n",
        "\n",
        "  bound = 180\n",
        "  ax.set(xlim = (-1 * bound, bound), ylim = (-1*bound, bound))\n",
        "  plt.xlabel(\"φ/phi (deg)\")\n",
        "  plt.ylabel(\"Ψ/psi (deg)\")\n",
        "  plt.title(f\"Threonine Data: R²={round(r2, 3)}\")\n",
        "  fig.set_size_inches(6, 6)\n",
        "  fig.colorbar(cm.ScalarMappable(norm=norm, cmap=cm.RdBu))\n",
        "  plt.show()"
      ],
      "metadata": {
        "id": "ITf5VvJi4gmU"
      },
      "execution_count": null,
      "outputs": []
    },
    {
      "cell_type": "code",
      "source": [
        "print(coeff)"
      ],
      "metadata": {
        "id": "boqdPBk0ljo4"
      },
      "execution_count": null,
      "outputs": []
    },
    {
      "cell_type": "code",
      "source": [
        "print(np.all(rawInput[648] == x[235]))\n",
        "#print(x[235])\n",
        "\n",
        "#print(rawDict[\"R36\"])\n",
        "#print(x[235])\n",
        "for key in rawDict.keys():\n",
        "  if np.all(rawDict[key] == x[235]):\n",
        "    print(key)"
      ],
      "metadata": {
        "id": "sBGxzmQLX07N"
      },
      "execution_count": null,
      "outputs": []
    },
    {
      "cell_type": "code",
      "source": [
        "norm = colors.Normalize(-6e+03, 6e+03)\n",
        "rawDict = {}\n",
        "visDict = {}\n",
        "cDict = {}\n",
        "\n",
        "for i in range(int(180/xScale)):\n",
        "    for j in range(int(360/yScale)):\n",
        "      name = f\"{chr(i+65)}{(j+1):02d}\"\n",
        "      rawDict[name] = rawInput[i*int(360/yScale) + j]\n",
        "      visDict[name] = (i*xScale-180, (i+1)*xScale-180, 180-(j+1)*yScale, 180-j*yScale)\n",
        "rawDict[\"rlhelix\"] = rawInput[int(360*180/xScale/yScale)]\n",
        "visDict[\"rlhelix\"] = (0, 180, -180, 180)\n",
        "for i in range(len(x)):\n",
        "  for key in rawDict.keys():\n",
        "    if np.all(rawDict[key] == x[i]):\n",
        "      cDict[key] = cm.RdBu(norm(coeff[i]))\n",
        "\n",
        "#print(cDict)\n",
        "visualizeRectangles(visDict, cDict, 0)"
      ],
      "metadata": {
        "colab": {
          "base_uri": "https://localhost:8080/",
          "height": 620
        },
        "id": "oWMsSw8MkDSR",
        "outputId": "cb9ce323-ac52-41d9-ec28-720f49ee5f86"
      },
      "execution_count": null,
      "outputs": [
        {
          "output_type": "stream",
          "name": "stderr",
          "text": [
            "<ipython-input-29-586cb7bec796>:20: MatplotlibDeprecationWarning: Unable to determine Axes to steal space for Colorbar. Using gca(), but will raise in the future. Either provide the *cax* argument to use as the Axes for the Colorbar, provide the *ax* argument to steal space from it, or add *mappable* to an Axes.\n",
            "  fig.colorbar(cm.ScalarMappable(norm=norm, cmap=cm.RdBu))\n"
          ]
        },
        {
          "output_type": "display_data",
          "data": {
            "text/plain": [
              "<Figure size 600x600 with 2 Axes>"
            ],
            "image/png": "[encoded data removed]"
          },
          "metadata": {}
        }
      ]
    },
    {
      "cell_type": "code",
      "source": [
        "norm = colors.Normalize(0, 4)\n",
        "rawDict = {}\n",
        "visDict = {}\n",
        "cDict = {}\n",
        "\n",
        "for i in range(int(180/xScale)):\n",
        "    for j in range(int(360/yScale)):\n",
        "      name = f\"{chr(i+65)}{(j+1):02d}\"\n",
        "      rawDict[name] = rawInput[i*int(360/yScale) + j]\n",
        "      visDict[name] = (i*xScale-180, (i+1)*xScale-180, 180-(j+1)*yScale, 180-j*yScale)\n",
        "rawDict[\"rturn\"] = rawInput[648]\n",
        "visDict[\"rturn\"] = (0, 180, -180, 180)\n",
        "for i in range(len(x)):\n",
        "  for key in rawDict.keys():\n",
        "    if np.all(rawDict[key] == x[i]):\n",
        "      cDict[key] = cm.RdBu(norm(np.log10(coeff[i])))\n",
        "\n",
        "#print(cDict)\n",
        "visualizeRectangles(visDict, cDict, 0)"
      ],
      "metadata": {
        "id": "CEgU1lI7Z9dS"
      },
      "execution_count": null,
      "outputs": []
    },
    {
      "cell_type": "code",
      "source": [
        "norm = colors.Normalize(-2.7e+07, 2.7e+07)\n",
        "visDict = {}\n",
        "colorArray = {}\n",
        "valDict = {}\n",
        "for i in range(int(180/xScale)):\n",
        "  for j in range(int(360/yScale)):\n",
        "    visDict[f\"{chr(i+65)}{(j+1):02d}\"] = (i*xScale-180, (i+1)*xScale-180, 180-(j+1)*yScale, 180-j*yScale)\n",
        "    val = float(tempArr[int((i)*360/yScale + (j))][1])\n",
        "    #print(f\"{np.log(abs(val))} / {val}\")\n",
        "    valDict[f\"{chr(i+65)}{(j+1):02d}\"] = val\n",
        "    colorArray[f\"{chr(i+65)}{(j+1):02d}\"] = cm.RdBu(norm(val))\n",
        "\n",
        "visDict[\"rturni\"] = (0, 180, -180, 180)\n",
        "#print(visDict)\n",
        "colorArray[\"rturni\"] = cm.RdBu(float(tempArr[-1][1]))\n",
        "#print(valDict)\n",
        "visualizeRectangles(visDict, colorArray, float(r))\n",
        "\n",
        "print(colorArray)\n",
        "\n",
        "\n",
        "#otherVal = min(max(np.log(val*-1)*-1/4,0),1)\n",
        "#otherVal = min(max(np.log(float(tempArr[-1][1]))*-1/4,0),1)"
      ],
      "metadata": {
        "id": "zNKmUoCZcJlQ"
      },
      "execution_count": null,
      "outputs": []
    },
    {
      "cell_type": "markdown",
      "source": [
        "#for explaining process"
      ],
      "metadata": {
        "id": "b45RfG7cjn8C"
      }
    },
    {
      "cell_type": "code",
      "source": [
        "q = np.array(([1, 2], [3, 4], [5, 6]))\n",
        "#print(q)\n",
        "\n",
        "r = np.array((1, 2, 3))\n",
        "#print(r)\n",
        "#print(q.T)\n",
        "\n",
        "print((np.multiply(q.T, r)))\n",
        "print(sum(np.multiply(q.T, r).T))"
      ],
      "metadata": {
        "id": "C7bCqMPNcSaG"
      },
      "execution_count": null,
      "outputs": []
    },
    {
      "cell_type": "code",
      "source": [
        "np.set_printoptions(threshold=np.inf)\n",
        "print(np.shape(np.array(x)))\n",
        "print(sum(np.multiply(np.array(x).T, coeff)))\n",
        "np.set_printoptions(threshold=1000)"
      ],
      "metadata": {
        "id": "WSrnACBlbvET"
      },
      "execution_count": null,
      "outputs": []
    }
  ]
}