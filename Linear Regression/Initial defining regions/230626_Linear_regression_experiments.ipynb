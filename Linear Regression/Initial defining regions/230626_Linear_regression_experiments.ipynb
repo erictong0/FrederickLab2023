{
  "nbformat": 4,
  "nbformat_minor": 0,
  "metadata": {
    "colab": {
      "provenance": [],
      "gpuType": "T4",
      "include_colab_link": true
    },
    "kernelspec": {
      "name": "python3",
      "display_name": "Python 3"
    },
    "language_info": {
      "name": "python"
    },
    "accelerator": "GPU"
  },
  "cells": [
    {
      "cell_type": "markdown",
      "metadata": {
        "id": "view-in-github",
        "colab_type": "text"
      },
      "source": [
        "<a href=\"https://colab.research.google.com/github/erictong0/FrederickLab2023/blob/main/Linear%20Regression/Initial%20defining%20regions/230626_Linear_regression_experiments.ipynb\" target=\"_parent\"><img src=\"https://colab.research.google.com/assets/colab-badge.svg\" alt=\"Open In Colab\"/></a>"
      ]
    },
    {
      "cell_type": "markdown",
      "source": [
        "# irrelevant"
      ],
      "metadata": {
        "id": "eQF4MCDqkJQG"
      }
    },
    {
      "cell_type": "code",
      "execution_count": null,
      "metadata": {
        "colab": {
          "base_uri": "https://localhost:8080/"
        },
        "id": "jbXwMbQrlDAY",
        "outputId": "8bfba21d-3953-487f-aa5b-f9f5922e28c1"
      },
      "outputs": [
        {
          "output_type": "stream",
          "name": "stdout",
          "text": [
            "Looking in indexes: https://pypi.org/simple, https://us-python.pkg.dev/colab-wheels/public/simple/\n",
            "Collecting bio\n",
            "  Downloading bio-1.5.9-py3-none-any.whl (276 kB)\n",
            "\u001b[2K     \u001b[90m━━━━━━━━━━━━━━━━━━━━━━━━━━━━━━━━━━━━━━\u001b[0m \u001b[32m276.4/276.4 kB\u001b[0m \u001b[31m10.3 MB/s\u001b[0m eta \u001b[36m0:00:00\u001b[0m\n",
            "\u001b[?25hCollecting biopython>=1.80 (from bio)\n",
            "  Downloading biopython-1.81-cp310-cp310-manylinux_2_17_x86_64.manylinux2014_x86_64.whl (3.1 MB)\n",
            "\u001b[2K     \u001b[90m━━━━━━━━━━━━━━━━━━━━━━━━━━━━━━━━━━━━━━━━\u001b[0m \u001b[32m3.1/3.1 MB\u001b[0m \u001b[31m31.4 MB/s\u001b[0m eta \u001b[36m0:00:00\u001b[0m\n",
            "\u001b[?25hRequirement already satisfied: requests in /usr/local/lib/python3.10/dist-packages (from bio) (2.27.1)\n",
            "Requirement already satisfied: tqdm in /usr/local/lib/python3.10/dist-packages (from bio) (4.65.0)\n",
            "Collecting mygene (from bio)\n",
            "  Downloading mygene-3.2.2-py2.py3-none-any.whl (5.4 kB)\n",
            "Requirement already satisfied: pandas in /usr/local/lib/python3.10/dist-packages (from bio) (1.5.3)\n",
            "Requirement already satisfied: pooch in /usr/local/lib/python3.10/dist-packages (from bio) (1.6.0)\n",
            "Collecting gprofiler-official (from bio)\n",
            "  Downloading gprofiler_official-1.0.0-py3-none-any.whl (9.3 kB)\n",
            "Requirement already satisfied: numpy in /usr/local/lib/python3.10/dist-packages (from biopython>=1.80->bio) (1.22.4)\n",
            "Collecting biothings-client>=0.2.6 (from mygene->bio)\n",
            "  Downloading biothings_client-0.3.0-py2.py3-none-any.whl (29 kB)\n",
            "Requirement already satisfied: python-dateutil>=2.8.1 in /usr/local/lib/python3.10/dist-packages (from pandas->bio) (2.8.2)\n",
            "Requirement already satisfied: pytz>=2020.1 in /usr/local/lib/python3.10/dist-packages (from pandas->bio) (2022.7.1)\n",
            "Requirement already satisfied: appdirs>=1.3.0 in /usr/local/lib/python3.10/dist-packages (from pooch->bio) (1.4.4)\n",
            "Requirement already satisfied: packaging>=20.0 in /usr/local/lib/python3.10/dist-packages (from pooch->bio) (23.1)\n",
            "Requirement already satisfied: urllib3<1.27,>=1.21.1 in /usr/local/lib/python3.10/dist-packages (from requests->bio) (1.26.16)\n",
            "Requirement already satisfied: certifi>=2017.4.17 in /usr/local/lib/python3.10/dist-packages (from requests->bio) (2023.5.7)\n",
            "Requirement already satisfied: charset-normalizer~=2.0.0 in /usr/local/lib/python3.10/dist-packages (from requests->bio) (2.0.12)\n",
            "Requirement already satisfied: idna<4,>=2.5 in /usr/local/lib/python3.10/dist-packages (from requests->bio) (3.4)\n",
            "Requirement already satisfied: six>=1.5 in /usr/local/lib/python3.10/dist-packages (from python-dateutil>=2.8.1->pandas->bio) (1.16.0)\n",
            "Installing collected packages: biopython, gprofiler-official, biothings-client, mygene, bio\n",
            "Successfully installed bio-1.5.9 biopython-1.81 biothings-client-0.3.0 gprofiler-official-1.0.0 mygene-3.2.2\n",
            "Looking in indexes: https://pypi.org/simple, https://us-python.pkg.dev/colab-wheels/public/simple/\n",
            "Requirement already satisfied: scipy in /usr/local/lib/python3.10/dist-packages (1.10.1)\n",
            "Requirement already satisfied: numpy<1.27.0,>=1.19.5 in /usr/local/lib/python3.10/dist-packages (from scipy) (1.22.4)\n"
          ]
        }
      ],
      "source": [
        "#imports\n",
        "!pip install bio --upgrade\n",
        "!pip install scipy"
      ]
    },
    {
      "cell_type": "code",
      "source": [
        "#imports for timing things\n",
        "!pip install line_profiler\n",
        "%load_ext line_profiler"
      ],
      "metadata": {
        "colab": {
          "base_uri": "https://localhost:8080/"
        },
        "id": "ygSlwLXZOlhE",
        "outputId": "c4d96ea6-8475-4749-9b01-7deeb0ed5272"
      },
      "execution_count": null,
      "outputs": [
        {
          "output_type": "stream",
          "name": "stdout",
          "text": [
            "Looking in indexes: https://pypi.org/simple, https://us-python.pkg.dev/colab-wheels/public/simple/\n",
            "Collecting line_profiler\n",
            "  Downloading line_profiler-4.0.3-cp310-cp310-manylinux_2_17_x86_64.manylinux2014_x86_64.whl (661 kB)\n",
            "\u001b[2K     \u001b[90m━━━━━━━━━━━━━━━━━━━━━━━━━━━━━━━━━━━━━━\u001b[0m \u001b[32m661.9/661.9 kB\u001b[0m \u001b[31m13.4 MB/s\u001b[0m eta \u001b[36m0:00:00\u001b[0m\n",
            "\u001b[?25hInstalling collected packages: line_profiler\n",
            "Successfully installed line_profiler-4.0.3\n"
          ]
        }
      ]
    },
    {
      "cell_type": "code",
      "source": [
        "import sys\n",
        "import glob\n",
        "import math\n",
        "import argparse\n",
        "import numpy as np\n",
        "import matplotlib as mpl\n",
        "import matplotlib.pyplot as plt\n",
        "import matplotlib.ticker as pltticker\n",
        "from matplotlib.patches import Rectangle\n",
        "import csv\n",
        "from matplotlib import colors\n",
        "import re\n",
        "import pandas as pd\n",
        "from numpy import savetxt\n",
        "from sklearn.linear_model import LinearRegression\n",
        "from statistics import mean\n",
        "import statsmodels.api as sm\n",
        "from Bio.Data.IUPACData import protein_letters_1to3 as one2three\n",
        "import scipy.optimize as spo\n",
        "from pandas.core.internals.construction import ma"
      ],
      "metadata": {
        "id": "QdhKhzmOlO1v"
      },
      "execution_count": null,
      "outputs": []
    },
    {
      "cell_type": "code",
      "source": [
        "#works to load information in variables before the program\n",
        "\n",
        "fwhm = 1.5  # Full width at half maximum\n",
        "# Calculate the standard deviation from the FWHM\n",
        "c = fwhm / (2 * np.sqrt(2 * np.log(2)))\n",
        "\n",
        "def get_row_floats(data, row):\n",
        "  return list(map(lambda x: float(x[row]), data))\n",
        "\n",
        "xArray = []\n",
        "for i in range(68):\n",
        "  b = i / 4 + 54\n",
        "  xArray.append(np.linspace(b - 3 * c, b + 3 * c, 100))\n",
        "\n",
        "oData = []\n",
        "data = []\n",
        "with open(\"T_10K.out\", mode=\"r\") as infile: #open data file and read contents\n",
        "  reader = csv.reader(infile, delimiter=\"\\n\")\n",
        "  for row in reader:\n",
        "    if len(row) == 1:\n",
        "      data.append(re.split('\\t', row[0])[2:])\n",
        "    else:\n",
        "      data.append(row)\n",
        "\n",
        "tempData = []\n",
        "for i in range(6):\n",
        "  tempData.append(np.array(get_row_floats(data[1:], i)))\n",
        "\n",
        "oData.append(tempData)\n",
        "\n",
        "data = []\n",
        "tempData = []\n",
        "count = 0\n",
        "with open(\"nanodisc.csv\", mode=\"r\") as infile: #open data file and read contents\n",
        "  chunk_size = 1000\n",
        "  while True:\n",
        "      chunk = infile.readlines(chunk_size)\n",
        "      if not chunk:\n",
        "        break\n",
        "      for line in chunk:\n",
        "        reader = csv.reader(infile)\n",
        "        for row in reader:\n",
        "          count += 1\n",
        "          if len(row) == 1:\n",
        "            tempData.append(re.split(r',', row[0]))\n",
        "          else:\n",
        "            tempData.append(row)\n",
        "\n",
        "data.append(get_row_floats(tempData,0))\n",
        "data.append(get_row_floats(tempData,2))\n",
        "\n",
        "oData.append(data)\n",
        "\n",
        "DATAINPUT = oData"
      ],
      "metadata": {
        "id": "uAosrkRIlXzx"
      },
      "execution_count": null,
      "outputs": []
    },
    {
      "cell_type": "code",
      "source": [],
      "metadata": {
        "id": "GDvWP__4Taee"
      },
      "execution_count": null,
      "outputs": []
    },
    {
      "cell_type": "code",
      "source": [
        "def main(inData, aa, rangeChoices):\n",
        "  aa1 = aa\n",
        "\n",
        "  phi = inData[0][0]\n",
        "  psi = inData[0][1]\n",
        "  ca = inData[0][2]\n",
        "  cb = inData[0][3]\n",
        "  c = inData[0][4]\n",
        "  n = inData[0][5]\n",
        "\n",
        "\n",
        "\n",
        "  ca_exp = inData[1][0] #def x as Ca shift\n",
        "  intensity = inData[1][1]\n",
        "\n",
        "\n",
        "\n",
        "  atom_key={\n",
        "            \"ca\":0,\n",
        "            \"cb\":1,\n",
        "            \"co\":2,\n",
        "            \"n\":3,\n",
        "          }\n",
        "\n",
        "  nonCys_nonGly_aas={\"A\", \"D\", \"E\", \"F\", \"H\", \"I\", \"K\", \"L\", \"M\",\n",
        "                    \"N\", \"P\", \"Q\", \"R\", \"S\", \"T\", \"V\", \"Y\", \"W\"}\n",
        "\n",
        "  nonCys_aas={\"A\", \"D\", \"E\", \"F\", \"G\", \"H\", \"I\", \"K\", \"L\", \"M\",\n",
        "              \"N\", \"P\", \"Q\", \"R\", \"S\", \"T\", \"V\", \"Y\", \"W\"}\n",
        "\n",
        "  na=np.nan\n",
        "\n",
        "  aa_spec_ranges={ #ranges of interest for chemical shifts\n",
        "                  #aa1 Ca      Cb      C         N\n",
        "                  # Ca & Cb adjusted to 17ppm to match Fig5\n",
        "                 'A':[[11,28],[203,234],[170,184],[112,133]],\n",
        "                  'R':[[47,64],[22,39],[169,183],[112,133]],\n",
        "                  'N':[[44,61],[30,47],[168,182],[106,127]],\n",
        "                  'D':[[45,62],[33,50],[169,183],[109,130]],\n",
        "  #               'C':[[50,67],[22,39],[168,182],[105,126]],\n",
        "                  'Q':[[47,64],[22,39],[169,183],[108,129]],\n",
        "                  'E':[[49,66],[22,39],[169,183],[109,130]],\n",
        "                  'G':[[36,53],[203,234],[167,181],[ 98,119]],\n",
        "                  'H':[[49,66],[23,40],[168,182],[107,128]],\n",
        "                  'I':[[54,71],[31,48],[168,182],[109,130]],\n",
        "                  'L':[[45,62],[33,50],[170,184],[110,131]],\n",
        "                  'K':[[49,66],[26,43],[169,183],[109,130]],\n",
        "                  'M':[[47,64],[26,43],[169,183],[108,129]],\n",
        "                  'F':[[50,67],[31,48],[168,182],[107,128]],\n",
        "                  'P':[[57,74],[25,42],[170,184],[ na, na]],\n",
        "                  'S':[[50,67],[105,139],[55,72],[167,181],[104,125]],\n",
        "                  'T':[[54,71],[104,138],[60,77],[168,182],[102,123]],\n",
        "                  'W':[[48,65],[21,38],[169,183],[109,130]],\n",
        "                  'Y':[[50,67],[30,47],[168,182],[108,129]],\n",
        "                  'V':[[54,71],[25,42],[169,183],[108,129]],\n",
        "                  }\n",
        "\n",
        "  ####Changed this part####\n",
        "  rchoice = rangeChoices\n",
        "\n",
        "  ### extract plot subregions ###\n",
        "  # \"r\" stands for ramachandran\n",
        "  # regions: beta-strand, polyproline helix ii\n",
        "  #          beta-turn I, alpha-helix,\n",
        "  #          left handed helix (all phi > 0)\n",
        "  # !!! top and left corner are always >= or <=\n",
        "  #     unless they reach the bottom/right axis\n",
        "  #     (i.e. betaB, ppiiB, left)\n",
        "\n",
        "  #filter beta regions\n",
        "  mask1 = np.logical_and(phi >= rchoice['rbetaA'][0], phi <= rchoice['rbetaA'][1])\n",
        "  mask1 = np.logical_and(mask1, psi >= rchoice['rbetaA'][2])\n",
        "  mask1 = np.logical_and(mask1, psi <= rchoice['rbetaA'][3])\n",
        "\n",
        "  mask2 = np.logical_and(phi >= rchoice['rbetaB'][0], phi <= rchoice['rbetaB'][1])\n",
        "  mask2 = np.logical_and(mask2, psi >= rchoice['rbetaB'][2])\n",
        "  mask2 = np.logical_and(mask2, psi <= rchoice['rbetaB'][3])\n",
        "\n",
        "  mask = np.logical_or(mask1, mask2)\n",
        "\n",
        "  data_beta_ca = ca[mask]\n",
        "  data_beta_cb = cb[mask]\n",
        "  data_beta_c = c[mask]\n",
        "  data_beta_n = n[mask]\n",
        "\n",
        "  #filter ppii regions\n",
        "  mask1 = np.logical_and(phi >= rchoice['rppiiA'][0], phi <= rchoice['rppiiA'][1])\n",
        "  mask1 = np.logical_and(mask1, psi >= rchoice['rppiiA'][2])\n",
        "  mask1 = np.logical_and(mask1, psi <= rchoice['rppiiA'][3])\n",
        "\n",
        "  mask2 = np.logical_and(phi >= rchoice['rppiiB'][0], phi <= rchoice['rppiiB'][1])\n",
        "  mask2 = np.logical_and(mask2, psi >= rchoice['rppiiB'][2])\n",
        "  mask2 = np.logical_and(mask2, psi <= rchoice['rppiiB'][3])\n",
        "\n",
        "  mask = np.logical_or(mask1, mask2)\n",
        "\n",
        "  data_ppii_ca = ca[mask]\n",
        "  data_ppii_cb = cb[mask]\n",
        "  data_ppii_c = c[mask]\n",
        "  data_ppii_n = n[mask]\n",
        "\n",
        "  #filter ddgg\n",
        "  mask = np.logical_and(phi >= rchoice['rdelta'][0], phi <= rchoice['rdelta'][1])\n",
        "  mask = np.logical_and(mask, psi >= rchoice['rdelta'][2])\n",
        "  mask = np.logical_and(mask, psi <= rchoice['rdelta'][3])\n",
        "\n",
        "  data_ddgg_ca = ca[mask]\n",
        "  data_ddgg_cb = cb[mask]\n",
        "  data_ddgg_c = c[mask]\n",
        "  data_ddgg_n = n[mask]\n",
        "\n",
        "  #filter turn\n",
        "  mask1 = np.logical_and(phi >= rchoice['rturnI'][0], phi < rchoice['ralpha'][0])\n",
        "  mask1 = np.logical_and(mask1, psi >= rchoice['rturnI'][2])\n",
        "  mask1 = np.logical_and(mask1, psi <= rchoice['rturnI'][3])\n",
        "\n",
        "  mask2 = np.logical_and(phi >= rchoice['ralpha'][1], phi < rchoice['rturnI'][1])\n",
        "  mask2 = np.logical_and(mask2, psi >= rchoice['rturnI'][2])\n",
        "  mask2 = np.logical_and(mask2, psi <= rchoice['rturnI'][3])\n",
        "\n",
        "  mask3 = np.logical_and(phi >= rchoice['ralpha'][0], phi < rchoice['ralpha'][1])\n",
        "  mask3 = np.logical_and(mask3, psi >= rchoice['rturnI'][2])\n",
        "  mask3 = np.logical_and(mask3, psi <= rchoice['ralpha'][2])\n",
        "\n",
        "  mask4 = np.logical_and(phi >= rchoice['ralpha'][0], phi < rchoice['ralpha'][1])\n",
        "  mask4 = np.logical_and(mask4, psi > rchoice['ralpha'][3])\n",
        "  mask4 = np.logical_and(mask4, psi <= rchoice['rturnI'][3])\n",
        "\n",
        "  mask = np.logical_or(mask1, np.logical_or(mask2, np.logical_or(mask3, mask4)))\n",
        "  data_turn_ca = ca[mask]\n",
        "  data_turn_cb = cb[mask]\n",
        "  data_turn_c = c[mask]\n",
        "  data_turn_n = n[mask]\n",
        "\n",
        "  #filter alph\n",
        "  mask = np.logical_and(phi >= rchoice['ralpha'][0], phi < rchoice['ralpha'][1])\n",
        "  mask = np.logical_and(mask, psi > rchoice['ralpha'][2])\n",
        "  mask = np.logical_and(mask, psi <= rchoice['ralpha'][3])\n",
        "\n",
        "  data_alph_ca = ca[mask]\n",
        "  data_alph_cb = cb[mask]\n",
        "  data_alph_c = c[mask]\n",
        "  data_alph_n = n[mask]\n",
        "\n",
        "  #filter left\n",
        "  mask = np.logical_and(phi >= rchoice['rlhelx'][0], phi <= rchoice['rlhelx'][1])\n",
        "  mask = np.logical_and(mask, psi >= rchoice['rlhelx'][2])\n",
        "  mask = np.logical_and(mask, psi <= rchoice['rlhelx'][3])\n",
        "\n",
        "  data_left_ca = ca[mask]\n",
        "  data_left_cb = cb[mask]\n",
        "  data_left_c = c[mask]\n",
        "  data_left_n = n[mask]\n",
        "\n",
        "  #filter zeta gamma\n",
        "  mask = np.logical_and(phi >= rchoice['rzetag'][0], phi <= rchoice['rzetag'][1])\n",
        "  mask = np.logical_and(mask, psi >= rchoice['rzetag'][2])\n",
        "  mask = np.logical_and(mask, psi <= rchoice['rzetag'][3])\n",
        "\n",
        "  data_zeta_ca = ca[mask]\n",
        "  data_zeta_cb = cb[mask]\n",
        "  data_zeta_c = c[mask]\n",
        "  data_zeta_n = n[mask]\n",
        "\n",
        "  # create dictionaries of data sets\n",
        "\n",
        "  cs_ca = ({'beta': data_beta_ca,\n",
        "            'ppii': data_ppii_ca,\n",
        "            'ddgg': data_ddgg_ca,\n",
        "            'left': data_left_ca,\n",
        "            'turn': data_turn_ca,\n",
        "            'alph': data_alph_ca,\n",
        "            'zeta': data_zeta_ca,\n",
        "            })\n",
        "  cs_cb = ({'beta': data_beta_cb,\n",
        "            'ppii': data_ppii_cb,\n",
        "            'ddgg': data_ddgg_cb,\n",
        "            'left': data_left_cb,\n",
        "            'turn': data_turn_cb,\n",
        "            'alph': data_alph_cb,\n",
        "            'zeta': data_zeta_cb\n",
        "            })\n",
        "  cs_co = ({'beta': data_beta_c,\n",
        "            'ppii': data_ppii_c,\n",
        "            'ddgg': data_ddgg_c,\n",
        "            'left': data_left_c,\n",
        "            'turn': data_turn_c,\n",
        "            'alph': data_alph_c,\n",
        "            'zeta': data_zeta_c\n",
        "            })\n",
        "\n",
        "  cs_all = {'ca':cs_ca,\n",
        "            'cb':cs_cb,\n",
        "            'c' :cs_co,\n",
        "            }\n",
        "\n",
        "  bin_width=0.25\n",
        "  mtick_spacing=5\n",
        "  #fig, axs = plt.subplots(1, 1, sharey=False, tight_layout=True,figsize=(10,10)) #35826579\n",
        "\n",
        "  x_lims = np.array(aa_spec_ranges[aa1][0])\n",
        "  y_lims = np.array(aa_spec_ranges[aa1][1])\n",
        "  x_edges = np.arange(x_lims[0],x_lims[1]+bin_width,bin_width) #create an array from one limit to the next using bin widths\n",
        "  y_edges=np.arange(y_lims[0],y_lims[1]+bin_width,bin_width)\n",
        "  hw=bin_width/2\n",
        "  center_bins_x=np.arange(x_lims[0]+hw,x_lims[1]+hw,bin_width)\n",
        "  center_bins_y=np.arange(y_lims[0]+hw,y_lims[1]+hw,bin_width)\n",
        "  inputs = []\n",
        "  h_lists = []\n",
        "  h_list = []\n",
        "  c = fwhm / (2 * np.sqrt(2 * np.log(2)))\n",
        "\n",
        "  for key in cs_ca:\n",
        "    H, bins = np.histogram(cs_ca[key],bins=(x_edges),density=False)\n",
        "    for j in range(len(H)):\n",
        "      a = H[j]  # Maximum value\n",
        "      b = bins[j]  # Peak position\n",
        "\n",
        "      x = xArray[round(b*4-216)]\n",
        "\n",
        "      # Calculate the y values for the curve using the Gaussian function\n",
        "      y = a * np.exp(-(x - b)**2 / (2 * c**2))\n",
        "      histogram, bins = np.histogram(x, bins=x_edges, density=False, weights = y)\n",
        "      h_list.append(histogram)\n",
        "    h_lists = sum(h_list)\n",
        "    inputs.append(h_lists)\n",
        "    #h_lists = []\n",
        "  #print(inputs)\n",
        "  H_exp, bins = np.histogram(ca_exp,bins=(x_edges),density=False)\n",
        "  target = (H_exp)\n",
        "\n",
        "  tempSet = set(inputs)\n",
        "  inputs = list(tempSet)\n",
        "\n",
        "  data = {}\n",
        "  for i in range(len(inputs)):\n",
        "    data[f'x{i+1}'] = list(inputs[i])\n",
        "  data['y'] = list(target)\n",
        "\n",
        "  \"\"\"hists1 = (inputs[0])\n",
        "  hists2 = (inputs[1])\n",
        "  hists3 = (inputs[2])\n",
        "  hists4 = (inputs[3])\n",
        "  hists5 = (inputs[4])\n",
        "  hists6 = (inputs[5])\n",
        "  hists7 = (inputs[6])\n",
        "  #print(np.shape(inputs),len(inputs[0]),len(target))\n",
        "  data = {'x1': list(hists1), 'x2': list(hists2), 'x3': list(hists3), 'x4':list(hists4), 'x5': list(hists5), 'x6':list(hists6), 'x7':list(hists7), 'y': list(target)}\"\"\"\n",
        "\n",
        "  df = pd.DataFrame(data)\n",
        "  x = df.drop('y', axis=1)\n",
        "  y = df['y']\n",
        "\n",
        "  model = sm.GLS(y,x)\n",
        "  results = model.fit()\n",
        "  return results\n",
        "\n",
        "\n"
      ],
      "metadata": {
        "id": "Mr287Mxvlir8"
      },
      "execution_count": null,
      "outputs": []
    },
    {
      "cell_type": "code",
      "source": [
        "def func3P(dict):\n",
        "  r = main(DATAINPUT, \"T\", dict)\n",
        "  #print(r.summary())\n",
        "anotherdict = {'rbetaA': (-180.0, -77.24, 154.55, 180.0),\n",
        "'rppiiA': (-77.24, 0, 154.55, 180.0),\n",
        "'rzetag': (-180, 0, 60.45, 154.55),\n",
        "'rdelta': (-180.0, 0, -41.04, 60.45),\n",
        "'rturnI': (-180.0, 0, -162.7, -41.04),\n",
        "'ralpha': (-40.21, -29.92, -80.25, -51.14),\n",
        "'rbetaB': (-180.0, -112.55, -180.0, -162.7),\n",
        "'rppiiB': (-112.55, 0, -180.0, -162.7),\n",
        "'rlhelx': (0, 180.0, -180.0, 180.0)}\n",
        "\n",
        "func3P(anotherdict)"
      ],
      "metadata": {
        "id": "mEI2drw8iRKN",
        "colab": {
          "base_uri": "https://localhost:8080/",
          "height": 330
        },
        "outputId": "bff8d201-11e1-43b6-c88e-1ee393663a1a"
      },
      "execution_count": null,
      "outputs": [
        {
          "output_type": "error",
          "ename": "NameError",
          "evalue": "ignored",
          "traceback": [
            "\u001b[0;31m---------------------------------------------------------------------------\u001b[0m",
            "\u001b[0;31mNameError\u001b[0m                                 Traceback (most recent call last)",
            "\u001b[0;32m<ipython-input-2-82a3ef1b962b>\u001b[0m in \u001b[0;36m<cell line: 14>\u001b[0;34m()\u001b[0m\n\u001b[1;32m     12\u001b[0m 'rlhelx': (0, 180.0, -180.0, 180.0)}\n\u001b[1;32m     13\u001b[0m \u001b[0;34m\u001b[0m\u001b[0m\n\u001b[0;32m---> 14\u001b[0;31m \u001b[0mfunc3P\u001b[0m\u001b[0;34m(\u001b[0m\u001b[0manotherdict\u001b[0m\u001b[0;34m)\u001b[0m\u001b[0;34m\u001b[0m\u001b[0;34m\u001b[0m\u001b[0m\n\u001b[0m",
            "\u001b[0;32m<ipython-input-2-82a3ef1b962b>\u001b[0m in \u001b[0;36mfunc3P\u001b[0;34m(dict)\u001b[0m\n\u001b[1;32m      1\u001b[0m \u001b[0;32mdef\u001b[0m \u001b[0mfunc3P\u001b[0m\u001b[0;34m(\u001b[0m\u001b[0mdict\u001b[0m\u001b[0;34m)\u001b[0m\u001b[0;34m:\u001b[0m\u001b[0;34m\u001b[0m\u001b[0;34m\u001b[0m\u001b[0m\n\u001b[0;32m----> 2\u001b[0;31m   \u001b[0mr\u001b[0m \u001b[0;34m=\u001b[0m \u001b[0mmain\u001b[0m\u001b[0;34m(\u001b[0m\u001b[0mDATAINPUT\u001b[0m\u001b[0;34m,\u001b[0m \u001b[0;34m\"T\"\u001b[0m\u001b[0;34m,\u001b[0m \u001b[0mdict\u001b[0m\u001b[0;34m)\u001b[0m\u001b[0;34m\u001b[0m\u001b[0;34m\u001b[0m\u001b[0m\n\u001b[0m\u001b[1;32m      3\u001b[0m   \u001b[0;31m#print(r.summary())\u001b[0m\u001b[0;34m\u001b[0m\u001b[0;34m\u001b[0m\u001b[0m\n\u001b[1;32m      4\u001b[0m anotherdict = {'rbetaA': (-180.0, -77.24, 154.55, 180.0),\n\u001b[1;32m      5\u001b[0m \u001b[0;34m'rppiiA'\u001b[0m\u001b[0;34m:\u001b[0m \u001b[0;34m(\u001b[0m\u001b[0;34m-\u001b[0m\u001b[0;36m77.24\u001b[0m\u001b[0;34m,\u001b[0m \u001b[0;36m0\u001b[0m\u001b[0;34m,\u001b[0m \u001b[0;36m154.55\u001b[0m\u001b[0;34m,\u001b[0m \u001b[0;36m180.0\u001b[0m\u001b[0;34m)\u001b[0m\u001b[0;34m,\u001b[0m\u001b[0;34m\u001b[0m\u001b[0;34m\u001b[0m\u001b[0m\n",
            "\u001b[0;31mNameError\u001b[0m: name 'DATAINPUT' is not defined"
          ]
        }
      ]
    },
    {
      "cell_type": "code",
      "source": [
        "#makes a matplotlib rectangle object based on the coordinates of each corner.\n",
        "def makeRect(s, c):\n",
        "  return Rectangle((s[0], s[2]), s[1]-s[0], s[3]-s[2], color = c)\n",
        "\n",
        "#takes a dictionary and plots all of the various rectangles\n",
        "def visualizeRectangles(d, r2):\n",
        "  fix, ax = plt.subplots()\n",
        "  ax.add_patch(makeRect(d['rbetaA'], \"#1a1b63\"))\n",
        "  ax.add_patch(makeRect(d['rbetaB'], \"#1a1b63\"))\n",
        "\n",
        "  ax.add_patch(makeRect(d['rdelta'], \"#b0e0fd\"))\n",
        "\n",
        "  ax.add_patch(makeRect(d['rturnI'], \"#edaa38\"))\n",
        "  ax.add_patch(makeRect(d['ralpha'], \"#a60002\"))\n",
        "\n",
        "  ax.add_patch(makeRect(d['rppiiA'], \"#5e93da\"))\n",
        "  ax.add_patch(makeRect(d['rppiiB'], \"#5e93da\"))\n",
        "\n",
        "  ax.add_patch(makeRect(d['rlhelx'], \"#f3e6b7\"))\n",
        "\n",
        "  ax.add_patch(makeRect(d['rzetag'], \"#004225\"))\n",
        "\n",
        "  bound = 200\n",
        "  ax.set(xlim = (-1 * bound, bound), ylim = (-1*bound, bound))\n",
        "  plt.title(f\"R^2: {round(r2, 3)}\")\n",
        "  plt.show()"
      ],
      "metadata": {
        "id": "WTu9WqZIZjs9"
      },
      "execution_count": null,
      "outputs": []
    },
    {
      "cell_type": "code",
      "source": [
        "#new code starts here\n",
        "def returnDict2(params):\n",
        "  topSep = params[0]\n",
        "  topH = params[1]\n",
        "  topMH = params[2]\n",
        "  botMH = params[3]\n",
        "  botSep = params[4]\n",
        "  botH = params[5]\n",
        "  boxL1 = params[6]\n",
        "  boxL2 = params[7]\n",
        "  boxH1 = params[8]\n",
        "  boxH2 = params[9]\n",
        "  L = 0\n",
        "  return {\n",
        "      #upper left\n",
        "      'rbetaA':(-180.0, topSep, topH, 180.0),\n",
        "      'rppiiA':( topSep,   L, topH, 180.0),\n",
        "\n",
        "      #higher middle\n",
        "      'rzetag':(-180, L,   topMH,   topH),\n",
        "\n",
        "      #Middle\n",
        "      'rdelta':(-180.0,   L,  botMH, topMH),\n",
        "\n",
        "      #large middle box\n",
        "      'rturnI':(-180.0,   L, botH,  botMH), # turn is wider alpha\n",
        "\n",
        "      #smaller tiny box\n",
        "      'ralpha':(boxL1, boxL2, boxH1, boxH2), # alph is strictly alpha\n",
        "\n",
        "      #bottom left\n",
        "      'rbetaB':(-180.0, botSep,-180.0, botH),\n",
        "      'rppiiB':(botSep,    L,-180.0, botH),\n",
        "\n",
        "      'rlhelx':(   L, 180.0,-180.0, 180.0),\n",
        "  }\n",
        "\n",
        "def func2(params):\n",
        "  #topSep, topH, middleH, botSep, botH\n",
        "  theDict = returnDict2(params)\n",
        "  r = main(DATAINPUT, \"T\", theDict)\n",
        "  #r.summary()\n",
        "  return r.rsquared * -1"
      ],
      "metadata": {
        "id": "9AsG_IsalvvF"
      },
      "execution_count": null,
      "outputs": []
    },
    {
      "cell_type": "code",
      "source": [
        "def analyzeResults(result):\n",
        "  if result[1] < result[2]:\n",
        "    print('zetag/gamma separator is above betaA+ppiiA/zetag separator, make *aab* higher or *aac* lower')\n",
        "    return False\n",
        "\n",
        "  if result[2] < result[3]:\n",
        "    print('delta/turn separator above zetag/delta separator, make *aac* higher or *aad* lower')\n",
        "    return False\n",
        "\n",
        "  if result[3] < result[5]:\n",
        "    print('turn/betaB+ppiiB separator above delta/turn separator, make *aad* higher or *aaf* lower')\n",
        "    return False\n",
        "\n",
        "  if result[0] > 180:\n",
        "    print('betaA+ppiiA separator above 180, make *aab* lower')\n",
        "    return False\n",
        "\n",
        "  if result[5] < -180:\n",
        "    print('betaB/ppiiB separator below -180, make *aaf* higher')\n",
        "    return False\n",
        "\n",
        "  if result[6] < -180 or result[7] > 0:\n",
        "    print('alpha box is horizontally out of bounds, potentially bad')\n",
        "  if result[8] > result[3]:\n",
        "    print('alpha box is above turn, potentially bad')\n",
        "  if result[9] < result[5]:\n",
        "    print('alpha box is below turn, potentially bad')\n",
        "  return True"
      ],
      "metadata": {
        "id": "CZlpWMDmagmF"
      },
      "execution_count": null,
      "outputs": []
    },
    {
      "cell_type": "code",
      "source": [
        "\n",
        "def func2P(params):\n",
        "  #topSep, topH, middleH, botSep, botH\n",
        "  theDict = returnDict2(params)\n",
        "  r = main(DATAINPUT, \"T\", theDict)\n",
        "  #r.summary()\n",
        "  print(r.summary())\n",
        "  return r.rsquared * -1\n",
        "\n"
      ],
      "metadata": {
        "id": "Meya0euYfp--"
      },
      "execution_count": null,
      "outputs": []
    },
    {
      "cell_type": "code",
      "source": [
        "func2P([-77.24,154.55,60.45,-41.04,-112.55,-162.7,-40.21,-29.92,-80.25,-51.14]);"
      ],
      "metadata": {
        "id": "yq_9xHGXpO8N",
        "colab": {
          "base_uri": "https://localhost:8080/"
        },
        "outputId": "53d10364-d3bd-42e8-aacf-27602c242b9b"
      },
      "execution_count": null,
      "outputs": [
        {
          "output_type": "stream",
          "name": "stdout",
          "text": [
            "                                 GLS Regression Results                                \n",
            "=======================================================================================\n",
            "Dep. Variable:                      y   R-squared (uncentered):                   0.628\n",
            "Model:                            GLS   Adj. R-squared (uncentered):              0.592\n",
            "Method:                 Least Squares   F-statistic:                              17.43\n",
            "Date:                Mon, 26 Jun 2023   Prob (F-statistic):                    1.07e-11\n",
            "Time:                        18:36:22   Log-Likelihood:                         -137.03\n",
            "No. Observations:                  68   AIC:                                      286.1\n",
            "Df Residuals:                      62   BIC:                                      299.4\n",
            "Df Model:                           6                                                  \n",
            "Covariance Type:            nonrobust                                                  \n",
            "==============================================================================\n",
            "                 coef    std err          t      P>|t|      [0.025      0.975]\n",
            "------------------------------------------------------------------------------\n",
            "x1             0.0012      0.001      1.232      0.222      -0.001       0.003\n",
            "x2            -0.0008      0.001     -0.658      0.513      -0.003       0.002\n",
            "x3            -0.0015      0.005     -0.289      0.773      -0.012       0.009\n",
            "x4            -0.0018      0.005     -0.360      0.720      -0.012       0.008\n",
            "x5             0.0014      0.000      3.480      0.001       0.001       0.002\n",
            "x6             0.0014      0.000      3.480      0.001       0.001       0.002\n",
            "x7             0.0004      0.000      1.567      0.122      -0.000       0.001\n",
            "==============================================================================\n",
            "Omnibus:                      144.741   Durbin-Watson:                   0.045\n",
            "Prob(Omnibus):                  0.000   Jarque-Bera (JB):                7.382\n",
            "Skew:                           0.165   Prob(JB):                       0.0249\n",
            "Kurtosis:                       1.420   Cond. No.                     8.59e+17\n",
            "==============================================================================\n",
            "\n",
            "Notes:\n",
            "[1] R² is computed without centering (uncentered) since the model does not contain a constant.\n",
            "[2] Standard Errors assume that the covariance matrix of the errors is correctly specified.\n",
            "[3] The smallest eigenvalue is 2.59e-26. This might indicate that there are\n",
            "strong multicollinearity problems or that the design matrix is singular.\n"
          ]
        }
      ]
    },
    {
      "cell_type": "markdown",
      "source": [
        "# Relevant part\n"
      ],
      "metadata": {
        "id": "Ymf5hcIVjyX4"
      }
    },
    {
      "cell_type": "code",
      "source": [
        "###############CHANGE THESE###############\n",
        "\n",
        "#vertical separator between betaA and ppiiA\n",
        "aaa = -77.31\n",
        "#horizontal separator between betaA+ppiiA and zeta/gamma\n",
        "aab = 154.64\n",
        "\n",
        "#horizontal separator between zeta/gamma and delta\n",
        "aac = 60\n",
        "#horizontal separator between delta and turn\n",
        "aad = -41\n",
        "\n",
        "#vertical separator between betaB and ppiiB\n",
        "aae = -112\n",
        "#horizontal separator between turn and betaB+ppiiB\n",
        "aaf = -161\n",
        "\n",
        "##All of these are for the alpha helix (tiny red box) section\n",
        "#left bound\n",
        "aag = -40\n",
        "#right bound\n",
        "aah = -30\n",
        "#bottom bound\n",
        "aai = -80\n",
        "#top bound\n",
        "aaj = -51\n",
        "\n",
        "#############DON'T CHANGE PAST THIS##############\n",
        "\n",
        "guess = [aaa, aab, aac, aad, aae, aaf, aag, aah, aai, aaj]\n",
        "result = spo.minimize(func2, guess,  method = 'Nelder-Mead')\n",
        "\n",
        "#checks if results are valid boxes\n",
        "if not analyzeResults(result.x):\n",
        "  print(\"Invalid Results:\")\n",
        "\n",
        "\n",
        "print(f\"R^2 = {result.fun * -1}\")\n",
        "for a in result.x:\n",
        "  print(round(a, 2), end = ',')\n",
        "print()\n",
        "\n",
        "print(returnDict2(result.x))\n",
        "visualizeRectangles(returnDict2(result.x), (result.fun * -1))\n",
        "\n",
        "func2P(result.x)\n",
        "\n"
      ],
      "metadata": {
        "id": "EYm7n-zOmKZl",
        "colab": {
          "base_uri": "https://localhost:8080/",
          "height": 1000
        },
        "outputId": "e80665ad-f60d-4a90-897c-2ab67cb405d8"
      },
      "execution_count": null,
      "outputs": [
        {
          "output_type": "stream",
          "name": "stdout",
          "text": [
            "R^2 = 0.6955229867483885\n",
            "-76.8,169.81,51.99,-51.1,-104.49,-172.23,-39.57,-26.62,-77.13,-53.85,\n",
            "{'rbetaA': (-180.0, -76.80408965017523, 169.80870845791512, 180.0), 'rppiiA': (-76.80408965017523, 0, 169.80870845791512, 180.0), 'rzetag': (-180, 0, 51.98560244442456, 169.80870845791512), 'rdelta': (-180.0, 0, -51.09977304040835, 51.98560244442456), 'rturnI': (-180.0, 0, -172.23209531894375, -51.09977304040835), 'ralpha': (-39.574983433627146, -26.622800410917762, -77.1289326282625, -53.84712161823076), 'rbetaB': (-180.0, -104.49421796936058, -180.0, -172.23209531894375), 'rppiiB': (-104.49421796936058, 0, -180.0, -172.23209531894375), 'rlhelx': (0, 180.0, -180.0, 180.0)}\n"
          ]
        },
        {
          "output_type": "display_data",
          "data": {
            "text/plain": [
              "<Figure size 640x480 with 1 Axes>"
            ],
            "image/png": "[encoded data removed]"
          },
          "metadata": {}
        },
        {
          "output_type": "stream",
          "name": "stdout",
          "text": [
            "                                 GLS Regression Results                                \n",
            "=======================================================================================\n",
            "Dep. Variable:                      y   R-squared (uncentered):                   0.696\n",
            "Model:                            GLS   Adj. R-squared (uncentered):              0.666\n",
            "Method:                 Least Squares   F-statistic:                              23.60\n",
            "Date:                Mon, 26 Jun 2023   Prob (F-statistic):                    2.57e-14\n",
            "Time:                        18:36:54   Log-Likelihood:                         -130.20\n",
            "No. Observations:                  68   AIC:                                      272.4\n",
            "Df Residuals:                      62   BIC:                                      285.7\n",
            "Df Model:                           6                                                  \n",
            "Covariance Type:            nonrobust                                                  \n",
            "==============================================================================\n",
            "                 coef    std err          t      P>|t|      [0.025      0.975]\n",
            "------------------------------------------------------------------------------\n",
            "x1             0.0288      0.007      4.101      0.000       0.015       0.043\n",
            "x2            -0.0293      0.007     -4.131      0.000      -0.044      -0.015\n",
            "x3             0.0058      0.004      1.425      0.159      -0.002       0.014\n",
            "x4            -0.0223      0.005     -4.425      0.000      -0.032      -0.012\n",
            "x5             0.0084      0.001      6.523      0.000       0.006       0.011\n",
            "x6             0.0084      0.001      6.523      0.000       0.006       0.011\n",
            "x7             0.0002      0.000      0.947      0.348      -0.000       0.001\n",
            "==============================================================================\n",
            "Omnibus:                       33.449   Durbin-Watson:                   0.049\n",
            "Prob(Omnibus):                  0.000   Jarque-Bera (JB):                8.589\n",
            "Skew:                           0.577   Prob(JB):                       0.0136\n",
            "Kurtosis:                       1.697   Cond. No.                     5.95e+17\n",
            "==============================================================================\n",
            "\n",
            "Notes:\n",
            "[1] R² is computed without centering (uncentered) since the model does not contain a constant.\n",
            "[2] Standard Errors assume that the covariance matrix of the errors is correctly specified.\n",
            "[3] The smallest eigenvalue is 3.24e-26. This might indicate that there are\n",
            "strong multicollinearity problems or that the design matrix is singular.\n"
          ]
        },
        {
          "output_type": "execute_result",
          "data": {
            "text/plain": [
              "-0.6955229867483885"
            ]
          },
          "metadata": {},
          "execution_count": 12
        }
      ]
    },
    {
      "cell_type": "markdown",
      "source": [
        "# Irrelevant part again"
      ],
      "metadata": {
        "id": "kGLLDCJmj5m2"
      }
    },
    {
      "cell_type": "code",
      "source": [
        "print(returnDict2([-77.24,154.55,60.45,-41.04,-112.55,-162.7,-40.21,-29.92,-80.25,-51.14]))"
      ],
      "metadata": {
        "id": "hrJOmVAUnnI4",
        "colab": {
          "base_uri": "https://localhost:8080/"
        },
        "outputId": "6c610cc1-11da-4018-9957-b640c86f43e0"
      },
      "execution_count": null,
      "outputs": [
        {
          "output_type": "stream",
          "name": "stdout",
          "text": [
            "{'rbetaA': (-180.0, -77.24, 154.55, 180.0), 'rppiiA': (-77.24, 0, 154.55, 180.0), 'rzetag': (-180, 0, 60.45, 154.55), 'rdelta': (-180.0, 0, -41.04, 60.45), 'rturnI': (-180.0, 0, -162.7, -41.04), 'ralpha': (-40.21, -29.92, -80.25, -51.14), 'rbetaB': (-180.0, -112.55, -180.0, -162.7), 'rppiiB': (-112.55, 0, -180.0, -162.7), 'rlhelx': (0, 180.0, -180.0, 180.0)}\n"
          ]
        }
      ]
    },
    {
      "cell_type": "markdown",
      "source": [],
      "metadata": {
        "id": "CshO3mPHnm9H"
      }
    },
    {
      "cell_type": "code",
      "source": [
        "#location of:\n",
        "#vertical divider on top (x = -180:0), height of top section (y = 0:180), middle height (y = -90ish:90ish), vertical divider on bottom (x = -180:0), height of bottom section (y = -180)\n",
        "#top vertical divider, top height, beta sheet vs zeta gamma, zeta gamma to turn, bottom divider, bottom height, alpha left, alpha right, alpha bottom, alpha top\n",
        "#guess = [-80, 155, 120, 0, -80, -160, -40, -30, -100, -50]"
      ],
      "metadata": {
        "id": "atFn9_9UnvJk"
      },
      "execution_count": null,
      "outputs": []
    },
    {
      "cell_type": "code",
      "source": [
        "\"\"\"def returnDict(params):\n",
        "  topSep = params[0]\n",
        "  topH = params[1]\n",
        "  middleH = params[2]\n",
        "  botSep = params[3]\n",
        "  botH = params[4]\n",
        "  return {\n",
        "      #upper left\n",
        "      'rbetaA':(-180.0, topSep, topH, 180.0),\n",
        "      'rppiiA':( topSep,   0.0, topH, 180.0),\n",
        "\n",
        "      #Middle\n",
        "      'rdelta':(-180.0,   0.0,  middleH, 105.0),\n",
        "\n",
        "      #large middle box\n",
        "      'rturnI':(-180.0,   0.0, botH,  middleH), # turn is wider alpha\n",
        "\n",
        "      #smaller tiny box\n",
        "      'ralpha':(-40, -35, -100, -50), # alph is strictly alpha\n",
        "\n",
        "      #bottom left\n",
        "      'rbetaB':(-180.0, botSep,-180.0, botH),\n",
        "      'rppiiB':(botSep,    0.0,-180.0, botH),\n",
        "\n",
        "      'rlhelx':(   0.0, 180.0,-180.0, 180.0),\n",
        "\n",
        "      'rzetag':(-180,   0.0,   0.0,   120.0),\n",
        "  }\n",
        "def func(params):\n",
        "  #topSep, topH, middleH, botSep, botH\n",
        "  theDict = returnDict(params)\n",
        "  r = main(DATAINPUT, \"T\", theDict)\n",
        "  return r * -1\n",
        "#vertical divider on top (x = -180:0), height of top section (y = 0:180), middle height (y = -90ish:90ish), vertical divider on bottom (x = -180:0), height of bottom section (y = -180:0)\n",
        "guess = [-90, 150, 0, -90, -150]\n",
        "#bounds = ((-116, -114), (129, 131), (-21, -19), (-146, -144), (-61, -59))\n",
        "result = spo.minimize(func, guess, method = 'Nelder-Mead')\n",
        "#result = spo.basinhopping(func, guess)\n",
        "#print(result.x)\n",
        "print(f\"R^2 = {result.fun * -1}\")\n",
        "print(returnDict(result.x))\"\"\""
      ],
      "metadata": {
        "id": "Xw-L1XPymN7Z",
        "colab": {
          "base_uri": "https://localhost:8080/",
          "height": 125
        },
        "outputId": "495f63a5-59c9-43f8-e2d7-c459d31e8274"
      },
      "execution_count": null,
      "outputs": [
        {
          "output_type": "execute_result",
          "data": {
            "text/plain": [
              "'def returnDict(params):\\n  topSep = params[0]\\n  topH = params[1]\\n  middleH = params[2]\\n  botSep = params[3]\\n  botH = params[4]\\n  return {\\n      #upper left\\n      \\'rbetaA\\':(-180.0, topSep, topH, 180.0),\\n      \\'rppiiA\\':( topSep,   0.0, topH, 180.0),\\n\\n      #Middle\\n      \\'rdelta\\':(-180.0,   0.0,  middleH, 105.0),\\n\\n      #large middle box\\n      \\'rturnI\\':(-180.0,   0.0, botH,  middleH), # turn is wider alpha\\n\\n      #smaller tiny box\\n      \\'ralpha\\':(-40, -35, -100, -50), # alph is strictly alpha\\n\\n      #bottom left\\n      \\'rbetaB\\':(-180.0, botSep,-180.0, botH),\\n      \\'rppiiB\\':(botSep,    0.0,-180.0, botH),\\n\\n      \\'rlhelx\\':(   0.0, 180.0,-180.0, 180.0),\\n\\n      \\'rzetag\\':(-180,   0.0,   0.0,   120.0),\\n  }\\ndef func(params):\\n  #topSep, topH, middleH, botSep, botH\\n  theDict = returnDict(params)\\n  r = main(DATAINPUT, \"T\", theDict)\\n  return r * -1\\n#vertical divider on top (x = -180:0), height of top section (y = 0:180), middle height (y = -90ish:90ish), vertical divider on bottom (x = -180:0), height of bottom section (y = -180:0)\\nguess = [-90, 150, 0, -90, -150]\\n#bounds = ((-116, -114), (129, 131), (-21, -19), (-146, -144), (-61, -59))\\nresult = spo.minimize(func, guess, method = \\'Nelder-Mead\\')\\n#result = spo.basinhopping(func, guess)\\n#print(result.x)\\nprint(f\"R^2 = {result.fun * -1}\")\\nprint(returnDict(result.x))'"
            ],
            "application/vnd.google.colaboratory.intrinsic+json": {
              "type": "string"
            }
          },
          "metadata": {},
          "execution_count": 15
        }
      ]
    },
    {
      "cell_type": "code",
      "source": [
        "\"\"\"tempr = 0\n",
        "for aaa in (-90, -160, -20):\n",
        "  for bbb in (145, 90, 170):\n",
        "    for ccc in (0, -90,  90):\n",
        "      for ddd in (-90, -160,  -20):\n",
        "        for eee in (-170, -145, -90):\n",
        "          for fff in ( -40, -170, -120):\n",
        "            for hhh in (-50, -150, -100):\n",
        "              for jjj in (70, -10, 30):\n",
        "                guess = [aaa, bbb, ccc, ddd, eee, fff, fff+40, hhh, hhh+40, jjj, jjj+40]\n",
        "                result = spo.minimize(func2, guess,  method = 'Nelder-Mead')\n",
        "                if result.fun * -1 > tempr:\n",
        "                  tempr = result.fun * -1\n",
        "                  print(f\"New R: {tempr}\\nDict:{returnDict2(result.x)}\" )\n",
        "#result = spo.basinhopping(func2, guess, niter = 1000, T = 10, stepsize = 5, disp = True)\n",
        "#print(result.x)\n",
        "print(f\"R^2 = {result.fun * -1}\")\n",
        "print(returnDict2(result.x))\"\"\""
      ],
      "metadata": {
        "id": "-LM6LQEPZfnv",
        "colab": {
          "base_uri": "https://localhost:8080/",
          "height": 107
        },
        "outputId": "7134b981-cdbf-4fba-8736-bbeea20ff0ae"
      },
      "execution_count": null,
      "outputs": [
        {
          "output_type": "execute_result",
          "data": {
            "text/plain": [
              "'tempr = 0\\nfor aaa in (-90, -160, -20):\\n  for bbb in (145, 90, 170):\\n    for ccc in (0, -90,  90):\\n      for ddd in (-90, -160,  -20):\\n        for eee in (-170, -145, -90):\\n          for fff in ( -40, -170, -120):\\n            for hhh in (-50, -150, -100):\\n              for jjj in (70, -10, 30):\\n                guess = [aaa, bbb, ccc, ddd, eee, fff, fff+40, hhh, hhh+40, jjj, jjj+40]\\n                result = spo.minimize(func2, guess,  method = \\'Nelder-Mead\\')\\n                if result.fun * -1 > tempr:\\n                  tempr = result.fun * -1\\n                  print(f\"New R: {tempr}\\nDict:{returnDict2(result.x)}\" )\\n#result = spo.basinhopping(func2, guess, niter = 1000, T = 10, stepsize = 5, disp = True)\\n#print(result.x)\\nprint(f\"R^2 = {result.fun * -1}\")\\nprint(returnDict2(result.x))'"
            ],
            "application/vnd.google.colaboratory.intrinsic+json": {
              "type": "string"
            }
          },
          "metadata": {},
          "execution_count": 16
        }
      ]
    },
    {
      "cell_type": "code",
      "source": [
        "#aDict = returnDict([-120, 150, 0, -120, -90])\n",
        "\n",
        "#%lprun -f main main(DATAINPUT, \"T\", aDict)"
      ],
      "metadata": {
        "id": "Vd83B9R0OxQl"
      },
      "execution_count": null,
      "outputs": []
    },
    {
      "cell_type": "code",
      "source": [
        "#imports\n",
        "import pandas as pd\n",
        "import matplotlib.pyplot as plt\n",
        "import matplotlib.ticker as pltticker\n",
        "import numpy as np\n",
        "\n",
        "#defining set things for proline\n",
        "atoms = ['Cα', 'Cβ', 'C']\n",
        "aa_range = [[57,74],[60, 77],[170,184]]\n",
        "angles = {\n",
        "'rbetaA': (-180.0, -77.2433806688377, 154.55177258517497, 180.0), 'rppiiA': (-77.2433806688377, 0, 154.55177258517497, 180.0), 'rzetag': (-180, 0, 60.44870313074169, 154.55177258517497), 'rdelta': (-180.0, 0, -41.0353713828222, 60.44870313074169), 'rturnI': (-180.0, 0, -162.70103742108336, -41.0353713828222), 'ralpha': (-40.21413124444349, -29.91741580348999, -80.2472522811782, -51.13859334954293), 'rbetaB': (-180.0, -112.55372675352831, -180.0, -162.70103742108336), 'rppiiB': (-112.55372675352831, 0, -180.0, -162.70103742108336), 'rlhelx': (0, 180.0, -180.0, 180.0)\n",
        "}\n",
        "\n",
        "#colors\n",
        "colors = ['#1b1b64', '#5e93dc', \"#004225\", '#b3dfff', '#f3ecb7', '#eeaa38', '#a60000']\n",
        "\n",
        "#reading the data\n",
        "df = pd.read_csv('T_10K.out', sep = '\\t', header = 0)\n",
        "labels = ['beta','ppii','zetag','ddgg','left','turn','alph']\n",
        "\n",
        "#making different variables based on each section\n",
        "\n",
        "#delta, alpha, and left helix are easy: just get definitions\n",
        "tempname = 'rdelta'\n",
        "ddgg = df.loc[(df['phi'] >= angles[tempname][0]) & (df['phi'] < angles[tempname][1]) & (df['psi'] >= angles[tempname][2]) & (df['psi'] < angles[tempname][3])]\n",
        "tempname = 'ralpha'\n",
        "alph = df.loc[(df['phi'] >= angles[tempname][0]) & (df['phi'] < angles[tempname][1]) & (df['psi'] >= angles[tempname][2]) & (df['psi'] < angles[tempname][3])]\n",
        "tempname = 'rlhelx'\n",
        "left = df.loc[(df['phi'] >= angles[tempname][0]) & (df['phi'] < angles[tempname][1]) & (df['psi'] >= angles[tempname][2]) & (df['psi'] < angles[tempname][3])]\n",
        "tempname = 'rzetag'\n",
        "zetag = df.loc[(df['phi'] >= angles[tempname][0]) & (df['phi'] < angles[tempname][1]) & (df['psi'] >= angles[tempname][2]) & (df['psi'] < angles[tempname][3])]\n",
        "\n",
        "\n",
        "\n",
        "#beta/ppii have both a top and bottom segment, so need to account for both top (A) and bottom (B) sections\n",
        "tempname = 'rbeta'\n",
        "beta = pd.concat([df.loc[(df['phi'] >= angles[tempname + \"A\"][0]) & (df['phi'] < angles[tempname + \"A\"][1]) & (df['psi'] >= angles[tempname + \"A\"][2]) & (df['psi'] < angles[tempname + \"A\"][3])], df.loc[(df['phi'] >= angles[tempname + \"B\"][0]) & (df['phi'] < angles[tempname + \"B\"][1]) & (df['psi'] >= angles[tempname + \"B\"][2]) & (df['psi'] < angles[tempname + \"B\"][3])]])\n",
        "tempname = 'rppii'\n",
        "ppii = pd.concat([df.loc[(df['phi'] >= angles[tempname + \"A\"][0]) & (df['phi'] < angles[tempname + \"A\"][1]) & (df['psi'] >= angles[tempname + \"A\"][2]) & (df['psi'] < angles[tempname + \"A\"][3])], df.loc[(df['phi'] >= angles[tempname + \"B\"][0]) & (df['phi'] < angles[tempname + \"B\"][1]) & (df['psi'] >= angles[tempname + \"B\"][2]) & (df['psi'] < angles[tempname + \"B\"][3])]])\n",
        "\n",
        "#special case because turn needs to be everything except for the \"alpha\" section, used XOR but it might not work\n",
        "tempname = 'rturnI'\n",
        "tempname2 = 'ralpha'\n",
        "turn = df.loc[((df['phi'] >= angles[tempname][0]) & (df['phi'] < angles[tempname][1]) & (df['psi'] >= angles[tempname][2]) & (df['psi'] < angles[tempname][3])) ^ ((df['phi'] >= angles[tempname2][0]) & (df['phi'] < angles[tempname2][1]) & (df['psi'] >= angles[tempname2][2]) & (df['psi'] < angles[tempname2][3]))]\n",
        "\n",
        "#nice list to make future things easier\n",
        "allsections = [beta, ppii, zetag, ddgg, left, turn, alph]\n",
        "weights = [0.0065, 0.0047, 0.0047, -.0179, -.0405, 0.0326, 0.010]\n",
        "\n",
        "for i in range(7):\n",
        "  #print(allsections[i].dtypes)\n",
        "  allsections[i].select_dtypes(exclude=['object', 'datetime']) * weights[i]\n",
        "#makes the alpha/beta/overall carbon shifts into dictionaries based on the categories\n",
        "ca = {}\n",
        "cb = {}\n",
        "co = {}\n",
        "for i in range(7):\n",
        "  ca[labels[i]] = allsections[i]['ca'].values.tolist()\n",
        "  cb[labels[i]] = allsections[i]['cb'].values.tolist()\n",
        "  co[labels[i]] = allsections[i]['c'].values.tolist()\n",
        "\n",
        "#making pyplot figure\n",
        "fig, axs = plt.subplots(1, 3, sharey = False, figsize = (9.5, 2))\n",
        "fig.subplots_adjust(top = .9)\n",
        "\n",
        "#makes an array for the future histogram categories\n",
        "bins_array = [np.arange(i[0], i[1] + 1, .25) for i in aa_range]\n",
        "\n",
        "#making total array\n",
        "all = {'Cα': ca, 'Cβ' : cb, 'C' : co}\n",
        "\n",
        "for i in range(3):\n",
        "  h, bins, patches = axs[i].hist(list(all[atoms[i]].values()),\n",
        "                      bins=bins_array[i],\n",
        "                      density=False,\n",
        "                      histtype='stepfilled',\n",
        "                      stacked=True,\n",
        "                      color=colors,\n",
        "                      alpha=True,\n",
        "                      label=labels)\n",
        "\n",
        "  stacked_data = [j for sub in list(all[atoms[i]].values()) for j in sub]\n",
        "  #print(stacked_data)\n",
        "  axs[i].hist(stacked_data, # SUM PLOT: line histogram plot\n",
        "              bins=bins_array[i],\n",
        "              density=False,\n",
        "              histtype='step',\n",
        "              stacked=False,\n",
        "              color='black',\n",
        "              alpha=1.0)\n",
        "\n",
        "\n",
        "  ### FORMATTING ###\n",
        "  axs[i].set_xlim(aa_range[i])\n",
        "  mtick_spacing=5\n",
        "  axs[i].xaxis.set_major_locator(pltticker.MultipleLocator(mtick_spacing))\n",
        "  axs[i].xaxis.set_minor_locator(pltticker.MultipleLocator(1))\n",
        "  axs[i].yaxis.set_ticks([])\n",
        "  axs[i].set_title(atoms[i] + \" (ppm)\")\n",
        "  # other formatting\n",
        "  axs[i].invert_xaxis()\n",
        "  for line in ['top','left','right']:\n",
        "    axs[i].spines[line].set_visible(False)\n",
        "  for line in ['bottom']:\n",
        "    axs[i].spines[line].set_visible(True)\n",
        "\n",
        "print(cb)\n",
        "\n",
        "fig.suptitle(\"230620 Threonine (T_10K) Weighted Histograms\")\n",
        "fig.tight_layout()\n",
        "plt.show()"
      ],
      "metadata": {
        "id": "JuE0KR85rpdZ",
        "colab": {
          "base_uri": "https://localhost:8080/",
          "height": 256
        },
        "outputId": "b32fc68d-87ac-4aa3-bb39-7d7ff2f65b06"
      },
      "execution_count": null,
      "outputs": [
        {
          "output_type": "stream",
          "name": "stdout",
          "text": [
            "{'beta': [70.771, 69.778, 71.738, 72.77, 71.026, 69.534, 70.909, 69.989, 70.528, 71.835, 71.083, 72.248, 71.635, 71.132, 72.811, 73.027, 72.087, 71.081, 70.853, 70.113, 73.027, 70.467, 69.117, 70.336, 73.262, 67.531, 72.45, 69.957, 69.657, 68.847, 70.416, 73.144, 73.03, 69.468, 71.728, 68.241, 70.643, 71.832, 73.258, 70.543, 69.92, 70.26, 70.909, 70.394, 73.059, 70.572, 71.274, 72.872, 69.189, 72.587, 68.807, 63.714, 70.622, 73.389, 71.178, 73.26, 68.5, 72.748, 71.673, 70.275, 70.681, 70.749, 70.828, 71.972, 72.59, 73.461, 72.864, 71.252, 70.858, 70.975, 72.474, 73.589, 70.486, 73.328, 70.157, 72.451, 70.53, 70.07, 70.864, 70.996, 72.656, 73.464, 73.598, 70.759, 71.367, 70.484, 68.361, 73.385, 70.19, 71.968, 73.587, 70.265, 69.393, 71.871, 73.242, 70.393, 69.559, 73.182, 73.407, 70.617, 70.663, 72.034, 71.06, 70.831, 70.492, 73.199, 70.858, 70.358, 72.032, 73.48, 70.703, 65.977, 73.011, 73.609, 70.703, 72.852, 70.147, 71.303, 70.077, 70.38, 71.532, 70.342, 71.1, 70.732, 73.56, 71.675, 71.161, 73.446, 73.478, 69.816, 67.618, 70.217, 73.028, 72.253, 71.041, 72.03, 73.27, 70.755, 72.453, 72.652, 69.055, 69.829, 71.321, 70.883, 69.703, 70.463, 70.836, 70.974, 73.22, 70.949, 72.948, 70.592, 70.189, 70.847, 71.792, 73.445, 73.871, 71.62, 72.575, 69.915, 72.65, 72.202, 70.563, 70.385, 70.097, 73.463, 73.313, 72.83, 71.96, 68.766, 70.588, 73.376, 72.981, 71.859, 71.421, 65.652, 70.279, 71.26, 69.679, 69.846, 73.155, 71.78, 71.843, 70.552, 72.73, 70.287, 71.217, 73.351, 73.283, 70.923, 72.703, 73.403, 71.727, 72.017, 73.334, 73.439, 70.377, 72.6, 73.42, 69.382, 71.075, 70.607, 72.283, 71.838, 73.284, 72.987, 70.23, 71.364, 70.135, 70.37, 70.097, 73.28, 73.473, 71.717, 73.034, 71.68, 70.891, 70.997, 70.509, 70.331, 73.271, 70.622, 72.946, 70.519, 70.852, 72.478, 70.485, 70.857, 71.23, 70.548, 72.707, 73.635, 73.24, 70.373, 71.803, 69.121, 70.201, 70.527, 70.179, 70.627, 70.354, 70.389, 72.446, 72.74, 70.148, 69.764, 70.347, 70.529, 70.68, 69.783, 70.281, 69.966, 70.311, 72.629, 70.394, 73.159, 72.752, 70.475, 71.983, 69.941, 70.233, 70.281, 73.179, 72.246, 72.788, 72.39, 69.928, 72.821, 72.718, 69.895, 70.277, 72.142, 72.954, 70.524, 72.902, 72.087, 70.241, 73.234, 73.428, 69.613, 72.191, 70.698, 73.163, 70.181, 70.975, 72.202, 71.624, 71.278, 73.395, 73.704, 70.733, 70.081, 70.978, 69.859, 70.231, 70.681, 71.674, 70.352, 70.78, 69.811, 73.129, 72.559, 70.347, 73.222, 70.827, 70.772, 71.562, 70.083, 67.999, 71.637, 72.766, 71.205, 72.805, 70.492, 69.929, 70.382, 72.654, 71.18, 73.528, 72.807, 70.241, 73.354, 72.611, 70.114, 66.926, 73.482, 71.923, 71.138, 71.301, 70.136, 71.438, 70.701, 71.655, 73.474, 72.237, 71.395, 73.179, 70.655, 70.277, 72.806, 71.519, 72.759, 70.821, 72.982, 73.244, 70.876, 70.442, 71.059, 70.905, 70.722, 70.174, 70.853, 70.708, 73.133, 73.295, 72.098, 70.706, 72.181, 70.527, 72.901, 73.094, 71.558, 69.779, 71.699, 70.033, 73.327, 70.526, 71.565, 73.873, 72.404, 73.655, 73.588, 71.031, 72.62, 72.597, 70.37, 73.054, 73.19, 72.729, 70.243, 68.707, 73.405, 73.063, 71.865, 72.532, 72.059, 73.47, 70.699, 70.363, 73.059, 67.204, 71.456, 70.268, 71.133, 70.9, 73.474, 73.239, 71.623, 69.554, 69.215, 73.459, 70.623, 72.649, 72.031, 70.148, 70.587, 71.923, 72.8, 70.417, 72.786, 70.257, 72.608, 70.406, 73.399, 70.355, 70.229, 70.906, 72.235, 72.253, 72.871, 70.19, 70.309, 69.978, 73.361, 71.089, 72.505, 71.064, 72.387, 72.903, 70.834, 70.697, 70.342, 73.465, 70.599, 70.251, 70.708, 70.876, 70.228, 70.484, 67.721, 70.412, 70.546, 72.647, 72.002, 72.657, 72.925, 71.006, 70.413, 73.117, 73.22, 70.561, 71.621, 70.357, 70.598, 71.595, 72.545, 73.735, 71.967, 72.721, 70.037, 73.063, 71.689, 69.072, 72.359, 70.636, 70.022, 70.34, 70.542, 71.853, 71.038, 73.085, 70.686, 70.872, 70.448, 72.426, 68.785, 70.556, 73.476, 70.183, 70.402, 72.88, 72.728, 71.325, 70.496, 70.543, 71.612, 71.426, 73.234, 70.752, 72.66, 72.474, 72.355, 73.898, 71.947, 72.962, 69.287, 71.034, 72.163, 70.74, 72.403, 70.471, 72.551, 70.083, 73.366, 72.87, 70.513, 70.207, 70.446, 69.983, 71.561, 70.353, 70.418, 72.176, 73.241, 70.125, 72.214, 73.475, 72.947, 72.236, 69.278, 73.2, 70.237, 67.595, 73.181, 72.622, 71.836, 73.243, 73.184, 71.376, 70.159, 70.986, 73.384, 72.287, 69.917, 70.296, 69.619, 67.665, 72.579, 70.605, 73.267, 70.614, 63.429, 70.219, 69.533, 70.174, 73.695, 72.727, 72.62, 71.852, 73.022, 71.127, 70.402, 72.955, 70.794, 71.794, 73.74, 73.543, 70.045, 70.696, 70.034, 70.253, 70.177, 71.525, 72.871, 72.505, 69.939, 72.868, 70.511, 73.781, 72.611, 73.663, 70.562, 73.349, 71.567, 71.317, 73.048, 70.148, 69.642, 72.942, 68.551, 71.233, 72.229, 72.724, 70.444, 72.259, 70.108, 68.349, 70.242, 73.258, 70.245, 72.966, 73.332, 72.846, 73.043, 70.1, 73.087, 72.45, 70.488, 69.641, 71.121, 70.74, 70.893, 72.528, 70.08, 73.23, 70.219, 70.354, 70.919, 70.767, 70.262, 70.483, 73.347, 70.345, 73.237, 70.284, 72.681, 69.996, 68.521, 72.915, 70.679, 70.374, 70.588, 72.023, 69.786, 72.361, 70.431, 70.397, 69.921, 73.009, 72.106, 70.484, 73.509, 73.262, 73.218, 70.685, 70.273, 70.304, 70.552, 72.84, 70.826, 69.408, 73.49, 73.016, 72.725, 70.907, 70.709, 69.641, 73.396, 70.195, 72.613, 70.204, 73.529, 72.364, 70.846, 72.797, 73.228, 69.509, 70.849, 72.319, 72.577, 71.424, 73.359, 70.411, 70.588, 71.608, 69.973, 72.21, 69.678, 69.902, 69.776, 72.403, 70.163, 73.719, 71.64, 69.29, 69.992, 71.639, 72.963, 70.571, 72.714, 67.986, 69.828, 70.974, 69.954, 70.267, 71.798, 70.3, 69.973, 71.565, 70.784, 72.624, 70.487, 73.055, 70.049, 70.15, 70.25, 71.171, 69.65, 69.893, 70.443, 70.354, 70.656, 70.696, 73.538, 70.267, 69.58, 73.16, 70.014, 72.211, 70.998, 72.407, 72.123, 70.262, 70.398, 72.559, 70.067, 72.626, 71.005, 73.218, 69.709, 70.268, 68.589, 73.269, 70.647, 69.613, 73.571, 73.286, 73.1, 68.312, 70.323, 73.041, 69.993, 70.116, 69.852, 71.994, 69.94, 71.341, 72.774, 71.659, 70.114, 70.462, 73.162, 70.243, 73.173, 71.078, 70.492, 72.236, 73.034, 73.061, 73.039, 71.195, 72.997, 71.379, 72.215, 73.131, 70.33, 70.119, 70.595, 73.082, 72.396, 71.005, 70.029, 72.288, 70.204, 70.608, 70.229, 70.66, 69.856, 72.183, 73.307, 73.073, 71.238, 70.557, 72.54, 70.584, 72.371, 72.791, 71.008, 71.526, 69.738, 72.983, 71.793, 70.699, 70.384, 73.267, 72.68, 73.28, 70.387, 73.04, 71.328, 70.882, 72.52, 71.35, 71.527, 71.508, 73.53, 72.097, 69.484, 72.098, 73.414, 72.48, 70.136, 70.683, 71.717, 72.63, 73.143, 69.922, 70.622, 70.536, 71.661, 70.021, 73.19, 71.011, 73.351, 70.393, 73.262, 72.918, 70.258, 72.791, 70.385, 70.946, 70.551, 73.435, 69.561, 72.486, 70.628, 72.348, 71.812, 70.894, 72.855, 70.264, 70.307, 71.418, 72.278, 73.442, 72.746, 72.909, 73.306, 69.849, 70.577, 73.135, 72.513, 72.047, 68.732, 70.41, 70.457, 70.648, 73.086, 72.585, 73.623, 70.734, 70.094, 70.012, 70.406, 71.685, 73.597, 71.3, 72.528, 73.246, 67.36, 71.293, 72.608, 73.291, 72.025, 71.584, 67.283, 72.706, 71.783, 70.343, 70.755, 70.83, 69.68, 72.602, 71.914, 69.406, 70.384, 73.436, 70.372, 73.121, 69.974, 72.682, 70.545, 70.366, 72.6, 73.709, 73.544, 72.96, 68.391, 70.196, 69.443, 72.041, 73.667, 70.31, 70.556, 70.788, 70.783, 70.417, 72.689, 70.029, 72.047, 72.971, 70.647, 70.72, 70.292, 72.614, 70.495, 72.622, 72.534, 70.973, 72.867, 72.675, 69.314, 70.235, 70.449, 71.977, 68.325, 69.747, 71.877, 70.538, 72.161, 72.467, 72.352, 73.199, 72.472, 73.291, 69.618, 71.279, 70.995, 71.557, 70.253, 72.423, 71.102, 68.931, 72.856, 68.687, 73.267, 72.202, 69.026, 72.712, 70.422, 73.295, 72.007, 72.658, 70.225, 70.997, 72.511, 72.382, 70.376, 69.624, 70.405, 72.958, 71.638, 70.488, 71.533, 73.356, 70.795, 72.017, 70.341, 72.839, 73.235, 70.816, 70.458, 69.983, 73.254, 70.372, 70.736, 73.001, 70.918, 73.113, 67.667, 72.334, 72.972, 73.262, 73.916, 69.105, 73.154, 73.157, 72.815, 71.98, 68.167, 73.061, 73.149, 70.957, 67.408, 70.347, 70.486, 70.667, 70.577, 71.709, 71.869, 71.336, 70.45, 69.174, 71.874, 72.868, 72.516, 70.539, 70.088, 70.089, 70.53, 71.65, 70.549, 71.365, 73.455, 71.993, 70.675, 69.881, 70.475, 70.583, 70.745, 73.29, 70.455, 73.629, 73.17, 73.253, 72.198, 72.915, 70.653, 71.848, 70.553, 73.285, 72.904, 73.283, 73.383, 72.699, 70.405, 72.314, 70.35, 70.664, 70.295, 70.807, 70.71, 72.859, 72.399, 72.52, 70.979, 70.443, 72.539, 73.081, 72.122, 70.242, 70.27, 72.703, 70.706, 72.313, 70.299, 73.151, 68.969, 70.984, 73.21, 71.066, 71.052, 72.159, 69.843, 70.376, 70.864, 70.786, 70.826, 73.005, 72.93, 73.138, 73.212, 73.197, 72.812, 70.418, 70.178, 70.037, 72.107, 70.998, 72.387, 69.986, 69.927, 71.288, 70.98, 72.633, 73.481, 70.009, 73.15, 70.803, 71.557, 70.66, 70.202, 71.142, 72.871, 70.515, 73.44, 70.306, 72.746, 70.657, 70.711, 73.038, 70.675, 70.897, 71.664, 72.62, 73.199, 70.971, 70.47, 70.428, 70.201, 72.444, 70.987, 73.095, 70.357, 73.115, 73.32, 70.379, 70.565, 70.924, 72.918, 71.348, 71.62, 70.509, 72.424, 70.445, 70.337, 70.428, 71.142, 69.691, 70.498, 71.923, 73.388, 70.724, 72.225, 70.37, 70.682, 70.381, 71.487, 70.772, 70.544, 72.402, 67.659, 70.855, 72.928, 70.576, 72.031, 73.062, 71.085, 72.535, 72.831, 73.336, 72.261, 70.573, 70.637, 73.293, 72.714, 67.781, 73.368, 73.439, 70.755, 72.285, 72.789, 70.428, 70.127, 70.491, 70.661, 70.674, 73.082, 72.565, 73.195, 69.971, 73.624, 72.079, 72.8, 73.142, 71.947, 73.078, 72.767, 70.16, 70.06, 70.223, 70.702, 69.882, 70.201, 72.741, 73.294, 72.582, 72.753, 73.464, 73.483, 70.73, 70.462, 73.158, 70.958, 70.413, 72.969, 70.761, 72.71, 70.264, 70.083, 72.712, 72.946, 73.013, 73.15, 73.034, 72.586, 71.961, 71.275, 72.983, 70.875, 73.394, 71.865, 70.542, 73.148, 70.393, 70.589, 71.936, 70.907, 70.337, 72.819, 72.881, 73.351, 70.322, 69.903, 70.784, 70.622, 70.611, 70.264, 70.94, 73.28, 71.746, 71.83, 72.312, 73.31, 71.269, 73.116, 69.787, 70.249, 70.404, 69.927, 70.83, 70.329, 68.549, 70.11, 67.34, 73.592, 73.163, 72.612, 69.314, 73.456, 72.822, 73.013, 70.475, 72.663, 72.943, 73.331, 70.898, 73.246, 72.574, 70.47, 70.235, 73.335, 70.673, 69.225, 73.293, 73.536, 70.292, 73.155, 72.881, 70.372, 70.504, 70.654, 73.227, 70.238, 69.382, 72.242, 70.157, 69.925, 72.953, 72.372, 70.524, 70.638, 69.763, 72.35, 70.169, 72.427, 73.54, 72.107, 69.711, 71.033, 70.602, 72.001, 63.7, 69.764, 70.956, 72.846, 69.846, 72.673, 72.993, 71.772, 71.776, 66.111, 69.603, 70.094, 72.911, 70.215, 70.469, 70.971, 72.499, 70.509, 70.208, 70.904, 72.905, 72.588, 70.523, 73.195, 70.565, 69.936, 70.845, 71.543, 72.494, 69.472, 68.83, 72.187, 70.445, 70.843, 71.13, 69.443, 70.439, 72.435, 70.865, 72.949, 73.27, 70.227, 70.534, 70.652, 72.469, 73.119, 72.992, 72.806, 70.327, 73.266, 70.94, 70.779, 72.853, 73.187, 70.311, 70.763, 73.091, 72.024, 69.915, 70.518, 69.644, 72.929, 72.374, 72.968, 73.26, 69.471, 73.17, 72.557, 72.99, 72.25, 72.457, 70.457, 73.399, 71.519, 73.104, 70.875, 73.169, 72.999, 73.071, 73.162, 70.299, 72.415, 71.086, 71.556, 70.259, 70.196, 71.789, 67.958, 73.075, 73.058, 72.562, 73.443, 70.396, 72.67, 72.71, 71.09, 70.393, 72.857, 73.248, 72.464, 70.508, 71.827, 72.197, 70.957, 71.61, 72.852, 73.783, 69.983, 73.651, 69.649, 73.302, 70.921, 72.903, 73.598, 70.055, 71.379, 72.772, 70.557, 70.576, 72.285, 72.592, 68.49, 72.943, 73.188, 69.924, 73.545, 72.143, 70.7, 71.944, 70.273, 71.434, 72.377, 73.696, 70.536, 70.208, 70.313, 73.84, 72.12, 72.823, 72.355, 72.069, 72.583, 73.032, 71.82, 70.9, 70.122, 70.714, 70.934, 71.888, 70.8, 69.115, 70.794, 70.882, 73.935, 73.513, 73.189, 71.404, 71.573, 72.378, 73.108, 71.484, 73.036, 73.356, 70.764, 72.81, 70.285, 70.268, 73.661, 72.192, 70.628, 70.261, 71.965, 73.347, 72.921, 72.907, 73.289, 67.96, 70.711, 70.653, 72.071, 71.325, 70.474, 73.197, 73.296, 72.241, 72.513, 71.081, 70.162, 72.986, 70.437, 72.434, 71.782, 73.205, 72.671, 70.105, 72.716, 72.926, 71.715, 72.17, 73.257, 70.236, 70.901, 70.927, 70.793, 70.698, 67.642, 70.658, 72.937, 71.728, 72.544, 70.618, 72.748, 70.323, 70.539, 71.822, 72.3, 72.412, 73.029, 70.982, 73.328, 68.875, 69.754, 73.233, 70.582, 71.166, 72.825, 69.898, 73.224, 72.492, 70.688, 70.404, 71.774, 72.76, 70.596, 70.721, 73.274, 71.022, 73.02, 72.985, 70.977, 70.953, 70.181, 71.652, 73.37, 72.319, 72.023, 70.182, 73.038, 70.62, 70.992, 72.372, 71.086, 71.522, 71.912, 69.918, 69.979, 68.439, 70.867, 71.543, 72.107, 72.555, 73.154, 70.141, 73.347, 70.563, 71.636, 71.015, 71.136, 71.377, 70.894, 73.257, 72.66, 70.355, 70.004, 73.051, 72.27, 72.006, 70.616, 70.457, 70.34, 72.964, 70.329, 72.954, 70.158, 70.239, 72.179, 69.708, 70.514, 71.791, 70.467, 73.101, 73.008, 70.539, 73.105, 73.047, 73.539, 70.459, 68.857, 71.559, 72.208, 73.157, 73.375, 70.536, 70.845, 72.821, 70.828, 73.394, 72.79, 71.829, 72.811, 72.706, 71.272, 73.093, 73.305, 71.453, 70.605, 71.09, 66.148, 70.232, 73.22, 69.936, 71.97, 72.207, 73.154, 72.028, 73.503, 71.412, 69.63, 70.63, 72.877, 70.861, 69.744, 72.96, 72.733, 71.203, 72.186, 70.358, 70.78, 72.754, 70.278, 73.879, 70.908, 73.528, 73.459, 72.555, 70.652, 70.832, 71.178, 70.218, 69.977, 71.188, 71.536, 73.373, 70.348, 67.332, 70.882, 71.06, 70.857, 70.171, 73.341, 73.333, 70.551, 70.016, 72.033, 69.348, 70.802, 70.878, 70.812, 73.136, 72.947, 70.61, 70.726, 72.22, 73.028, 70.599, 71.46, 72.077, 70.662, 73.099, 73.02, 70.115, 72.762, 71.037, 70.359, 70.206, 70.896, 72.968, 73.318, 70.821, 73.177, 69.498, 69.758, 70.611, 71.522, 72.975, 71.797, 73.3, 71.713, 70.796, 68.316, 73.366, 72.918, 71.113, 72.978, 72.503, 72.64, 73.238, 70.289, 73.304, 70.596, 71.977, 71.285, 70.467, 72.788, 70.608, 73.081, 69.354, 71.167, 72.447, 70.668, 73.213, 72.808, 73.209, 73.123, 72.531, 72.747, 73.336, 73.124, 70.508, 71.326, 73.26, 68.878, 73.374, 73.049, 71.648, 71.922, 70.469, 72.144, 70.184, 69.722, 70.15, 71.817, 70.401, 70.558, 70.971, 72.9, 72.678, 72.503, 70.28, 70.175, 69.513, 71.851, 70.497, 69.525, 72.181, 69.25, 70.835, 70.879, 71.254, 72.438, 70.693, 72.711, 70.668, 71.611, 70.045, 72.319, 73.024, 70.401, 73.066, 73.108, 70.921, 72.445, 72.775, 72.296, 72.912, 73.16, 72.591, 72.859, 71.062, 71.574, 70.567, 73.683, 70.814, 73.205, 70.114, 70.459, 69.907, 69.998, 71.373, 70.394, 73.091, 73.164, 70.048, 70.385, 68.133, 70.496, 73.224, 70.867, 71.488, 70.498, 73.203, 72.753, 72.853, 72.809, 70.242, 70.506, 70.581, 70.024, 70.448, 72.903, 71.282, 72.755, 70.853, 70.404, 69.979, 70.412, 70.408, 70.295, 71.05, 71.441, 72.024, 70.554, 72.137, 70.603, 70.38, 73.913, 70.091, 73.198, 72.257, 70.037, 72.05, 69.915, 68.51, 71.967, 70.79, 68.013, 72.3, 70.328, 70.565, 73.488, 72.289, 70.368, 70.422, 70.082, 72.283, 73.787, 73.075, 69.67, 70.849, 71.789, 69.544, 69.726, 71.154, 73.174, 70.435, 70.385, 73.294, 73.443, 70.607, 71.442, 70.454, 72.841, 70.864, 70.425, 72.142, 71.078, 70.883, 72.733, 69.661, 73.069, 70.634, 73.096, 70.169, 72.752, 70.132, 73.692, 70.408, 71.084, 71.649, 72.415, 71.948, 70.967, 73.448, 70.215, 71.077, 73.45, 72.945, 71.949, 72.698, 70.449, 70.512, 72.278, 71.597, 71.828, 72.905, 70.257, 69.558, 70.323, 73.137, 72.303, 70.464, 71.266, 70.426, 70.841, 72.979, 73.574, 70.627, 72.678, 70.085, 72.731, 70.663, 70.185, 70.58, 69.068, 70.106, 72.97, 70.04, 70.041, 73.387, 70.837, 70.549, 70.32, 72.007, 70.347, 71.242, 67.326, 72.999, 72.794, 71.096, 70.077, 70.777, 70.577, 69.909, 69.328, 70.564, 70.676, 73.435, 73.013, 71.914, 70.518, 71.108, 73.061, 72.96, 70.175, 73.192, 73.131, 72.883, 70.537, 73.267, 69.413, 73.39, 69.612, 72.561, 70.197, 72.629, 73.465, 69.349, 71.104, 70.582, 70.171, 70.636, 73.087, 71.258, 71.231, 70.599, 73.145, 73.208, 71.336, 66.9, 70.565, 72.806, 72.674, 71.996, 72.699, 70.738, 70.794, 70.143, 70.681, 72.755, 69.306, 73.652, 70.611, 73.391, 73.455, 69.866, 70.86, 67.545, 70.268, 70.437, 70.708, 70.253, 70.341, 73.246, 70.555, 70.416, 72.135, 72.273, 69.792, 71.44, 73.046, 70.893, 73.301, 72.393, 70.443, 73.468, 73.017, 70.379, 71.465, 69.88, 71.44, 71.677, 73.311, 73.779, 72.382, 70.783, 72.225, 70.991, 70.516, 72.02, 72.798, 70.908, 71.884, 68.524, 70.498, 70.521, 70.746, 72.819, 70.197, 72.469, 72.931, 71.069, 70.656, 70.403, 70.103, 70.279, 70.086, 69.956, 72.75, 70.332, 70.157, 73.503, 70.885, 72.809, 71.613, 70.277, 70.329, 73.656, 68.478, 69.383, 70.787, 72.039, 71.967, 71.164, 70.383, 70.079, 68.943, 72.005, 72.457, 72.928, 70.618, 72.326, 70.685, 72.828, 69.945, 70.953, 73.137, 70.294, 69.814, 69.46, 72.751, 73.014, 72.919, 70.86, 73.534, 70.648, 70.49, 70.971, 70.606, 72.398, 70.691, 73.114, 73.516, 73.209, 73.101, 70.7, 69.751, 72.017, 71.101, 71.185, 70.165, 70.57, 70.443, 72.918, 72.957, 70.955, 70.266, 72.263, 73.088, 70.901, 73.643, 71.1, 71.334, 72.902, 73.443, 70.781, 72.696, 73.037, 72.566, 73.539, 72.971, 71.459, 70.825, 71.966, 72.568, 72.817, 70.5, 72.908, 71.55, 69.523, 73.456, 70.073, 73.556, 73.41, 70.748, 73.125, 68.936, 70.323, 72.861, 73.251, 72.011, 71.25, 72.523, 70.435, 72.709, 72.801, 70.34, 70.833, 72.511, 71.114, 73.594, 69.04, 70.691, 70.095, 69.963, 73.064, 70.683, 70.309, 71.086, 72.776, 71.171, 71.246, 68.433, 73.4, 72.821, 73.519, 73.415, 70.745, 73.351, 72.47, 68.168, 69.712, 66.934, 71.391, 70.434, 70.641, 71.008, 69.794, 72.519, 70.394, 73.139, 70.51, 72.459, 72.628, 70.736, 72.753, 71.114, 70.024, 70.156, 68.898, 73.237, 70.626, 72.813, 73.104, 72.935, 72.427, 72.276, 72.799, 73.317, 69.039, 70.593, 70.458, 72.515, 72.35, 70.435, 70.027, 71.332, 70.447, 71.959, 73.325, 70.133, 70.236, 71.69, 70.51, 70.635, 70.827, 72.629, 71.227, 73.427, 70.476, 71.021, 72.432, 73.24, 69.536, 70.741, 72.489, 71.005, 70.385, 73.155, 70.453, 69.657, 68.865, 70.737, 72.078, 70.286, 73.035, 69.945, 73.192, 70.183, 73.108, 70.979, 73.023, 72.511, 70.645, 73.384, 72.946, 73.508, 73.472, 71.532, 70.041, 73.499, 72.985, 70.348, 72.541, 70.697, 70.514, 70.872, 73.112, 70.033, 72.045, 70.308, 72.845, 71.831, 72.594, 70.393, 72.18, 70.143, 73.731, 72.945, 72.749, 70.544, 71.668, 73.548, 70.832, 71.535, 69.1, 68.404, 68.444, 70.815, 71.237, 70.562, 67.13, 70.829, 70.038, 72.077, 70.183, 72.798, 70.379, 73.378, 71.736, 71.05, 69.934, 72.491, 72.673, 71.989, 73.227, 70.728, 73.502, 73.189, 69.236, 69.344, 71.052, 69.171, 72.944, 73.034, 70.797, 72.602, 73.143, 73.432, 72.952, 71.503, 71.622, 72.593, 71.993, 70.985, 70.606, 69.578, 70.471, 73.214, 70.41, 72.923, 69.393, 70.555, 73.412, 71.472, 71.03, 73.217, 72.29, 72.57, 70.122, 68.204, 70.401, 72.804, 72.778, 72.585, 69.702, 69.849, 67.504, 69.572, 70.44, 72.467, 72.803, 70.192, 70.214, 73.243, 72.156, 69.165, 69.888, 72.81, 68.015, 69.377, 72.369, 69.813, 69.393, 69.051, 69.283, 72.33, 69.553, 70.148, 68.529, 73.011, 69.669, 68.473, 72.438, 69.641, 69.569, 69.527, 68.83, 69.599, 67.828, 72.546, 69.22, 69.363, 70.175, 70.449, 73.28, 72.382, 70.077, 72.356, 73.096, 69.842, 68.9, 68.851, 72.487, 69.693, 69.524, 69.34, 69.594, 69.028, 69.476, 68.444, 72.235, 70.086, 69.963, 69.336, 68.513, 69.786, 71.156, 73.024, 69.804, 69.443, 69.989, 69.477, 72.211, 69.969, 68.948, 69.102, 69.193, 68.73, 68.534, 68.503, 72.569, 69.307, 68.083, 72.726, 69.793, 69.97, 68.413, 68.655, 68.815, 68.913, 71.535, 69.606, 72.665, 68.122, 70.055, 68.27, 72.866, 73.285, 69.69, 72.989, 69.505, 69.897, 70.249, 69.927, 73.024, 72.719, 69.504, 69.652, 70.001, 70.044, 69.638, 70.202, 70.506, 69.441, 68.728, 69.11, 69.874, 69.85, 69.281, 69.236, 69.657, 70.424, 69.731, 69.092, 72.777, 70.378, 68.762, 68.24, 69.754, 69.932, 69.922, 70.376, 69.936, 68.133, 69.58, 72.897, 70.023, 72.318, 69.766, 68.932, 67.676, 72.44, 69.791, 68.95, 72.637, 72.927, 68.462, 70.338, 69.446, 69.398, 69.305, 72.828, 72.718, 69.548, 69.758, 67.867, 69.3, 69.822, 70.062, 68.557, 69.936, 68.63, 69.363, 68.848, 69.055, 73.047, 69.8, 69.816, 68.11, 69.897, 69.252, 69.196, 72.836, 69.357, 70.186, 69.308, 70.027, 71.829, 71.997, 69.461, 69.534, 68.998, 68.713, 71.882, 69.44, 72.068, 73.093, 73.224, 70.156, 69.99, 70.395, 70.306, 70.056, 72.376, 68.063, 69.758, 68.309, 68.941, 72.631, 68.766, 68.684, 68.139, 72.309, 69.943, 73.177, 68.596, 70.01, 72.065, 69.234, 69.434, 72.444, 70.285, 72.56, 69.221, 69.608, 70.391, 72.54, 69.955, 69.411], 'ppii': [67.374, 70.183, 70.134, 70.369, 70.012, 70.29, 70.17, 69.848, 70.096, 70.16, 70.211, 70.027, 70.218, 70.287, 70.246, 70.451, 70.083, 70.626, 70.168, 70.115, 70.02, 69.92, 70.176, 70.449, 70.374, 70.418, 69.968, 67.229, 70.111, 69.489, 70.346, 67.616, 70.448, 69.827, 70.177, 70.104, 70.366, 70.512, 70.353, 67.484, 69.96, 70.255, 70.225, 70.362, 70.324, 69.162, 69.957, 69.884, 70.173, 70.2, 69.944, 70.214, 69.849, 70.294, 70.258, 70.086, 70.109, 70.409, 69.845, 70.246, 70.714, 70.822, 70.005, 70.256, 70.059, 70.632, 69.686, 69.975, 66.824, 70.325, 69.917, 70.403, 70.087, 70.053, 70.505, 68.176, 70.294, 70.402, 69.966, 70.731, 70.541, 70.254, 69.498, 67.685, 69.991, 70.357, 70.339, 70.385, 70.103, 69.444, 70.328, 69.753, 70.147, 70.162, 70.761, 70.515, 70.227, 70.072, 70.416, 70.523, 70.179, 70.15, 71.228, 70.01, 70.394, 70.215, 67.632, 70.3, 69.757, 70.532, 70.408, 70.155, 70.116, 70.107, 70.188, 70.354, 69.313, 70.222, 70.719, 70.14, 70.439, 70.122, 69.945, 70.408, 70.275, 70.291, 70.218, 70.05, 70.035, 70.013, 70.347, 70.204, 70.36, 67.513, 70.805, 69.855, 70.064, 69.839, 67.357, 69.892, 70.11, 70.396, 70.37, 70.203, 70.202, 70.462, 70.542, 70.275, 70.071, 69.894, 70.051, 67.053, 66.872, 70.567, 70.263, 69.439, 70.1, 69.985, 69.875, 70.421, 70.578, 66.857, 69.981, 70.264, 70.364, 70.223, 69.976, 69.99, 70.05, 70.286, 70.715, 70.235, 69.944, 69.958, 70.219, 70.36, 69.983, 69.965, 70.678, 70.67, 70.044, 70.17, 70.15, 69.917, 70.251, 70.233, 69.677, 69.962, 69.914, 70.499, 70.379, 70.693, 70.198, 70.095, 70.075, 70.397, 70.252, 70.292, 67.718, 70.468, 70.034, 69.884, 69.926, 70.436, 69.961, 70.481, 70.48, 67.63, 70.358, 69.983, 70.464, 70.224, 70.135, 69.628, 70.356, 70.467, 66.622, 70.527, 70.221, 69.945, 70.254, 70.075, 70.245, 69.942, 70.449, 70.303, 70.242, 70.43, 70.16, 70.121, 69.804, 69.438, 70.371, 70.087, 70.558, 70.526, 70.21, 70.311, 70.199, 70.169, 70.39, 69.814, 70.227, 70.28, 70.049, 70.348, 70.351, 70.119, 70.515, 70.567, 70.017, 67.179, 70.181, 66.729, 70.035, 70.077, 70.408, 70.272, 70.233, 70.084, 69.859, 70.301, 67.586, 70.462, 70.127, 69.933, 70.345, 70.116, 69.719, 70.151, 70.29, 70.296, 70.184, 70.615, 70.177, 70.312, 70.039, 70.233, 70.59, 70.17, 70.366, 70.601, 70.225, 70.641, 69.921, 70.24, 70.299, 70.165, 70.294, 70.327, 70.015, 70.398, 70.341, 69.905, 69.872, 70.166, 70.284, 70.072, 70.445, 70.528, 70.361, 70.339, 69.654, 70.1, 70.329, 70.361, 69.994, 70.35, 70.251, 69.927, 69.711, 70.439, 66.664, 70.785, 71.235, 71.787, 67.709, 67.921, 71.292, 66.885, 70.49, 71.187, 69.835, 67.104, 70.212, 70.152, 71.162, 66.409, 71.494, 71.676, 69.894, 67.175, 70.027, 69.814, 70.789, 67.27, 70.755, 67.274, 70.385, 69.65, 67.176, 68.068, 70.487, 71.622, 68.974, 70.661, 70.092, 70.672, 70.504, 70.77, 66.925, 67.223, 69.839, 67.343, 66.737, 67.459, 68.791, 71.184, 71.196, 70.115, 71.283, 67.314, 67.231, 69.523, 67.922, 71.586, 66.997, 70.228, 70.148, 70.511, 70.737, 71.469, 67.319, 66.036, 67.974, 70.68, 70.773, 67.122, 71.703, 67.225, 66.215, 71.387, 68.002, 70.156, 71.577, 70.996, 67.002, 67.225, 69.758, 70.833, 66.07, 70.168, 68.096, 71.053, 70.621, 71.467, 70.352, 67.022, 67.362, 70.522, 70.055, 66.973, 70.0, 70.082, 69.679, 70.145, 71.176, 69.249, 70.933, 69.887, 70.331, 70.961, 66.371, 70.781, 69.938, 67.835, 67.178, 70.492, 67.691, 67.048, 70.956, 67.596, 70.891, 66.983, 66.309, 67.23], 'zetag': [66.152, 69.984, 70.356, 71.049, 72.916, 69.384, 71.545, 69.547, 71.132, 66.621, 69.842, 68.593, 69.575, 69.113, 70.964, 72.582, 70.067, 69.453, 68.871, 70.146, 70.833, 67.519, 70.012, 70.269, 68.461, 69.983, 69.887, 70.013, 70.355, 71.554, 66.634, 71.921, 70.481, 73.215, 67.864, 71.635, 68.145, 69.084, 67.57, 69.553, 68.621, 69.855, 72.878, 67.849, 70.726, 70.064, 69.567, 68.989, 68.322, 68.595, 68.336, 69.068, 68.042, 70.4, 69.63, 69.983, 70.621, 70.646, 68.728, 66.702, 68.081, 68.195, 71.319, 69.435, 68.381, 68.327, 70.688, 68.088, 68.783, 68.414, 68.016, 67.808, 69.686, 68.188, 68.084, 67.198, 69.104, 69.551, 69.222, 69.086, 70.117, 68.25, 68.628, 68.62, 68.388, 71.092, 70.978, 68.543, 71.426, 68.819, 69.226, 70.363, 70.449, 68.455, 68.975, 67.872, 69.281, 69.487, 69.162, 70.016, 68.484, 68.422, 67.703, 72.939, 69.519, 68.171, 69.758, 72.928, 70.841, 69.868, 69.466, 68.282, 67.599, 69.509, 71.823, 71.029, 71.73, 70.966, 67.909, 72.264, 69.549, 67.353, 70.055, 72.545, 73.023, 71.889, 67.991, 66.722, 69.197, 68.881, 68.631, 70.502, 68.293, 67.472, 69.995, 69.879, 69.202, 68.596, 70.757, 69.039, 70.816, 69.641, 70.704, 69.036, 69.584, 67.538, 67.794, 69.743, 69.685, 68.491, 67.416, 69.087, 69.805, 72.651, 67.968, 66.382, 73.194, 69.981, 70.956, 68.896, 69.119, 67.537, 69.132, 71.042, 71.434, 71.585, 68.98, 72.577, 70.663, 69.565, 68.796, 69.963, 70.657, 70.048, 69.155, 66.457, 67.918, 68.949, 70.932, 71.659, 67.879, 69.166, 69.053, 71.403, 73.076, 72.006, 68.854, 68.075, 66.366, 71.271, 71.652, 72.74, 69.845, 68.943, 69.044, 70.609, 69.6, 66.496, 69.075, 69.725, 69.84, 68.353, 73.065, 70.553, 69.768, 69.728, 69.665, 70.987, 71.097, 70.407, 70.188, 70.24, 69.78, 69.363, 69.417, 72.872, 71.4, 68.733, 70.299, 68.591, 67.961, 68.868, 68.131, 72.706, 73.142, 70.093, 69.882, 70.298, 67.194, 71.397, 73.058, 71.451, 68.442, 68.434, 67.651, 68.413, 71.274, 68.51, 68.512, 69.143, 70.805, 66.926, 67.86, 68.502, 69.169, 73.059, 66.23, 69.334, 72.166, 66.611, 69.899, 66.453, 68.573, 72.29, 71.342, 69.395, 69.84, 70.05, 69.968, 70.57, 69.031, 67.906, 69.096, 68.969, 69.557, 72.183, 69.165, 69.772, 69.044, 72.7, 72.014, 68.017, 67.591, 72.787, 70.159, 68.534, 70.249, 68.074, 68.448, 70.038, 66.145, 69.475, 68.106, 69.198, 70.168, 69.614, 72.278, 70.354, 68.253, 70.854, 68.602, 67.261, 71.513, 68.005, 69.844, 70.084, 72.809, 68.269, 71.094, 68.041, 65.779, 68.291, 71.368, 68.613, 70.56, 71.788, 71.16, 70.314, 69.467, 68.618, 68.155, 68.684, 68.353, 73.019, 69.557, 68.154, 70.558, 73.164, 68.634, 69.621, 72.554, 67.121, 67.846, 72.953, 71.492, 65.71, 69.418, 67.864, 70.833, 72.817, 68.987, 69.042, 69.043, 73.012, 67.532, 67.35, 68.66, 72.604, 68.514, 68.606, 68.972, 67.914, 68.784, 66.801, 70.553, 68.773, 68.816, 68.348, 71.291, 68.239, 68.521, 71.675, 68.845, 68.968, 70.252, 70.044, 70.172, 67.045, 72.662, 70.437, 68.278, 72.998, 66.751, 69.013, 67.801, 69.65, 69.175, 67.652, 69.888, 68.862, 69.449, 67.71, 68.399, 69.775, 66.139, 69.188, 70.593, 70.473, 70.768, 72.089, 67.948, 67.573, 70.142, 71.198, 68.497, 71.42, 70.125, 68.31, 71.631, 70.537, 68.724, 72.196, 70.012, 69.214, 67.202, 72.916, 69.027, 66.538, 66.896, 70.072, 68.489, 69.434, 70.435, 69.773, 69.101, 69.979, 68.106, 69.424, 69.42, 68.665, 69.722, 68.168, 72.292, 68.469, 69.921, 67.104, 71.319, 67.995, 68.716, 68.934, 72.974, 70.531, 70.041, 68.127, 68.009, 68.72, 68.982, 72.052, 71.442, 67.562, 69.058, 70.722, 68.761, 68.437, 72.732, 67.161, 69.269, 68.288, 66.76, 68.333, 70.32, 71.438, 72.289, 65.715, 67.921, 69.135, 71.105, 71.577, 69.491, 70.536, 68.611, 71.574, 69.097, 68.963, 68.471, 70.036, 68.236, 68.309, 72.965, 71.359, 67.949, 72.588, 70.043, 73.06, 69.94, 68.799, 68.509, 68.332, 68.343, 71.366, 70.371, 68.513, 68.032, 69.157, 71.949, 69.543, 70.083, 66.89, 68.845, 70.694, 68.301, 68.8, 69.395, 69.436, 68.751, 69.39, 68.958, 70.78, 68.363, 67.541, 69.407, 70.356, 70.004, 68.289, 68.671, 68.911, 68.03, 68.572, 69.11, 70.944, 71.923, 67.86, 67.922, 69.369, 71.713, 68.551, 69.863, 71.985, 67.271, 69.347, 66.841, 69.762, 71.462, 67.064, 68.469, 72.93, 69.629, 68.248, 69.402, 68.766, 70.369, 68.151, 71.729, 69.365, 71.508, 69.565, 71.342, 69.825, 68.898, 71.124, 70.152, 69.294, 70.17, 69.051, 68.7, 69.067, 68.707, 67.733, 69.24, 67.868, 69.633, 72.622, 68.239, 68.816, 69.569, 69.812, 67.772, 70.253, 71.099, 69.827, 70.613, 72.438, 69.027, 68.623, 70.313, 69.121, 69.423, 67.435, 70.231, 69.666, 69.886, 68.474, 69.04, 69.03, 71.648, 70.691, 69.072, 68.803, 70.103, 68.259, 69.384, 72.953, 68.961, 69.569, 69.698, 72.471, 67.535, 68.49, 69.266, 69.525, 68.992, 68.195, 70.679, 72.187, 71.149, 68.507, 68.261, 69.481, 70.826, 68.186, 71.765, 70.264, 71.436, 69.218, 68.777, 69.554, 69.831, 69.55, 68.7, 68.062, 68.042, 69.439, 71.083, 68.391, 68.454, 71.415, 67.74, 71.724, 68.282, 65.751, 67.791, 72.627, 69.614, 69.638, 68.479, 68.077, 69.225, 69.106, 68.654, 70.166, 68.585, 71.753, 69.606, 69.17, 69.522, 67.971, 72.854, 71.992, 68.859, 68.726, 68.579, 70.233, 68.136, 68.748, 69.322, 70.016, 69.767, 69.207, 69.46, 69.835, 69.777, 71.3, 68.075, 70.201, 66.823, 69.641, 67.959, 68.003, 69.292, 69.223, 69.64, 67.975, 69.778, 70.242, 70.112, 71.455, 67.055, 69.42, 72.613, 68.809, 71.973, 67.984, 68.852, 67.714, 68.913, 70.818, 71.684, 66.887, 70.998, 72.308, 68.297, 69.16, 69.76, 69.258, 69.343, 68.636, 69.835, 68.169, 69.235, 68.734, 67.825, 69.492, 67.854, 70.554, 69.88, 69.035, 68.205, 72.471, 73.111, 69.599, 72.299, 69.819, 69.254, 69.523, 67.826, 69.499, 67.722, 68.559, 68.416, 71.733, 69.681, 69.749, 70.365, 68.303, 71.06, 67.416, 67.566, 69.242, 69.497, 69.691, 68.973, 68.702, 68.324, 69.932, 73.303, 69.91, 69.421, 71.361, 71.503, 68.971, 72.815, 66.47, 72.033, 70.249, 69.677, 70.181, 72.726, 68.686, 67.393, 68.894, 66.026, 68.385, 69.145, 71.005, 66.765, 68.466, 68.845, 69.952, 70.506, 67.992, 68.413, 69.627, 72.555, 69.137, 67.057, 68.183, 72.862, 66.505, 68.882, 67.069, 69.047, 68.1, 71.368, 68.798, 73.383, 67.798, 70.479, 70.59, 68.011, 67.098, 68.012, 69.545, 67.374, 69.701, 72.444, 69.071, 67.395, 68.638, 69.017, 70.519, 69.354, 67.697, 68.386, 71.695, 67.599, 68.99, 69.053, 67.767, 72.792, 70.039, 69.91, 67.942, 68.7, 69.769, 67.858, 68.617, 70.08, 69.594, 70.079, 70.194, 68.336, 69.355, 69.046, 71.82, 71.078, 72.078, 68.397, 66.426, 66.911, 68.503, 67.896, 68.034, 69.078, 68.708, 70.675, 69.419, 69.568, 69.095, 68.455, 69.039, 71.995, 69.157, 67.785, 67.307, 66.345, 71.375, 72.675, 68.684, 71.931, 67.97, 68.74, 68.129, 67.078, 68.182, 66.782, 68.477, 68.311, 67.487, 72.178, 67.002, 69.601, 68.638, 66.128, 68.396, 68.907, 67.93, 70.082, 69.937, 69.409, 69.961, 68.219, 65.567, 67.048, 69.673, 69.429, 69.511, 68.941, 70.302, 68.222, 71.77, 69.516, 69.391, 69.15, 68.717, 69.018, 69.011, 71.76, 69.747, 69.416, 73.064, 69.165, 68.382, 68.564, 68.557, 69.265, 72.105, 70.429, 67.207, 71.604, 70.713, 69.347, 71.514, 72.105, 69.398, 70.19, 67.383, 68.238, 67.991, 70.656, 69.858, 68.3, 68.902, 69.972, 68.694, 70.737, 69.457, 67.164, 70.17, 69.419, 68.805, 67.897, 68.918, 69.529, 68.877, 70.539, 68.418, 70.183, 67.831, 68.817, 69.48, 68.992, 69.057, 70.855, 69.391, 69.184, 70.971, 70.392, 69.277, 69.409, 70.265, 66.703, 72.454, 68.281, 68.381, 68.783, 68.255, 68.509, 68.424, 70.035, 68.796, 69.131, 71.466, 66.394, 66.94, 68.063, 70.372, 68.27, 71.74, 72.997, 68.684, 71.016, 68.469, 68.018, 68.869, 69.639, 68.307, 72.701, 67.316, 67.002, 70.645, 68.255, 67.709, 67.635, 67.957, 69.813, 68.443, 69.965, 68.641, 68.356, 69.822, 68.271, 68.285, 72.635, 68.748, 72.354, 68.508, 73.465, 68.728, 70.144, 68.538, 70.537, 68.408, 71.321, 68.768, 70.832, 68.097, 72.803, 69.625, 70.533, 69.874, 68.191, 69.524, 72.279, 68.202, 69.608, 70.469, 67.114, 69.239, 67.295, 67.857, 71.821, 67.986, 69.288, 66.525, 67.998, 67.386, 69.745, 68.951, 70.399, 66.17, 68.954, 68.108, 69.015, 68.285, 66.788, 66.308, 68.318, 68.198, 70.41, 68.785, 67.028, 68.78, 67.238, 69.519, 71.377, 68.623, 71.894, 68.6, 69.318, 68.083, 68.19, 68.33, 71.85, 70.681, 66.748, 69.088, 69.953, 68.061, 70.997, 69.494, 67.519, 69.009, 69.87, 70.107, 69.754, 69.08, 71.705, 69.393, 69.988, 68.771, 68.97, 69.01, 67.619, 67.283, 68.827, 72.428, 69.362, 68.711, 68.199, 68.606, 66.0, 66.373, 69.94, 72.937, 68.847, 68.874, 71.19, 69.749, 69.533, 71.954, 70.765, 68.503, 68.961, 71.425, 69.211, 71.352, 68.628, 70.015, 69.719, 67.102, 67.768, 72.901, 69.808, 67.919, 67.725, 70.11, 66.182, 71.351, 70.041, 68.06, 69.371, 69.887, 68.73, 68.459, 68.273, 69.027, 69.574, 70.843, 71.643, 71.158, 67.733, 69.061, 69.413, 67.975, 69.041, 68.282, 71.882, 67.75, 68.957, 70.28, 67.926, 70.584, 66.63, 70.531, 68.713, 68.299, 68.112, 68.24, 71.729, 70.708, 70.229, 69.01, 70.18, 69.393, 70.48, 69.342, 71.316, 68.092, 70.137, 68.745, 69.787, 69.789, 66.59, 66.823, 69.544, 72.428, 69.332, 68.396, 67.892, 72.953, 69.077, 71.194, 72.567, 68.789, 71.145, 69.847, 69.712, 69.024, 72.807, 69.364, 70.783, 69.234, 69.265, 68.092, 70.076, 70.675, 68.726, 71.89, 68.622, 69.818, 69.951, 66.878, 68.5, 67.675, 68.905, 69.961, 70.058, 71.313, 69.336, 70.352, 66.833, 70.894, 69.286, 68.866, 70.516, 67.879, 69.133, 70.45, 66.495, 69.165, 67.587, 69.411, 70.35, 68.851, 69.431, 68.498, 68.476, 68.053, 70.673, 70.982, 71.947, 69.245, 70.183, 70.446, 68.183, 67.973, 71.281, 69.922, 68.221, 68.654, 69.202, 68.638, 70.228, 68.294, 68.332, 70.828, 72.678, 68.612, 71.646, 68.533, 68.95, 70.271, 69.689, 68.013, 68.25, 69.492, 70.181, 67.948, 73.268, 69.11, 69.706, 68.126, 69.487, 67.918, 68.525, 69.226, 69.328, 68.599, 68.332, 71.832, 69.119, 68.433, 70.323, 69.762, 71.169, 68.349, 73.062, 67.987, 69.694, 70.04, 69.147, 69.243, 67.188, 68.644, 69.633, 69.952, 70.63, 68.582, 71.488, 67.561, 68.428, 69.742, 71.955, 70.828, 67.536, 70.096, 70.983, 66.392, 69.996, 67.697, 69.604, 68.545, 66.951, 71.642, 72.731, 69.37, 69.329, 69.765, 69.725, 68.966, 69.179, 69.69, 71.593, 69.651, 67.302, 68.897, 68.897, 68.928, 71.596, 69.008, 68.639, 70.829, 68.82, 68.664, 68.546, 69.344, 67.92, 66.948, 69.257, 67.871, 68.949, 68.203, 68.475, 70.748, 72.139, 68.547, 70.049, 69.384, 67.674, 71.293, 70.293, 71.675, 68.831, 71.964, 70.42, 69.639, 68.048, 69.008, 69.636, 69.487, 68.269, 69.274, 68.021, 72.872, 70.351, 68.658, 70.64, 73.195, 68.111, 69.457, 69.655, 70.137, 67.958, 68.455, 68.056, 69.621, 69.081, 67.385, 67.624, 69.547, 67.612, 69.172, 71.381, 67.65, 71.21, 66.308, 67.922, 68.075, 67.35, 69.265, 70.773, 67.469, 69.257, 68.429, 68.286, 71.517, 70.626, 68.531, 69.025, 71.334, 66.448, 68.122, 72.733, 69.949, 70.535, 70.842, 68.618, 70.232, 72.737, 69.422, 67.18, 66.879, 69.005, 66.944, 69.044, 70.061, 67.504, 68.147, 69.934, 70.524, 68.956, 68.334, 70.543, 67.8, 73.554, 69.595, 68.723, 69.522, 66.751, 68.676, 68.792, 68.383, 69.15, 69.343, 68.954, 70.959, 70.774, 71.177, 68.635, 70.238, 68.593, 69.712, 67.387, 69.166, 72.81, 69.601, 68.336, 67.441, 70.282, 68.816, 70.665, 67.513, 66.809, 71.965, 68.679, 68.286, 68.856, 68.302, 68.029, 66.386, 69.637, 69.73, 69.461, 70.415, 71.792, 69.589, 69.636, 68.864, 72.374, 71.311, 68.45, 68.902, 67.21, 69.802, 68.703, 68.582, 69.771, 71.475, 69.014, 69.968, 69.63, 69.06, 68.412, 69.375, 68.488, 68.835, 70.045, 69.882, 68.121, 70.269, 68.224, 69.087, 67.659, 71.573, 71.041, 71.25, 69.186, 68.845, 69.039, 68.775, 68.373, 70.45, 71.998, 71.555, 70.277, 69.759, 69.09, 68.954, 66.733, 67.956, 69.463, 68.862, 71.702, 68.831, 68.384, 68.784, 69.799, 69.743, 72.403, 69.375, 70.889, 66.581, 68.322, 70.796, 68.025, 69.732, 71.053, 70.014, 69.04, 67.545, 69.498, 72.95, 69.285, 67.272, 66.615, 69.884, 68.418, 71.243, 70.918, 67.725, 70.041, 69.474, 68.444, 71.408, 68.526, 67.836, 68.33, 69.52, 67.785, 71.527, 68.183, 70.597, 72.95, 68.284, 67.98, 66.58, 68.229, 69.452, 70.117, 69.13, 71.125, 70.2, 71.137, 67.926, 69.15, 69.924, 67.92, 67.689, 68.051, 67.78, 65.881, 69.821, 71.649, 68.516, 69.781, 68.749, 70.704, 68.566, 69.937, 67.778, 68.038, 68.89, 73.148, 67.912, 69.159, 65.944, 69.321, 68.793, 66.092, 69.694, 70.21, 70.256, 73.453, 67.714, 72.508, 70.572, 68.502, 70.785, 67.967, 69.328, 69.324, 69.074, 70.14, 70.057, 70.13, 69.593, 72.394, 71.186, 68.796, 69.619, 66.639, 68.395, 69.478, 71.549, 70.377, 67.924, 70.059, 71.316, 71.33, 70.788, 66.997, 70.34, 69.124, 66.547, 68.978, 68.23, 69.549, 71.724, 69.983, 68.979, 71.837, 68.35, 71.395, 68.488, 69.099, 68.789, 69.752, 69.557, 68.37, 68.366, 70.157, 70.174, 67.497, 70.323, 67.617, 68.288, 68.882, 70.124, 68.807, 68.717, 68.586, 68.756, 69.932, 67.903, 71.473, 67.494, 66.821, 69.47, 68.075, 71.484, 70.078, 67.862, 70.618, 71.858, 67.314, 69.91, 69.053, 70.507, 69.66, 67.825, 70.932, 69.426, 66.993, 69.34, 67.982, 68.499, 70.954, 65.796, 68.422, 69.251, 69.637, 70.093, 68.821, 68.418, 69.44, 72.81, 71.685, 69.295, 69.162, 68.251, 70.698, 71.267, 72.711, 68.058, 69.312, 66.721, 71.687, 69.087, 70.235, 68.332, 68.136, 67.101, 69.681, 69.681, 71.446, 69.801, 68.052, 69.863, 69.376, 69.048, 69.853, 68.932, 69.937, 71.261, 69.785, 68.273, 68.769, 67.568, 69.802, 72.697, 67.999, 69.858, 68.166, 69.234, 66.004, 69.393, 71.284, 69.597, 70.58, 68.17, 67.358, 69.324, 68.278, 71.876, 67.964, 66.298, 70.253, 69.949, 69.978, 67.104, 71.112, 71.966, 67.437, 69.927, 69.839, 68.228, 69.801, 68.866, 70.565, 67.494, 68.055, 67.089, 69.446, 69.45, 71.826, 68.838, 67.791, 67.467, 72.577, 68.406, 68.747, 68.389, 69.614, 68.64, 65.07, 70.162, 69.29, 67.901, 70.381, 71.211, 71.168, 68.258, 68.2, 67.598, 69.146, 73.58, 70.344, 67.5, 67.097, 68.484, 70.112, 68.938, 69.1, 70.632, 65.848, 68.852, 71.08, 69.171, 68.455, 68.363, 70.712, 68.949, 69.858, 68.174, 69.829, 68.31, 71.57, 70.732, 69.259, 69.199, 68.014, 70.332, 71.252, 68.235, 70.725, 68.139, 69.484, 66.991, 67.645, 69.859, 67.949, 69.166, 70.892, 72.478, 71.44, 67.237, 69.776, 66.909, 69.787, 68.416, 72.383, 70.438, 72.223, 66.893, 65.982, 69.725, 72.857, 69.189, 67.547, 69.407, 69.287, 69.985, 68.334, 66.712, 68.251, 69.437, 71.184, 68.5, 68.725, 66.558, 69.564, 69.525, 71.362, 66.201, 68.855, 68.497, 69.806, 68.771, 68.775, 68.844, 71.499, 69.201, 69.28, 68.167, 69.013, 73.626, 72.512, 67.704, 69.662, 68.254, 68.764, 69.119, 68.599, 67.934, 66.609, 66.573, 68.904, 70.98, 70.058, 69.473, 68.983, 70.479, 72.885, 71.65, 68.578, 68.683, 69.556, 66.477, 68.369, 69.385, 68.799, 67.945, 72.556, 68.323, 70.753, 69.423, 66.755, 68.973, 71.559, 71.869, 69.053, 71.226, 69.538, 68.772, 69.998, 69.23, 70.382, 68.829, 72.703, 67.923, 68.55, 68.673, 68.407, 69.279, 68.339, 68.7, 70.271, 68.954, 69.177, 68.246, 69.04, 68.469, 71.537, 69.037, 69.806, 71.317, 71.245, 68.0, 68.906, 68.163, 70.918, 68.203, 68.054, 67.464, 70.814, 70.62, 70.218, 67.657, 70.461, 70.013, 71.637, 68.224, 67.207, 69.694, 67.9, 68.835, 69.387, 67.037, 68.603, 67.517, 67.754, 71.349, 67.269, 72.694, 68.548, 70.182, 69.26, 68.419, 66.997, 71.167, 66.579, 68.099, 69.833, 68.581, 69.536, 69.41, 69.779, 70.885, 68.129, 68.19, 68.279, 71.082, 70.694, 70.526, 68.858, 69.576, 70.075, 68.472, 68.289, 72.45, 69.203, 69.354, 72.639, 70.028, 68.635, 69.726, 69.818, 70.504, 68.087, 69.648, 71.031, 68.369, 69.424, 69.061, 70.117, 66.758, 68.338, 68.987, 68.595, 70.769, 68.183, 67.1, 67.924, 72.041, 69.48, 68.761, 71.772, 68.412, 67.246, 69.963, 72.93, 69.899, 69.39, 68.352, 68.435, 69.974, 68.594, 69.223, 68.412, 68.328, 71.501, 69.281, 67.694, 71.402, 70.418, 69.819, 69.615, 69.283, 68.107, 71.663, 70.06, 68.639, 64.502, 70.184, 70.982, 68.338, 68.175, 71.865, 70.674, 70.974, 69.941, 68.091, 67.757, 70.607, 72.046, 72.576, 68.931, 68.669, 68.783, 70.626, 68.824, 68.488, 69.115, 68.356, 69.234, 69.154, 67.997, 68.634, 69.719, 67.999, 69.352, 70.295, 68.888, 68.392, 68.425, 68.877, 70.13, 72.724, 72.656, 70.295, 67.99, 71.324, 70.317, 66.328, 72.379, 68.296, 72.408, 70.038, 70.076, 69.746, 67.754, 68.706, 69.457, 70.625, 68.406, 72.509, 68.354, 68.29, 70.009, 70.493, 68.123, 68.907, 69.266, 68.541, 70.517, 67.834, 69.668, 69.448, 66.458, 69.08, 68.362, 68.979, 68.381, 66.099, 68.295, 68.553, 68.351, 69.403, 71.266, 68.863, 67.558, 70.537, 69.739, 70.901, 70.606, 67.158, 68.723, 69.049, 67.739, 67.066, 68.841, 67.513, 69.236, 69.103, 68.15, 69.647, 72.836, 67.031, 69.638, 69.031, 68.717, 68.558, 68.724, 68.701, 69.656, 68.818, 68.841, 71.653, 68.853, 67.342, 69.242, 72.738, 68.495, 69.9, 69.324, 69.723, 71.566, 71.231, 71.197, 68.161, 67.585, 69.459, 68.697, 68.399, 68.616, 68.901, 68.937, 71.389, 68.948, 69.181, 69.553, 68.988, 70.797, 68.206, 68.172, 66.865, 66.319, 68.05, 69.652, 71.805, 68.844, 68.44, 70.648, 69.52, 68.137, 70.03, 72.637, 68.985, 69.853, 72.968, 72.225, 70.288, 68.6, 67.738, 68.887, 69.583, 71.968, 69.783, 73.143, 68.674, 67.586, 71.08, 66.907, 68.426, 70.467, 68.35, 67.947, 72.71, 69.761, 68.578, 67.583, 72.095, 72.97, 67.984, 68.471, 71.863, 69.61, 68.557, 70.044, 70.147, 71.489, 67.533, 72.805, 68.429, 68.081, 70.061, 68.898, 69.071, 68.728, 69.454, 71.033, 69.874, 67.984, 70.236, 71.309, 72.511, 69.15, 70.146, 68.771, 69.16, 70.352, 69.099, 69.192, 67.818, 69.972, 69.64, 68.495, 68.937, 70.2, 67.318, 70.313, 70.016, 70.515, 72.321, 68.197, 66.585, 67.59, 69.357, 68.121, 73.079, 68.549, 73.115, 68.48, 68.016, 68.956, 68.819, 69.59, 69.749, 68.279, 68.053, 69.716, 71.489, 68.309, 72.979, 66.092, 68.881, 70.244, 67.901, 72.991, 70.339, 69.052, 68.634, 69.803, 68.73, 69.792, 69.336, 70.994, 68.991, 68.147, 68.724, 67.67, 71.38, 69.923, 69.358, 68.177, 69.021, 71.5, 73.113, 68.728, 71.188, 68.564, 68.415, 68.468, 67.652, 69.222, 69.205, 69.551, 68.419, 68.647, 69.748, 68.97, 68.117, 68.897, 71.187, 66.6, 69.803, 67.056, 69.462, 67.969, 67.538, 71.374, 68.369, 69.58, 70.404, 68.6, 66.555, 73.029, 68.278, 66.188, 68.022, 69.899, 69.974, 73.078, 69.087, 71.125, 67.128, 68.217, 69.073, 71.05, 70.058, 67.175, 68.93, 68.859, 66.619, 68.654, 68.096, 68.738, 69.936, 67.506, 68.837, 68.586, 67.905, 68.539, 70.03, 68.949, 69.841, 68.675, 71.594, 68.105, 68.115, 70.284, 69.259, 68.901, 70.109, 69.793, 70.418, 68.825, 71.454, 68.11, 68.14, 71.383, 71.148, 69.039, 69.178, 69.058, 65.755, 71.962, 70.625, 68.409, 68.224, 69.76, 69.092, 68.904, 69.487, 68.367, 68.339, 72.21, 68.306, 69.669, 67.975, 69.255, 66.553, 70.982, 68.265, 68.315, 68.903, 72.561, 66.83, 70.004, 66.658, 68.145, 69.383, 68.255, 69.276, 68.705, 71.947, 69.785, 70.39, 69.723, 66.153, 68.842, 68.62, 69.924, 69.171, 69.02, 72.403, 70.675, 70.28, 67.601, 67.789, 71.253, 66.498, 68.387, 67.985, 68.665, 69.226, 70.919, 69.001, 69.635, 69.228, 70.927, 69.651, 67.748, 68.88, 71.481, 69.969, 68.692, 70.002, 71.512, 68.872, 68.824, 69.232, 70.17, 68.662, 69.648, 68.489, 70.277, 69.734, 69.5, 69.793, 72.916, 70.476, 69.771, 66.823, 69.469, 69.019, 72.505, 68.154, 71.454, 68.995, 68.895, 70.031, 68.495, 69.047, 71.839, 68.294, 67.838, 68.997, 70.037, 66.776, 68.868, 67.981, 69.738, 71.181, 68.408, 69.175, 67.58, 68.841, 70.832, 68.278, 71.631, 69.697, 69.033, 66.914, 67.715, 67.11, 68.942, 68.788, 71.913, 69.074, 66.206, 68.309, 69.281, 67.655, 71.426, 68.987, 70.365, 68.679, 68.26, 69.647, 72.36, 70.72, 68.565, 69.901, 69.549, 65.711, 68.588, 69.567, 70.442, 69.763, 71.088, 69.372, 71.201, 70.251, 68.108, 66.648, 71.675, 70.504, 70.69, 72.735, 67.429, 71.024, 69.567, 70.646, 67.181, 68.88, 71.249, 69.094, 71.701, 68.286, 67.499, 72.712, 67.92, 69.475, 68.252, 72.396, 71.717, 69.05, 68.43, 72.456, 68.397, 67.557, 70.128, 66.418, 68.08, 69.157, 73.331, 72.083, 70.006, 73.288, 68.664, 67.857, 68.252, 68.886, 66.283, 68.497, 68.72, 69.693, 68.964, 68.731, 68.659, 70.361, 68.259, 68.76, 68.236, 69.497, 70.951, 68.48, 68.77, 70.067, 67.383, 71.636, 70.717, 70.048, 68.054, 69.668, 70.944, 69.736, 68.689, 69.652, 68.715, 67.911, 70.083, 71.302, 68.356, 68.845, 68.614, 65.682, 68.459, 68.538, 68.933, 71.413, 69.807, 69.973, 69.235, 69.563, 69.676, 69.413, 69.859, 69.622, 69.605, 69.994, 70.497, 68.517, 70.269, 68.271, 69.74, 71.899, 71.88, 68.776, 69.348, 71.427, 70.692, 67.79, 69.593, 70.804, 68.254, 69.476, 73.276, 71.61, 69.312, 70.076, 70.31, 66.814, 71.967, 68.005, 69.375, 67.363, 69.725, 71.484, 72.403, 70.303, 68.404, 68.257, 70.643, 68.902, 68.966, 66.405, 69.221, 68.137, 68.338, 70.396, 69.973, 72.504, 69.324, 68.332, 68.907, 70.443, 69.208, 67.562, 68.063, 68.559, 69.896, 68.764, 69.78, 69.827, 70.03, 68.133, 72.722, 69.234, 65.895, 67.778, 68.811, 73.109, 69.224, 68.714, 66.21, 68.16, 70.442, 69.957, 69.953, 69.797, 72.34, 67.748, 66.746, 68.846, 72.146, 68.764, 67.59, 70.423, 72.19, 67.684, 66.67, 67.356, 68.68, 68.624, 68.708, 69.273, 69.078, 69.08, 69.918, 66.294, 69.076, 70.311, 68.696, 68.764, 68.998, 69.162, 68.742, 68.792, 71.175, 68.434, 66.636, 69.059, 68.012, 69.617, 70.759, 67.309, 72.45, 67.965, 69.563, 71.748, 68.87, 68.166, 70.082, 68.496, 68.093, 67.868, 73.597, 72.583, 69.068, 67.919, 69.364, 68.191, 68.516, 69.134, 68.665, 66.986, 69.23, 68.906, 69.091, 68.17, 71.764, 71.081, 69.263, 69.315, 68.519, 68.655, 67.279, 72.094, 68.366, 68.528, 69.39, 69.444, 72.078, 67.974, 69.112, 68.489, 68.694, 68.579, 71.061, 68.067, 66.684, 68.332, 71.049, 69.878, 69.015, 72.32, 70.921, 68.704, 69.643, 66.277, 68.496, 68.64, 69.833, 67.865, 70.026, 69.033, 70.614, 66.028, 67.889, 68.933, 68.776, 68.176, 72.021, 68.191, 66.721, 70.557, 67.362, 69.502, 67.361, 68.907, 68.615, 69.888, 71.361, 69.394, 71.454, 67.967, 68.435, 69.801, 68.738, 68.757, 69.79, 67.186, 67.452, 69.269, 68.274, 70.457, 69.503, 69.967, 69.906, 73.379, 70.937, 69.153, 68.499, 68.797, 66.994, 70.971, 71.846, 70.676, 68.435, 73.016, 67.371, 69.009, 68.675, 68.792, 68.558, 71.149, 71.496, 69.816, 68.959, 68.945, 67.008, 68.295, 72.849, 69.891, 69.559, 71.554, 69.73, 70.749, 67.526, 68.148, 69.28, 70.253, 71.991, 67.36, 64.996, 71.389, 69.292, 68.822, 68.976, 68.38, 68.442, 69.511, 70.258, 71.207, 70.231, 68.441, 71.483, 70.827, 69.029, 69.067, 68.74, 68.432, 68.456, 69.185, 72.116, 68.038, 68.366, 69.512, 69.751, 69.673, 68.84, 66.299, 70.298, 68.001, 67.59, 69.403, 68.572, 71.871, 70.697, 69.502, 68.967, 68.02, 70.402, 69.102, 68.194, 69.062, 68.842, 69.339, 72.721, 68.534, 73.102, 72.516, 69.773, 69.356, 67.29, 69.319, 69.843, 69.798, 68.366, 68.931, 69.781, 68.262, 68.165, 69.53, 68.801, 68.577, 70.98, 71.49, 68.732, 69.115, 67.909, 69.491, 69.868, 69.22, 67.614, 72.521, 68.435, 69.243, 68.091, 67.652, 72.782, 69.643, 68.451, 66.939, 68.774, 65.808, 69.061, 68.88, 69.342, 73.177, 73.139, 73.072, 66.746, 68.543, 69.543, 70.834, 69.996, 70.461, 65.856, 71.325, 70.178, 70.415, 69.275, 68.775, 68.471, 68.884, 69.371, 70.728, 69.823, 70.025, 66.911, 68.681, 69.867, 67.842, 69.218, 70.855, 70.813, 69.014, 67.018, 73.003, 72.189, 68.256, 69.978, 68.402, 68.885, 71.053, 70.188, 72.435, 67.94, 69.848, 68.759, 68.119, 69.242, 68.315, 69.916, 71.78, 67.592, 69.394, 70.05, 71.154, 72.792, 70.106, 72.404, 69.346, 68.999, 69.183, 73.469, 68.935, 68.814, 69.353, 70.065, 69.48, 68.685, 70.07, 68.645, 68.482, 69.334, 68.265, 70.585, 70.453, 71.332, 69.898, 70.403, 69.058, 71.466, 68.861, 69.188, 67.836, 69.33, 72.833, 69.503, 67.776, 68.672, 68.024, 68.788, 66.606, 68.525, 69.524, 69.227, 71.177, 68.16, 69.489, 70.18, 68.117, 69.43, 68.562, 68.679, 69.17, 72.583, 69.496, 70.028, 71.071, 69.648, 70.933, 66.996, 72.465, 70.747, 69.338, 68.756, 69.557, 68.016, 67.664, 67.43, 69.372, 72.687, 70.224, 70.167, 67.93, 69.092, 72.141, 69.212, 71.946, 68.908, 70.069, 67.116, 72.708, 67.908, 69.443, 68.497, 70.152, 71.155, 68.788, 69.766, 68.255, 70.611, 69.404, 68.559, 66.09, 66.885, 71.055, 67.964, 70.3, 71.29, 66.524, 67.057, 66.905, 72.876, 68.501, 69.783, 69.57, 69.141, 69.951, 65.35, 68.675, 70.865, 68.914, 68.434, 70.852, 69.745, 68.083, 69.723, 72.259, 71.661, 68.131, 67.941, 69.012, 69.135, 72.884, 70.093, 67.977, 71.605, 72.846, 70.296, 69.755, 68.455, 68.528, 68.718, 70.197, 69.373, 69.097, 70.142, 70.142, 70.183, 70.251, 68.309, 69.444, 68.675, 66.951, 69.605, 71.171, 69.41, 69.511, 68.178, 70.683, 69.263, 72.401, 71.788, 69.789, 68.211, 68.587, 68.933, 68.901, 68.854, 68.689, 71.198, 69.966, 66.699, 70.104, 68.875, 71.254, 68.383, 68.693, 70.165, 69.24, 67.439, 69.221, 68.248, 68.229, 69.2, 68.593, 71.822, 68.172, 67.836, 69.38, 70.587, 69.306, 72.476, 66.286, 66.893, 68.275, 68.193, 70.383, 69.837, 67.728, 67.098, 65.883, 68.075, 68.958, 69.936, 68.972, 68.724, 68.517, 70.088, 65.878, 70.147, 66.619, 71.845, 68.354, 67.956, 68.707, 69.628, 71.707, 68.385, 68.634, 68.502, 68.835, 69.939, 67.258, 71.789, 69.942, 69.874, 69.367, 67.454, 67.087, 69.246, 68.974, 69.163, 69.551, 68.783, 68.47, 68.634, 68.594, 68.335, 70.414, 69.656, 71.52, 68.392, 70.344, 69.183, 69.574, 68.361, 72.569, 71.361, 68.156, 72.89, 70.611, 69.109, 68.508, 68.592, 67.256, 68.437, 70.149, 67.947, 68.073, 70.53, 70.218, 69.95, 68.95, 68.649, 68.171], 'ddgg': [71.482, 69.069, 69.283, 68.748, 68.613, 68.223, 71.378, 70.064, 68.62, 70.083, 70.279, 68.65, 70.443, 70.081, 70.382, 69.655, 68.489, 71.076, 69.845, 70.414, 65.551, 70.696, 69.034, 69.848, 69.055, 70.715, 69.516, 69.209, 70.827, 68.185, 69.243, 68.969, 68.867, 70.502, 70.439, 68.883, 71.169, 69.538, 70.733, 71.449, 70.873, 68.959, 70.02, 68.831, 68.623, 70.698, 67.489, 71.337, 68.916, 69.354, 69.554, 69.911, 69.1, 69.03, 68.853, 68.785, 70.994, 69.311, 67.717, 69.433, 70.609, 69.497, 69.946, 69.693, 69.302, 69.437, 70.409, 69.273, 68.881, 70.165, 68.861, 68.883, 70.402, 69.551, 68.459, 68.974, 70.257, 68.369, 67.891, 69.799, 68.805, 69.951, 68.749, 69.037, 69.291, 70.022, 71.284, 69.157, 71.694, 70.169, 70.894, 69.764, 71.956, 70.189, 70.058, 70.79, 69.527, 68.762, 69.165, 68.669, 68.868, 68.735, 69.004, 69.364, 69.149, 68.788, 69.414, 69.652, 68.976, 70.438, 71.02, 70.58, 69.577, 69.819, 69.012, 71.008, 67.819, 70.579, 70.371, 70.074, 70.06, 70.509, 70.079, 69.687, 68.561, 70.539, 70.646, 69.364, 68.767, 69.721, 68.945, 69.026, 70.169, 70.522, 69.234, 69.15, 69.375, 69.02, 68.678, 68.795, 68.841, 68.996, 69.456, 67.857, 71.315, 69.912, 70.953, 68.812, 70.169, 69.136, 71.487, 69.745, 68.865, 68.75, 67.472, 69.587, 70.432, 69.135, 69.083, 70.706, 68.553, 68.548, 70.191, 69.081, 70.365, 68.848, 68.687, 68.567, 68.69, 69.15, 71.719, 68.85, 69.426, 68.996, 69.667, 69.495, 69.063, 68.363, 69.124, 67.7, 70.523, 71.616, 68.89, 70.3, 69.158, 69.333, 70.297, 68.836, 68.921, 69.485, 70.394, 68.799, 68.773, 68.51, 69.91, 69.525, 69.805, 70.851, 69.506, 70.424, 67.941, 68.715, 71.339, 68.824, 69.287, 68.885, 71.526, 68.884, 69.807, 69.105, 70.129, 70.306, 70.049, 70.596, 70.759, 69.048, 69.187, 68.698, 69.529, 69.582, 69.649, 68.982, 68.134, 69.894, 71.564, 70.358, 69.776, 68.616, 69.076, 70.288, 68.084, 69.116, 68.582, 68.801, 68.831, 69.006, 69.031, 68.579, 71.274, 69.124, 69.854, 70.986, 69.863, 68.892, 68.907, 69.739, 69.367, 69.318, 69.595, 69.061, 70.107, 69.129, 69.763, 69.492, 70.584, 70.607, 69.126, 68.834, 69.622, 70.55, 71.152, 68.973, 68.616, 69.541, 68.468, 69.667, 69.132, 69.675, 68.627, 71.088, 67.948, 68.946, 68.977, 71.58, 69.906, 69.004, 68.098, 68.793, 69.365, 70.713, 67.998, 68.791, 69.745, 69.9, 69.934, 67.636, 69.178, 68.876, 71.142, 69.131, 69.549, 69.303, 69.262, 69.334, 69.832, 69.793, 68.572, 70.183, 67.855, 68.454, 68.401, 69.076, 68.537, 69.377, 69.521, 69.366, 69.035, 69.753, 69.233, 68.055, 69.966, 69.013, 69.775, 70.434, 68.965, 69.52, 69.004, 69.257, 68.856, 69.041, 69.48, 68.924, 68.902, 68.975, 68.786, 69.436, 68.953, 70.019, 69.909, 68.993, 70.502, 69.788, 70.9, 69.838, 69.06, 70.795, 69.057, 69.125, 70.995, 70.109, 69.396, 68.806, 71.221, 69.691, 69.612, 71.913, 69.106, 70.137, 70.862, 70.782, 70.546, 68.109, 69.141, 69.315, 69.956, 69.131, 68.07, 69.19, 69.498, 68.652, 70.303, 68.644, 71.026, 69.88, 68.716, 71.317, 69.284, 68.409, 70.036, 68.981, 69.301, 70.261, 70.045, 70.385, 69.593, 68.548, 69.535, 67.964, 70.554, 67.939, 68.736, 69.812, 70.644, 69.272, 69.783, 69.062, 69.55, 70.621, 68.514, 70.334, 68.426, 71.319, 70.695, 70.638, 70.079, 69.144, 68.332, 67.534, 69.033, 67.664, 71.096, 69.21, 69.2, 70.493, 69.035, 70.045, 68.755, 67.939, 68.378, 68.999, 70.204, 71.933, 68.941, 69.684, 70.027, 69.26, 68.735, 69.1, 70.806, 70.29, 69.542, 70.026, 69.238, 69.277, 69.871, 68.994, 69.797, 68.525, 69.827, 68.935, 69.274, 69.505, 68.143, 70.684, 69.337, 68.634, 68.869, 71.36, 68.962, 68.323, 69.857, 69.025, 70.068, 70.979, 68.996, 70.486, 70.308, 70.035, 68.283, 69.781, 70.378, 69.708, 68.845, 69.529, 68.191, 68.787, 68.963, 69.229, 69.067, 69.231, 68.533, 69.276, 69.983, 68.777, 68.981, 70.76, 70.583, 70.208, 67.46, 71.691, 69.657, 67.941, 69.613, 67.912, 71.113, 68.965, 71.05, 69.109, 68.944, 68.872, 68.891, 69.009, 69.612, 69.084, 68.379, 68.885, 69.309, 69.334, 68.976, 68.909, 69.072, 69.333, 69.135, 69.303, 68.958, 70.202, 70.683, 68.179, 69.638, 70.279, 70.979, 68.831, 69.624, 70.106, 68.493, 69.067, 69.911, 68.101, 71.249, 70.881, 68.743, 68.804, 69.0, 70.088, 70.452, 70.53, 70.954, 70.259, 69.448, 68.99, 68.966, 68.778, 69.261, 68.836, 71.447, 70.404, 71.853, 67.321, 68.978, 68.924, 70.801, 70.33, 68.833, 68.103, 69.246, 69.019, 69.831, 68.446, 68.331, 69.025, 69.427, 68.72, 69.294, 67.622, 67.977, 67.956, 70.256, 70.262, 68.79, 69.722, 68.916, 68.735, 70.385, 70.321, 69.005, 69.449, 68.736, 71.738, 70.396, 68.179, 69.003, 70.985, 70.449, 68.705, 70.856, 70.408, 70.894, 69.166, 70.397, 69.955, 71.4, 68.599, 69.394, 69.163, 69.677, 68.623, 68.948, 68.52, 69.079, 71.48, 68.223, 69.049, 69.08, 71.023, 70.406, 68.435, 69.449, 69.593, 69.242, 70.986, 69.653, 69.644, 69.058, 69.188, 68.524, 70.451, 71.468, 69.332, 69.846, 70.526, 69.163, 68.357, 68.947, 68.699, 70.59, 68.856, 70.746, 69.305, 68.469, 68.41, 70.973, 70.373, 69.047, 69.422, 69.525, 69.454, 69.28, 68.501, 70.923, 69.092, 69.113, 69.225, 70.96, 68.83, 70.19, 68.158, 68.789, 68.848, 69.414, 70.439, 70.206, 68.873, 70.374, 70.127, 68.994, 68.808, 67.984, 68.664, 69.904, 70.318, 68.849, 70.105, 69.223, 68.83, 68.637, 70.387, 68.865, 68.861, 69.977, 69.565, 69.432, 68.07, 71.036, 69.585, 71.406, 68.686, 69.545, 68.43, 69.522, 69.211, 69.563, 69.695, 69.167, 69.641, 68.728, 70.75, 69.541, 69.671, 69.293, 69.576, 69.146, 68.957, 69.487, 68.915, 69.831, 68.546, 69.1, 68.639, 68.974, 69.169, 69.162, 68.975, 70.807, 71.259, 70.366, 68.544, 68.893, 69.326, 70.11, 71.225, 69.277, 70.326, 68.552, 69.456, 69.354, 70.509, 70.063, 69.56, 71.055, 70.242, 68.781, 70.452, 70.03, 68.854, 70.266, 70.087, 69.296, 68.65, 69.728, 68.529, 69.373, 70.013, 69.216, 68.628, 69.009, 69.206, 71.031, 69.881, 69.279, 69.035, 68.941, 68.891, 68.572, 69.934, 69.698, 69.035, 69.488, 69.421, 68.673, 68.99, 69.07, 71.16, 68.826, 69.328, 69.828, 68.974, 68.348, 70.069, 70.285, 69.226, 69.242, 68.774, 71.524, 69.574, 70.576, 68.714, 71.26, 68.278, 68.315, 69.001, 68.8, 69.547, 69.847, 69.723, 69.735, 68.232, 69.161, 71.056, 68.545, 70.613, 68.816, 68.484, 71.52, 69.342, 69.94, 68.839, 68.319, 69.498, 70.22, 69.061, 69.164, 69.626, 71.026, 71.263, 71.832, 68.413, 68.994, 69.677, 69.82, 70.502, 69.495, 68.719, 69.742, 68.872, 72.05, 69.112, 70.285, 69.578, 67.403, 70.756, 70.91, 69.285, 68.852, 68.829, 70.771, 69.627, 69.244, 68.873, 69.825, 69.456, 69.043, 69.204, 71.601, 68.574, 70.931, 69.0, 66.918, 70.64, 69.326, 71.082, 69.855, 68.524, 71.096, 70.97, 68.671, 70.303, 70.142, 70.461, 68.868, 70.861, 71.185, 69.287, 68.585, 68.339, 70.269, 68.371, 70.143, 68.644, 70.014, 69.256, 70.788, 69.346, 69.046, 69.857, 71.411, 69.322, 69.779, 70.806, 69.378, 69.246, 71.163, 67.827, 70.03, 68.453, 71.004, 69.015, 68.756, 68.279, 68.586, 69.301, 69.401, 68.897, 70.525, 69.858, 68.301, 69.119, 70.739, 69.948, 70.335, 69.481, 69.11, 69.07, 69.368, 69.761, 69.761, 69.413, 69.064, 69.148, 68.939, 69.022, 68.629, 69.567, 70.488, 68.536, 69.652, 70.32, 71.107, 68.677, 69.917, 69.34, 68.893, 68.992, 69.245, 69.612, 68.859, 68.608, 69.117, 69.23, 70.041, 69.792, 68.967, 69.403, 68.155, 70.002, 68.554, 69.213, 69.096, 69.752, 70.993, 69.944, 69.397, 68.361, 69.137, 69.816, 70.374, 68.541, 69.359, 69.29, 68.574, 68.22, 68.665, 68.722, 68.648, 69.682, 69.258, 69.724, 68.999, 71.646, 71.283, 69.544, 69.733, 69.496, 69.038, 69.127, 68.215, 68.77, 69.19, 70.628, 69.287, 71.457, 70.502, 70.469, 70.169, 71.556, 68.813, 68.771, 68.619, 69.456, 70.433, 69.097, 69.014, 69.734, 69.157, 68.356, 69.471, 68.379, 68.745, 69.462, 69.099, 68.419, 69.155, 70.905, 69.764, 69.027, 68.95, 69.057, 69.036, 68.695, 69.689, 69.709, 69.836, 68.448, 69.422, 69.309, 69.421, 69.968, 68.818, 69.067, 69.732, 69.097, 70.619, 68.904, 69.447, 70.698, 68.893, 70.134, 69.325, 71.031, 69.955, 67.954, 68.601, 68.791, 70.34, 69.66, 69.058, 71.119, 68.522, 68.951, 69.695, 69.522, 71.186, 69.701, 69.155, 69.171, 68.972, 68.511, 69.205, 69.754, 68.804, 68.154, 69.15, 70.155, 69.594, 69.111, 69.106, 69.126, 67.641, 68.68, 68.932, 69.309, 67.936, 68.693, 70.183, 68.595, 70.466, 69.19, 69.178, 68.913, 69.25, 71.429, 67.464, 69.703, 69.93, 69.018, 69.932, 68.935, 67.957, 69.558, 71.56, 68.914, 68.795, 68.942, 69.861, 69.234, 69.487, 69.729, 69.643, 68.973, 70.805, 71.087, 68.879, 68.306, 69.357, 69.539, 69.021, 68.811, 69.921, 69.46, 69.84, 68.68, 69.585, 68.676, 69.18, 70.384, 69.84, 69.963, 70.294, 69.378, 70.921, 68.77, 69.239, 68.963, 69.292, 68.777, 68.724, 69.99, 66.97, 68.306, 70.065, 70.472, 70.282, 69.383, 71.06, 70.148, 69.265, 69.205, 69.788, 69.971, 68.789, 69.259, 70.929, 69.085, 72.033, 71.223, 68.8, 69.287, 71.481, 67.974, 69.826, 69.635, 69.49, 70.17, 70.104, 69.791, 69.911, 69.398, 69.159, 70.613, 69.367, 69.755, 70.327, 69.49, 69.301, 68.729, 71.354, 68.77, 68.829, 70.171, 70.321, 68.725, 69.415, 68.744, 68.608, 69.581, 68.904, 69.295, 69.479, 70.559, 69.088, 70.492, 71.343, 70.771, 68.769, 69.016, 71.408, 69.971, 69.449, 71.239, 68.096, 70.323, 71.56, 71.424, 69.014, 71.29, 68.745, 71.09, 70.484, 69.521, 68.83, 69.893, 69.304, 69.196, 69.137, 70.033, 71.547, 68.886, 69.465, 69.32, 69.795, 71.843, 68.854, 68.806, 67.818, 70.336, 67.892, 68.467, 68.803, 69.132, 71.732, 69.71, 69.043, 69.654, 70.011, 70.68, 69.459, 69.405, 70.633, 69.248, 70.285, 68.811, 69.054, 70.07, 70.401, 69.156, 69.76, 69.646, 68.839, 69.0, 71.347, 69.0, 69.782, 69.184, 70.064, 69.968, 69.661, 67.627, 68.739, 69.25, 69.236, 68.628, 71.072, 70.236, 70.331, 70.587, 70.007, 70.563, 69.57, 68.985, 69.131, 70.007, 69.43, 68.528, 69.746, 70.742, 69.339, 69.229, 68.696, 69.359, 70.215, 68.706, 69.444, 69.471, 69.2, 68.742, 69.079, 69.56, 68.951, 69.293, 68.959, 70.932, 68.447, 68.548, 69.087, 68.744, 69.654, 68.954, 69.272, 69.183, 69.021, 69.24, 68.828, 71.662, 70.319, 69.022, 71.454, 68.842, 69.286, 68.603, 69.384, 69.158, 70.721, 68.848, 69.628, 68.352, 69.491, 68.972, 70.031, 69.125, 69.359, 69.684, 69.344, 70.592, 69.146, 70.009, 67.955, 68.115, 69.989, 70.255, 68.743, 71.568, 68.578, 70.458, 69.445, 69.444, 70.812, 70.032, 68.597, 70.078, 69.017, 68.395, 70.766, 69.184, 67.893, 68.705, 69.549, 69.103, 69.812, 69.458, 69.742, 70.933, 70.19, 71.291, 70.507, 69.744, 70.91, 69.251, 69.415, 70.098, 68.79, 69.348, 68.899, 68.691, 68.89, 68.288, 69.173, 69.19, 69.503, 69.018, 71.457, 68.466, 70.13, 68.685, 71.093, 68.938, 69.367, 68.105, 69.349, 71.114, 67.907, 69.662, 70.293, 70.609, 70.545, 70.764, 68.898, 70.529, 71.69, 69.75, 69.766, 69.489, 69.095, 69.296, 69.556, 70.29, 69.238, 70.548, 71.31, 71.0, 70.076, 68.031, 69.686, 69.501, 71.416, 69.355, 69.787, 70.088, 69.119, 68.38, 70.379, 68.905, 69.598, 71.82, 68.964, 68.988, 70.003, 69.252, 68.722, 71.18, 70.08, 70.11, 69.227, 70.662, 69.201, 70.644, 69.772, 70.256, 68.903, 70.362, 69.555, 70.181, 70.885, 69.568, 68.846, 68.927, 69.376, 71.045, 69.343, 70.926, 68.85, 69.487, 70.092, 68.323, 68.905, 70.941, 70.231, 67.776, 69.509, 70.086, 69.2, 70.067, 69.137, 70.723, 69.27, 68.492, 70.095, 68.528, 70.455, 68.43, 69.71, 68.814, 69.604, 68.947, 68.679, 68.836, 69.96, 68.602, 70.755, 69.422, 69.329, 71.069, 68.679, 69.974, 68.378, 69.658, 69.757, 69.687, 70.805, 72.087, 69.329, 68.972, 69.265, 69.677, 69.665, 69.163, 69.247, 68.637, 68.912, 67.842, 68.936, 68.121, 69.063, 70.412, 69.171, 71.492, 69.101, 68.803, 68.715, 69.594, 68.87, 69.57, 69.171, 68.755, 70.192, 70.821, 70.095, 69.913, 70.255, 69.044, 69.532, 68.904, 70.58, 70.536, 69.627, 69.091, 68.728, 70.502, 71.055, 69.685, 70.408, 69.125, 71.539, 69.941, 69.505, 69.721, 67.768, 69.189, 69.195, 69.244, 69.483, 70.053, 69.095, 69.221, 71.179, 69.166, 71.32, 69.125, 69.223, 69.345, 69.892, 68.49, 69.982, 68.512, 71.458, 68.789, 68.501, 69.755, 69.252, 69.767, 68.494, 69.625, 69.718, 69.563, 69.137, 69.26, 71.497, 69.978, 70.596, 69.519, 68.628, 69.476, 69.116, 69.514, 70.462, 68.995, 69.066, 68.64, 69.059, 69.67, 69.793, 69.127, 68.851, 68.897, 69.636, 68.84, 67.859, 69.706, 68.962, 70.399, 69.282, 70.587, 69.486, 68.394, 68.974, 68.684, 68.78, 69.233, 68.83, 68.942, 69.386, 69.062, 70.427, 68.809, 69.161, 69.174, 68.972, 69.302, 68.793, 71.322, 69.157, 70.562, 68.934, 69.036, 69.512, 71.187, 69.196, 71.083, 69.222, 69.199, 69.84, 71.172, 68.358, 69.099, 68.341, 68.968, 70.73, 68.942, 67.989, 68.211, 70.193, 68.882, 68.451, 69.139, 71.685, 68.326, 69.902, 68.871, 68.146, 69.176, 70.695, 68.605, 69.139, 69.118, 68.678, 69.364, 67.726, 69.438, 70.301, 70.436, 71.785, 68.575, 68.058, 68.301, 68.559, 69.974, 69.572, 70.429, 70.254, 70.461, 67.768, 68.841, 68.846, 70.875, 69.067, 69.528, 71.649, 68.741, 68.767, 69.343, 69.532, 71.211, 69.039, 68.87, 70.005, 68.773, 69.04, 68.425, 70.113, 69.569, 69.512, 69.193, 68.453, 71.628, 68.721, 68.726, 68.307, 69.7, 69.053, 70.606, 70.263, 67.772, 70.82, 69.972, 69.617, 69.052, 69.243, 69.06, 68.547, 68.942, 69.426, 70.413, 69.45, 69.092, 69.781, 68.625, 68.937, 68.732, 69.043, 68.306, 70.812, 69.306, 69.835, 69.867, 69.321, 69.081, 70.992, 69.988, 70.89, 68.992, 69.659, 68.993, 68.684, 69.116, 69.578, 69.114, 68.309, 71.138, 69.418, 69.132, 69.198, 69.171, 68.834, 68.589, 69.244, 68.375, 69.584, 69.331, 69.112, 69.672, 70.03, 68.836, 70.188, 68.706, 71.593, 70.324, 71.3, 69.117, 69.586, 68.798, 69.333, 69.349, 68.648, 69.25, 69.463, 68.969, 68.221, 71.083, 71.042, 68.293, 69.406, 69.292, 69.714, 70.007, 69.324, 69.783, 69.411, 71.485, 68.673, 68.597, 71.413, 69.214, 70.558, 68.404, 69.719, 69.622, 68.691, 69.232, 69.342, 69.166, 69.061, 69.938, 69.121, 69.749, 68.723, 70.277, 69.567, 68.497, 68.337, 69.619, 69.65, 70.921, 69.402, 68.807, 70.639, 69.099, 69.166, 68.427, 70.363, 69.476, 69.416, 69.75, 69.551, 67.422, 69.13, 69.987, 68.472, 69.913, 68.705, 69.25, 70.959, 69.012, 70.409, 69.299, 69.369, 70.757, 67.956, 68.796, 69.58, 68.802, 69.591, 69.072, 68.859, 69.312, 68.65, 70.96, 70.431, 69.73, 69.472, 70.006, 69.93, 68.824, 69.314, 69.526, 69.443, 68.576, 69.858, 69.003, 70.486, 68.9, 70.197, 69.628, 68.74, 68.799, 69.397, 68.71, 68.249, 68.213, 69.644, 70.231, 70.325, 68.733, 69.073, 69.996, 68.565, 68.975, 69.761, 68.813, 69.575, 68.294, 70.628, 70.724, 69.633, 70.024, 71.087, 70.118, 70.028, 70.776, 70.699, 68.822, 71.186, 69.064, 69.356, 70.671, 69.528, 68.783, 69.153, 68.995, 69.192, 69.644, 70.909, 68.944, 69.736, 68.712, 68.616, 69.379, 68.736, 69.292, 67.934, 68.647, 70.615, 68.479, 69.098, 69.449, 69.05, 68.844, 69.001, 69.257, 67.7, 69.576, 69.987, 69.245, 68.536, 68.874, 68.924, 69.71, 69.618, 71.221, 70.598, 68.9, 70.114, 68.886, 68.701, 68.312, 68.768, 71.025, 70.485, 69.744, 69.455, 70.449, 71.306, 68.747, 67.378, 68.545, 69.223, 68.65, 69.686, 68.588, 70.943, 69.383, 70.246, 69.881, 69.17, 68.785, 68.977, 69.257, 70.382, 70.233, 69.09, 69.096, 69.102, 68.801, 69.295, 70.44, 68.715, 69.335, 70.379, 69.785, 70.182, 68.923, 70.751, 70.392, 70.13, 71.173, 70.106, 71.334, 68.967, 70.73, 69.323, 68.98, 68.708, 68.569, 68.625, 69.606, 71.041, 68.489, 68.943, 69.117, 69.285, 69.589, 69.044, 69.766, 68.114, 68.86, 70.826, 68.21, 68.453, 69.09, 69.061, 69.389, 70.21, 68.868, 70.02, 70.521, 71.394, 69.714, 68.772, 68.94, 69.324, 68.898, 72.668, 69.21, 68.536, 68.783, 70.466, 69.819, 68.811, 69.517, 69.708, 71.513, 70.723, 68.569, 68.868, 68.382, 68.894, 70.806, 69.3, 71.098, 69.797, 69.265, 69.12, 69.434, 68.03, 69.815, 69.84, 69.118, 69.646, 68.954, 68.884, 68.85, 69.02, 70.113, 70.445, 68.978, 68.963, 68.67, 68.729, 69.021, 68.544, 69.586, 71.441, 70.747, 68.645, 69.63, 67.342, 68.764, 70.86, 67.858, 69.333, 67.911, 69.878, 69.022, 68.773, 69.223, 69.423, 67.895, 69.419, 69.658, 69.975, 68.611, 69.682, 68.899, 70.9, 68.179, 69.092, 69.786, 68.0, 68.828, 69.787, 69.116, 68.964, 69.353, 69.993, 67.721, 69.221, 69.789, 67.161, 68.81, 69.749, 70.702, 70.056, 68.9, 68.824, 69.489, 70.629, 69.628, 68.862, 67.208, 71.5, 69.268, 71.103, 71.291, 68.467, 67.929, 68.926, 68.83, 69.508, 68.703, 69.457, 68.7, 69.685, 70.109, 69.594, 71.779, 68.435, 69.848, 69.962, 71.185, 68.981, 68.949, 71.492, 68.898, 69.416, 70.421, 70.376, 69.497, 67.995, 69.201, 71.562, 70.787, 69.998, 69.012, 69.041, 68.242, 69.818, 69.631, 69.905, 68.144, 68.671, 69.561, 68.989, 71.4, 68.889, 68.504, 68.053, 68.137, 68.856, 71.529, 68.586, 68.941, 68.8, 71.079, 69.502, 69.532, 69.633, 69.949, 70.149, 70.832, 69.879, 69.556, 68.919, 70.731, 68.988, 69.372, 68.916, 69.433, 69.139, 71.316, 66.169, 68.792, 68.788, 68.581, 71.949, 69.181, 70.066, 71.415, 69.66, 68.874, 68.26, 68.977, 71.171, 68.933, 68.008, 71.764, 69.17, 69.316, 68.523, 68.689, 68.22, 70.283, 69.037, 69.429, 69.973, 68.952, 69.577, 70.06, 70.182, 68.966, 68.81, 68.979, 69.003, 69.262, 69.845, 70.345, 69.314, 68.025, 69.347, 69.65, 68.622, 70.133, 70.485, 68.611, 70.434, 68.587, 69.988, 69.534, 68.987, 69.719, 69.915, 68.887, 69.426, 68.741, 70.917, 69.849, 70.208, 69.235, 69.986, 70.455, 69.52, 71.392, 71.537, 69.408, 70.281, 68.866, 70.841, 69.043, 70.038, 69.166, 68.504, 69.872, 71.201, 69.554, 70.53, 68.587, 70.21, 71.114, 68.889, 70.585, 69.83, 68.663, 68.577, 69.028, 69.413, 70.761, 68.512, 70.977, 68.967, 70.131, 69.938, 70.274, 69.028, 70.616, 69.019, 69.099, 70.936, 70.187, 68.559, 70.446, 70.73, 69.296, 69.588, 69.251, 68.559, 69.977, 70.132, 68.069, 69.758, 69.773, 70.403, 70.325, 68.804, 69.138, 68.774, 68.721, 69.924, 70.211, 68.913, 68.389, 69.311, 69.449, 69.357, 70.542, 69.194, 68.874, 69.885, 71.413, 69.085, 69.882, 69.258, 70.286, 68.505, 69.009, 70.877, 70.717, 68.961, 70.177, 70.164, 68.678, 68.945, 69.103, 70.3, 69.131, 69.121, 70.449, 69.005, 69.583, 68.678, 69.687, 68.64, 69.095, 67.929, 68.873, 71.201, 68.99, 67.333, 69.742, 70.616, 70.446, 66.916, 68.469, 68.952, 69.404, 68.575, 69.034, 69.259, 68.754, 70.8, 68.213, 70.507, 67.799, 69.988, 69.062, 69.662, 70.709, 70.191, 69.214, 69.107, 70.518, 68.825, 69.954, 70.789, 69.682, 70.052, 69.649, 69.434, 69.24, 66.292, 69.195, 68.613, 69.035, 70.154, 70.443, 69.982, 69.302, 71.365, 68.553, 69.564, 69.846, 70.483, 71.56, 69.184, 69.042, 68.017, 69.639, 69.397, 69.567, 70.061, 70.331, 70.559, 69.839, 72.059, 68.782, 71.337, 69.35, 69.157, 68.526, 69.412, 68.067, 68.782, 70.934, 68.435, 68.972, 70.288, 68.694, 68.887, 69.111, 68.769, 69.879, 68.208, 69.818, 71.427, 68.582, 68.956, 67.477, 68.859, 69.926, 68.575, 68.912, 68.981, 70.98, 70.373, 69.027, 70.484, 70.515, 68.636, 69.363, 69.509, 69.387, 69.187, 70.077, 69.034, 69.45, 70.166, 67.806, 71.353, 70.088, 70.219, 69.775, 69.14, 67.642, 69.308, 71.371, 68.0, 68.781, 69.315, 69.075, 69.2, 67.913, 68.991, 68.958, 69.273, 69.966, 72.036, 70.752, 69.572, 69.586, 70.928, 70.795, 67.622, 71.81, 69.371, 69.357, 70.38, 68.89, 69.692, 69.059, 67.557, 70.183, 70.321, 69.489, 70.715, 70.066, 68.95, 69.118, 70.899, 69.153, 70.051, 68.85, 71.189, 68.668, 68.69, 69.834, 68.958, 68.618, 70.823, 68.712, 68.548, 69.163, 70.071, 69.827, 68.697, 68.862, 69.751, 66.997, 69.451, 69.069, 72.168, 71.199, 70.747, 69.296, 69.328, 69.539, 70.261, 68.773, 69.027, 69.288, 69.901, 71.024, 67.878, 68.889, 69.224, 69.14, 70.041, 70.127, 69.386, 68.785, 68.781, 68.529, 67.285, 71.545, 69.822, 68.963, 70.418, 69.398, 68.974, 70.687, 68.703, 71.506, 69.574, 69.602, 71.59, 71.043, 70.432, 68.534, 69.862, 69.181, 67.093, 68.767, 68.116, 68.543, 68.873, 69.212, 70.686, 70.444, 69.253, 68.613, 70.25, 70.293, 69.738, 70.393, 69.347, 68.864, 68.74, 71.204, 69.868, 70.019, 69.985, 70.498, 69.553, 69.19, 70.252, 70.184, 69.124, 69.838, 69.774, 68.885, 69.356, 68.989, 68.367, 68.604, 70.451, 69.251, 69.186, 68.466, 69.143, 69.09, 68.524, 67.608, 69.348, 68.243, 69.54, 69.17, 69.957, 69.055, 68.293, 70.549, 72.351, 69.704, 68.377, 68.358, 70.563, 69.474, 69.385, 68.057, 69.457, 71.454, 70.075, 69.286, 67.734, 69.05, 69.519, 68.711, 70.955, 70.05, 68.657, 69.619, 69.948, 70.561, 68.845, 71.798, 69.286, 68.688, 71.417, 69.717, 67.902, 68.622, 69.205, 69.131, 71.107, 68.641, 69.746, 67.482, 69.893, 68.28, 68.821, 70.401, 68.837, 70.645, 69.76, 70.279, 68.948, 70.876, 69.626, 69.529, 68.29, 68.7, 69.158, 68.391, 68.025, 68.172, 69.37, 69.393, 68.738, 70.414, 68.704, 69.409, 70.684, 69.0, 69.653, 68.939, 69.096, 70.573, 69.378, 69.678, 68.057, 69.846, 69.979, 69.072, 69.724, 68.878, 68.845, 68.808, 71.397, 69.003, 69.305, 68.958, 68.952, 69.053, 69.098, 70.608, 70.093, 68.932, 69.833, 69.26, 70.426, 71.195, 70.297, 69.613, 70.026, 70.846, 69.871, 70.677, 69.189, 69.541, 70.349, 71.354, 71.228, 69.441, 70.639, 69.714, 68.423, 69.386, 69.436, 69.346, 70.237, 69.461, 69.357, 70.175, 70.149, 68.907, 71.037, 68.94, 69.408, 70.0, 71.079, 68.925, 68.873, 68.752, 68.235, 69.307, 71.181, 70.558, 69.372, 69.104, 68.984, 69.439, 70.129, 68.445, 69.259, 69.721, 70.222, 68.393, 69.594, 68.473, 68.307, 70.497, 70.292, 68.878, 71.104, 68.011, 68.668, 69.51, 69.651, 68.641, 69.102, 70.225, 71.509, 71.157, 69.71, 71.121, 69.2, 70.497, 68.98, 70.326, 69.047, 68.566, 69.678, 68.806, 69.536, 70.631, 71.73, 69.193, 68.804, 68.652, 71.445, 68.56, 71.626, 69.301, 69.246, 69.746, 71.2, 69.36, 68.746, 68.918, 68.884, 69.478, 71.647, 70.128, 69.064, 68.914, 69.126, 69.268, 70.151, 71.427, 69.787, 68.583, 71.004, 68.699, 69.363, 69.428, 70.398, 70.594, 69.068, 69.006, 68.579, 69.239, 68.648, 69.258, 69.915, 69.27, 68.802, 69.789, 71.217, 70.15, 69.04, 69.976, 71.607, 70.4, 70.861, 70.832, 70.339, 69.814, 68.897, 69.622, 68.593, 69.65, 68.768, 69.54, 69.92, 68.641, 69.081, 67.082, 72.2, 70.11, 68.948, 70.386, 69.453, 69.172, 69.325, 69.629, 69.925, 69.387, 69.274, 68.658, 70.256, 71.26, 70.065, 69.055, 71.231, 69.83, 70.249, 71.05, 68.678, 69.931, 69.559, 70.758, 70.224, 68.99, 68.965, 68.745, 69.252, 69.33, 71.048, 68.526, 65.064, 69.236, 71.614, 68.907, 69.971, 70.652, 70.359, 70.902, 69.413, 71.32, 68.171, 70.549, 68.513, 68.857, 68.49, 69.269, 71.673, 69.617, 69.216, 70.098, 70.891, 70.962, 68.358, 68.82, 69.262, 69.155, 68.65, 68.805, 69.815, 68.483, 69.253, 69.468, 68.456, 69.198, 70.322, 68.88, 69.129, 68.807, 70.648, 68.563, 70.54, 68.574, 68.177, 69.261, 71.237, 70.795, 69.505, 69.348, 68.177, 70.512, 69.31, 69.306, 69.98, 70.688, 68.561, 70.183, 69.354, 71.523, 69.299, 69.09, 70.833, 69.88, 69.676, 69.384, 69.811, 68.94, 70.311, 70.42, 69.64, 68.472, 70.233, 69.728, 69.838, 69.831, 69.44, 68.291, 69.436, 68.273, 69.947, 68.992, 71.482, 69.803, 68.425, 69.212, 70.312, 69.784, 68.082, 70.53, 70.503, 69.626, 69.188, 71.149, 70.667, 69.427, 69.087, 69.392, 70.638, 68.883, 71.025, 68.742, 69.572, 69.344, 70.749, 69.217, 69.587, 68.52, 71.79, 69.409, 70.581, 68.951, 67.777, 69.056, 69.309, 69.918, 68.983, 68.585, 67.695, 68.762, 68.659, 69.387, 70.605, 70.118, 71.123, 70.405, 69.84, 70.308, 68.611, 68.972, 68.582, 70.164, 69.482, 68.968, 69.563, 68.874, 68.71, 70.598, 69.911, 69.27, 69.368, 68.861, 65.333, 68.708, 68.564, 69.856, 69.321, 69.692, 68.681, 70.226, 70.977, 67.982, 71.235, 68.405, 68.573, 68.703, 68.721, 70.511, 69.706, 70.095, 68.907, 69.94, 69.419, 70.156, 69.312, 69.823, 71.27, 69.181, 69.214, 69.133, 69.287, 69.546, 70.062, 70.029, 69.651, 71.122, 68.166, 69.139, 70.65, 68.817, 68.378, 68.983, 70.973, 69.078, 69.037, 69.369, 69.305, 69.919, 69.08, 69.317, 69.987, 69.497, 69.549, 69.128, 68.836, 69.353, 70.586, 69.041, 68.385, 70.544, 70.163, 69.706, 69.075, 70.684, 69.074, 70.996, 69.337, 69.198, 68.625, 71.645, 68.406, 69.282, 68.975, 69.886, 69.373, 70.86, 70.437, 69.044, 71.232, 68.93, 69.014, 68.74, 68.446, 69.255, 71.425, 69.671, 70.057, 70.439, 69.834, 71.167, 68.944, 68.347, 69.749, 70.458, 70.808, 69.185, 67.98, 68.966, 70.833, 70.584, 68.776, 68.716, 70.608, 69.311, 69.602, 69.424, 69.049, 69.389, 69.388, 68.975, 68.204, 68.66, 68.577, 69.59, 71.522, 68.981, 69.906, 69.612, 69.246, 69.999, 69.496, 70.379, 69.216, 68.568, 69.06, 69.971, 69.261, 68.808, 69.879, 72.053, 68.32, 70.343, 69.05, 70.272, 69.127, 68.912, 71.294, 69.791, 69.086, 70.459, 68.932, 69.375, 69.055, 68.287, 68.954, 70.214, 69.625, 69.527, 70.856, 68.489, 70.693, 70.742, 70.523, 69.162, 69.263, 70.079, 68.887, 69.691, 70.679, 69.072, 68.668, 68.184, 68.525, 69.605, 69.185, 69.774, 70.415, 69.848, 68.843, 68.583, 69.217, 71.697, 69.256, 67.925, 71.711, 68.975, 68.557, 69.932, 71.307, 68.033, 69.477, 70.591, 70.385, 71.081, 68.993, 68.983, 69.54, 68.611, 69.809, 70.761, 68.937, 68.546, 70.175, 68.814, 68.62, 70.052, 70.964, 68.073, 68.951, 68.698, 69.118, 68.958, 69.607, 69.054, 69.724, 71.263, 70.74, 69.246, 70.939, 68.92, 69.367, 69.808, 69.113, 70.51, 68.463, 69.671, 70.862, 71.281, 69.364, 69.105, 68.643, 69.667, 68.481, 69.187, 71.184, 68.279, 69.56, 68.089, 69.249, 69.454, 71.204, 71.383, 70.135, 69.196, 69.136, 70.139, 71.619, 69.633, 69.879, 69.152, 70.572, 69.694, 68.897, 70.72, 69.2, 68.709, 69.336, 69.862, 69.776, 68.585, 69.522, 69.258, 69.281, 69.728, 68.798, 70.238, 69.81, 70.361, 70.011, 70.861, 70.374, 70.132, 69.228, 69.788, 68.363, 69.185, 68.045, 68.913, 68.622, 69.568, 70.252, 69.556, 70.065, 69.546, 68.516, 68.999, 68.784, 68.89, 69.133, 68.995, 69.419, 69.174, 70.153, 68.602, 69.309, 69.593, 68.751, 69.637, 67.873, 68.436, 68.635, 70.97, 70.168, 69.998, 68.511, 70.469, 67.916, 69.771, 70.233, 68.208, 69.85, 69.619, 70.818, 70.777, 69.029, 68.903, 68.481, 68.97, 69.015, 68.921, 70.233, 70.76, 68.913, 68.562, 70.843, 68.813, 69.586, 69.542, 69.154, 68.472, 68.047, 71.357, 68.735, 69.031, 68.443, 68.992, 68.871, 68.653, 69.098, 71.195, 69.15, 69.041, 68.824, 68.585, 69.184, 68.904, 69.697, 70.35, 70.455, 69.803, 69.15, 70.743, 70.209, 68.401, 68.287, 69.233, 70.013, 71.562, 68.812, 70.901, 69.528, 71.51, 69.405, 69.241, 68.929, 68.953, 69.639, 69.1, 68.234, 68.988, 68.283, 69.875, 71.108, 70.176, 69.748, 69.355, 68.867, 70.324, 68.83, 70.069, 71.628, 69.365, 69.044, 69.035, 68.547, 71.673, 68.921, 69.15, 68.975, 69.996, 68.774, 68.958, 70.659, 68.653, 69.406, 71.865, 69.314, 69.233, 70.65, 69.544, 70.958, 71.581, 68.032, 69.061, 69.303, 69.797, 70.269, 69.698, 69.104, 71.099, 69.539, 71.241, 68.313, 71.943, 69.697, 69.035, 69.186, 69.261, 70.012, 70.358, 69.039, 69.111, 69.143, 69.232, 69.966, 71.345, 70.376, 69.879, 69.282, 71.219, 70.51, 68.888, 69.241, 68.948, 68.214, 69.128, 71.19, 70.587, 69.11, 69.334, 67.304, 70.861, 69.001, 70.086, 69.096, 68.756, 70.192, 69.177, 68.691, 69.352, 69.691, 68.506, 68.877, 68.931, 70.166, 69.18, 69.474, 69.102, 68.282, 69.461, 68.474, 70.796, 69.461, 69.092, 68.6, 68.605, 70.424, 70.37, 69.17, 69.734, 69.663, 69.147, 67.614, 69.009, 68.731, 69.17, 69.607, 69.84, 68.528, 69.052, 67.35, 71.677, 68.833, 67.287, 70.209, 70.468, 69.436, 69.078, 69.787, 68.943, 68.959, 70.763, 70.592, 69.205, 68.377, 71.057, 70.488, 69.219, 69.885, 69.428, 70.68, 70.932, 69.214, 70.533, 70.111, 67.649, 69.535, 69.922, 69.127], 'left': [65.854, 65.107, 67.477, 63.202, 67.287, 67.133, 65.083, 67.726, 66.807, 65.331, 66.174, 67.482, 65.31, 67.48, 66.065, 65.544, 66.972, 66.841, 63.35, 64.93, 65.734, 65.479, 66.633, 67.536, 67.125, 67.311, 64.837, 64.985, 65.899, 65.279, 64.812, 65.721, 65.945, 67.287, 65.059, 65.308, 65.367, 66.568, 62.741, 65.348, 64.314, 67.545, 67.438, 65.855, 67.501, 65.41, 65.363, 66.678, 66.896, 64.398, 62.914, 66.938, 65.474, 64.665, 67.449, 64.665, 66.733, 66.784, 65.472, 67.741, 67.873, 64.787, 66.657, 62.019, 65.45, 64.884, 62.363, 64.831, 67.241, 65.482, 67.259, 67.134, 63.486, 62.925, 67.199, 67.515, 65.721, 65.647, 65.275, 67.101, 62.968, 65.087, 65.28, 65.061, 67.119, 67.136, 65.393, 67.685, 67.512, 62.752, 65.332, 65.829, 63.149, 66.82], 'turn': [68.133, 69.1, 70.046, 68.446, 67.563, 70.171, 68.04, 67.559, 68.208, 68.016, 67.642, 68.32, 70.456, 67.7, 70.393, 68.808, 67.668, 67.32, 70.999, 68.686, 68.465, 68.861, 67.704, 67.902, 71.739, 67.641, 67.514, 67.906, 68.311, 67.483, 67.888, 70.83, 67.781, 69.773, 67.722, 68.132, 68.446, 71.719, 70.474, 68.463, 68.89, 68.698, 67.517, 71.191, 67.815, 66.975, 68.493, 68.167, 70.322, 70.971, 67.011, 68.321, 68.221, 67.755, 68.295, 69.426, 69.275, 67.704, 68.073, 68.504, 69.85, 70.719, 69.816, 70.512, 71.017, 68.57, 68.285, 69.12, 68.479, 68.349, 68.514, 67.711, 67.979, 69.184, 67.649, 67.97, 71.396, 67.989, 68.214, 67.513, 67.836, 71.279, 67.805, 68.575, 69.92, 67.893, 67.59, 70.149, 70.128, 67.924, 67.842, 67.592, 67.82, 68.999, 67.976, 69.227, 67.667, 67.591, 67.766, 68.013, 67.713, 67.552, 67.904, 67.762, 67.955, 68.79, 69.724, 68.873, 70.639, 68.71, 67.939, 68.068, 68.519, 67.964, 68.092, 67.965, 68.802, 68.052, 69.351, 67.61, 68.159, 67.674, 67.97, 69.009, 68.278, 67.847, 67.106, 68.105, 69.888, 68.028, 68.553, 67.872, 68.391, 70.717, 69.119, 67.938, 68.156, 68.484, 69.574, 70.874, 67.199, 68.491, 68.267, 68.187, 68.056, 69.068, 68.535, 67.498, 68.168, 71.681, 68.786, 68.315, 69.07, 67.798, 67.639, 67.905, 68.005, 68.518, 70.27, 67.923, 67.349, 70.485, 67.836, 67.95, 70.693, 67.862, 69.681, 68.531, 67.8, 67.882, 67.801, 70.06, 68.728, 71.458, 67.786, 68.334, 67.799, 67.958, 68.805, 69.509, 71.94, 67.95, 67.834, 68.724, 68.109, 71.888, 67.578, 68.598, 67.315, 68.452, 67.935, 67.597, 70.834, 67.884, 68.06, 71.183, 68.433, 68.562, 68.048, 70.505, 68.946, 67.886, 67.938, 68.714, 70.622, 68.446, 68.407, 68.154, 68.871, 70.656, 68.17, 68.929, 67.926, 67.929, 69.961, 68.374, 69.684, 68.054, 66.893, 68.063, 70.246, 68.31, 67.945, 69.15, 69.583, 68.207, 67.963, 68.155, 68.105, 68.201, 71.004, 68.439, 67.787, 68.077, 67.389, 70.96, 67.673, 68.715, 68.208, 68.318, 68.177, 70.543, 68.552, 68.603, 68.085, 69.416, 67.773, 67.758, 69.683, 68.448, 68.779, 68.425, 67.092, 69.318, 68.701, 70.783, 69.089, 67.151, 70.456, 68.307, 68.413, 68.641, 67.938, 68.343, 67.539, 67.516, 67.947, 67.712, 67.974, 68.833, 68.002, 69.425, 68.375, 69.002, 67.539, 68.119, 68.148, 71.631, 68.967, 69.722, 68.783, 67.39, 68.069, 71.724, 67.976, 71.565, 69.393, 69.176, 68.226, 71.045, 68.317, 69.004, 68.54, 69.601, 68.158, 69.567, 67.767, 68.109, 68.05, 71.744, 67.607, 67.972, 71.473, 71.726, 70.006, 67.505, 72.39, 67.832, 68.177, 71.246, 68.887, 67.856, 67.726, 69.719, 68.124, 69.684, 68.736, 71.068, 68.117, 70.096, 68.528, 69.351, 68.012, 70.405, 69.665, 71.214, 68.412, 72.456, 69.818, 70.581, 67.845, 68.251, 68.381, 68.119, 68.198, 68.292, 70.743, 69.003, 67.588, 67.521, 70.394, 70.938, 67.999, 70.282, 68.167, 67.851, 67.763, 71.422, 69.494, 68.701, 69.757, 69.119, 67.986, 68.82, 67.846, 69.642, 71.488, 69.17, 68.998, 69.72, 68.547, 68.295, 67.672, 67.752, 67.982, 68.535, 69.593, 68.893, 71.824, 68.222, 71.685, 67.673, 71.694, 69.645, 68.153, 67.795, 68.677, 68.427, 68.071, 71.687, 68.117, 67.903, 67.86, 68.298, 67.895, 67.98, 70.674, 67.661, 70.229, 67.931, 68.032, 68.091, 67.758, 68.173, 68.256, 69.544, 68.11, 67.931, 67.979, 67.477, 67.849, 69.355, 68.005, 69.556, 68.215, 67.742, 68.814, 66.689, 67.22, 70.451, 71.006, 68.064, 68.951, 67.943, 70.121, 67.982, 71.566, 68.023, 67.256, 67.736, 68.617, 68.325, 68.148, 68.46, 69.807, 70.278, 70.005, 70.951, 70.696, 68.447, 68.085, 67.222, 68.323, 69.227, 68.032, 67.966, 67.65, 69.454, 71.905, 71.91, 67.893, 68.144, 67.711, 68.185, 71.296, 67.795, 68.703, 67.652, 67.898, 67.673, 67.862, 68.535, 67.313, 68.366, 67.542, 67.938, 69.701, 67.1], 'alph': []}\n"
          ]
        },
        {
          "output_type": "display_data",
          "data": {
            "text/plain": [
              "<Figure size 950x200 with 3 Axes>"
            ],
            "image/png": "[encoded data removed]"
          },
          "metadata": {}
        }
      ]
    },
    {
      "cell_type": "code",
      "source": [
        "\n",
        "#defining set things for proline\n",
        "atoms = ['Cα', 'Cβ', 'C']\n",
        "aa_range = [[57,74],[60, 77],[170,184]] #[54,71], [60,77], [168,182]\n",
        "angles = {\n",
        "'rbetaA': (-180.0, -77.2433806688377, 154.55177258517497, 180.0), 'rppiiA': (-77.2433806688377, 0, 154.55177258517497, 180.0), 'rzetag': (-180, 0, 60.44870313074169, 154.55177258517497), 'rdelta': (-180.0, 0, -41.0353713828222, 60.44870313074169), 'rturnI': (-180.0, 0, -162.70103742108336, -41.0353713828222), 'ralpha': (-40.21413124444349, -29.91741580348999, -80.2472522811782, -51.13859334954293), 'rbetaB': (-180.0, -112.55372675352831, -180.0, -162.70103742108336), 'rppiiB': (-112.55372675352831, 0, -180.0, -162.70103742108336), 'rlhelx': (0, 180.0, -180.0, 180.0)\n",
        "}\n",
        "\n",
        "#colors\n",
        "colors = ['#1b1b64', '#5e93dc', \"#004225\", '#b3dfff', '#f3ecb7', '#eeaa38', '#a60000']\n",
        "\n",
        "#reading the data\n",
        "df = pd.read_csv('nanodisc.csv', sep = '\\t', header = 0)\n",
        "labels = ['beta','ppii','zetag','ddgg','left','turn','alph']\n",
        "\n",
        "#making different variables based on each section\n",
        "\n",
        "#delta, alpha, and left helix are easy: just get definitions\n",
        "tempname = 'rdelta'\n",
        "ddgg = df.loc[(df['phi'] >= angles[tempname][0]) & (df['phi'] < angles[tempname][1]) & (df['psi'] >= angles[tempname][2]) & (df['psi'] < angles[tempname][3])]\n",
        "tempname = 'ralpha'\n",
        "alph = df.loc[(df['phi'] >= angles[tempname][0]) & (df['phi'] < angles[tempname][1]) & (df['psi'] >= angles[tempname][2]) & (df['psi'] < angles[tempname][3])]\n",
        "tempname = 'rlhelx'\n",
        "left = df.loc[(df['phi'] >= angles[tempname][0]) & (df['phi'] < angles[tempname][1]) & (df['psi'] >= angles[tempname][2]) & (df['psi'] < angles[tempname][3])]\n",
        "tempname = 'rzetag'\n",
        "zetag = df.loc[(df['phi'] >= angles[tempname][0]) & (df['phi'] < angles[tempname][1]) & (df['psi'] >= angles[tempname][2]) & (df['psi'] < angles[tempname][3])]\n",
        "\n",
        "\n",
        "\n",
        "#beta/ppii have both a top and bottom segment, so need to account for both top (A) and bottom (B) sections\n",
        "tempname = 'rbeta'\n",
        "beta = pd.concat([df.loc[(df['phi'] >= angles[tempname + \"A\"][0]) & (df['phi'] < angles[tempname + \"A\"][1]) & (df['psi'] >= angles[tempname + \"A\"][2]) & (df['psi'] < angles[tempname + \"A\"][3])], df.loc[(df['phi'] >= angles[tempname + \"B\"][0]) & (df['phi'] < angles[tempname + \"B\"][1]) & (df['psi'] >= angles[tempname + \"B\"][2]) & (df['psi'] < angles[tempname + \"B\"][3])]])\n",
        "tempname = 'rppii'\n",
        "ppii = pd.concat([df.loc[(df['phi'] >= angles[tempname + \"A\"][0]) & (df['phi'] < angles[tempname + \"A\"][1]) & (df['psi'] >= angles[tempname + \"A\"][2]) & (df['psi'] < angles[tempname + \"A\"][3])], df.loc[(df['phi'] >= angles[tempname + \"B\"][0]) & (df['phi'] < angles[tempname + \"B\"][1]) & (df['psi'] >= angles[tempname + \"B\"][2]) & (df['psi'] < angles[tempname + \"B\"][3])]])\n",
        "\n",
        "#special case because turn needs to be everything except for the \"alpha\" section, used XOR but it might not work\n",
        "tempname = 'rturnI'\n",
        "tempname2 = 'ralpha'\n",
        "turn = df.loc[((df['phi'] >= angles[tempname][0]) & (df['phi'] < angles[tempname][1]) & (df['psi'] >= angles[tempname][2]) & (df['psi'] < angles[tempname][3])) ^ ((df['phi'] >= angles[tempname2][0]) & (df['phi'] < angles[tempname2][1]) & (df['psi'] >= angles[tempname2][2]) & (df['psi'] < angles[tempname2][3]))]\n",
        "\n",
        "#nice list to make future things easier\n",
        "allsections = [beta, ppii, zetag, ddgg, left, turn, alph]\n",
        "\n",
        "#makes the alpha/beta/overall carbon shifts into dictionaries based on the categories\n",
        "ca = {}\n",
        "cb = {}\n",
        "co = {}\n",
        "for i in range(7):\n",
        "  ca[labels[i]] = allsections[i]['ca'].values.tolist()\n",
        "  cb[labels[i]] = allsections[i]['cb'].values.tolist()\n",
        "  co[labels[i]] = allsections[i]['c'].values.tolist()\n",
        "\n",
        "#making pyplot figure\n",
        "fig, axs = plt.subplots(1, 3, sharey = False, figsize = (9.5, 2))\n",
        "fig.subplots_adjust(top = .9)\n",
        "\n",
        "#makes an array for the future histogram categories\n",
        "bins_array = [np.arange(i[0], i[1] + 1, .25) for i in aa_range]\n",
        "\n",
        "#making total array\n",
        "all = {'Cα': ca, 'Cβ' : cb, 'C' : co}\n",
        "\n",
        "for i in range(3):\n",
        "  h, bins, patches = axs[i].hist(list(all[atoms[i]].values()),\n",
        "                      bins=bins_array[i],\n",
        "                      density=False,\n",
        "                      histtype='stepfilled',\n",
        "                      stacked=True,\n",
        "                      color=colors,\n",
        "                      alpha=True,\n",
        "                      label=labels)\n",
        "\n",
        "  stacked_data = [j for sub in list(all[atoms[i]].values()) for j in sub]\n",
        "  #print(stacked_data)\n",
        "  axs[i].hist(stacked_data, # SUM PLOT: line histogram plot\n",
        "              bins=bins_array[i],\n",
        "              density=False,\n",
        "              histtype='step',\n",
        "              stacked=False,\n",
        "              color='black',\n",
        "              alpha=1.0)\n",
        "\n",
        "\n",
        "  ### FORMATTING ###\n",
        "  axs[i].set_xlim(aa_range[i])\n",
        "  mtick_spacing=5\n",
        "  axs[i].xaxis.set_major_locator(pltticker.MultipleLocator(mtick_spacing))\n",
        "  axs[i].xaxis.set_minor_locator(pltticker.MultipleLocator(1))\n",
        "  axs[i].yaxis.set_ticks([])\n",
        "  axs[i].set_title(atoms[i] + \" (deg)\")\n",
        "  # other formatting\n",
        "  axs[i].invert_xaxis()\n",
        "  for line in ['top','left','right']:\n",
        "    axs[i].spines[line].set_visible(False)\n",
        "  for line in ['bottom']:\n",
        "    axs[i].spines[line].set_visible(True)\n",
        "\n",
        "print(cb)\n",
        "\n",
        "fig.suptitle(\"230620 Threonine (T_10K) Weighted Histograms\")\n",
        "fig.tight_layout()\n",
        "plt.show()"
      ],
      "metadata": {
        "id": "BvqmMdvFsUxW",
        "colab": {
          "base_uri": "https://localhost:8080/",
          "height": 515
        },
        "outputId": "8d5773cf-5b94-423a-e6b9-6a82e6dc0bc4"
      },
      "execution_count": null,
      "outputs": [
        {
          "output_type": "error",
          "ename": "KeyError",
          "evalue": "ignored",
          "traceback": [
            "\u001b[0;31m---------------------------------------------------------------------------\u001b[0m",
            "\u001b[0;31mKeyError\u001b[0m                                  Traceback (most recent call last)",
            "\u001b[0;32m/usr/local/lib/python3.10/dist-packages/pandas/core/indexes/base.py\u001b[0m in \u001b[0;36mget_loc\u001b[0;34m(self, key, method, tolerance)\u001b[0m\n\u001b[1;32m   3801\u001b[0m             \u001b[0;32mtry\u001b[0m\u001b[0;34m:\u001b[0m\u001b[0;34m\u001b[0m\u001b[0;34m\u001b[0m\u001b[0m\n\u001b[0;32m-> 3802\u001b[0;31m                 \u001b[0;32mreturn\u001b[0m \u001b[0mself\u001b[0m\u001b[0;34m.\u001b[0m\u001b[0m_engine\u001b[0m\u001b[0;34m.\u001b[0m\u001b[0mget_loc\u001b[0m\u001b[0;34m(\u001b[0m\u001b[0mcasted_key\u001b[0m\u001b[0;34m)\u001b[0m\u001b[0;34m\u001b[0m\u001b[0;34m\u001b[0m\u001b[0m\n\u001b[0m\u001b[1;32m   3803\u001b[0m             \u001b[0;32mexcept\u001b[0m \u001b[0mKeyError\u001b[0m \u001b[0;32mas\u001b[0m \u001b[0merr\u001b[0m\u001b[0;34m:\u001b[0m\u001b[0;34m\u001b[0m\u001b[0;34m\u001b[0m\u001b[0m\n",
            "\u001b[0;32m/usr/local/lib/python3.10/dist-packages/pandas/_libs/index.pyx\u001b[0m in \u001b[0;36mpandas._libs.index.IndexEngine.get_loc\u001b[0;34m()\u001b[0m\n",
            "\u001b[0;32m/usr/local/lib/python3.10/dist-packages/pandas/_libs/index.pyx\u001b[0m in \u001b[0;36mpandas._libs.index.IndexEngine.get_loc\u001b[0;34m()\u001b[0m\n",
            "\u001b[0;32mpandas/_libs/hashtable_class_helper.pxi\u001b[0m in \u001b[0;36mpandas._libs.hashtable.PyObjectHashTable.get_item\u001b[0;34m()\u001b[0m\n",
            "\u001b[0;32mpandas/_libs/hashtable_class_helper.pxi\u001b[0m in \u001b[0;36mpandas._libs.hashtable.PyObjectHashTable.get_item\u001b[0;34m()\u001b[0m\n",
            "\u001b[0;31mKeyError\u001b[0m: 'phi'",
            "\nThe above exception was the direct cause of the following exception:\n",
            "\u001b[0;31mKeyError\u001b[0m                                  Traceback (most recent call last)",
            "\u001b[0;32m<ipython-input-19-f1d007d33c96>\u001b[0m in \u001b[0;36m<cell line: 19>\u001b[0;34m()\u001b[0m\n\u001b[1;32m     17\u001b[0m \u001b[0;31m#delta, alpha, and left helix are easy: just get definitions\u001b[0m\u001b[0;34m\u001b[0m\u001b[0;34m\u001b[0m\u001b[0m\n\u001b[1;32m     18\u001b[0m \u001b[0mtempname\u001b[0m \u001b[0;34m=\u001b[0m \u001b[0;34m'rdelta'\u001b[0m\u001b[0;34m\u001b[0m\u001b[0;34m\u001b[0m\u001b[0m\n\u001b[0;32m---> 19\u001b[0;31m \u001b[0mddgg\u001b[0m \u001b[0;34m=\u001b[0m \u001b[0mdf\u001b[0m\u001b[0;34m.\u001b[0m\u001b[0mloc\u001b[0m\u001b[0;34m[\u001b[0m\u001b[0;34m(\u001b[0m\u001b[0mdf\u001b[0m\u001b[0;34m[\u001b[0m\u001b[0;34m'phi'\u001b[0m\u001b[0;34m]\u001b[0m \u001b[0;34m>=\u001b[0m \u001b[0mangles\u001b[0m\u001b[0;34m[\u001b[0m\u001b[0mtempname\u001b[0m\u001b[0;34m]\u001b[0m\u001b[0;34m[\u001b[0m\u001b[0;36m0\u001b[0m\u001b[0;34m]\u001b[0m\u001b[0;34m)\u001b[0m \u001b[0;34m&\u001b[0m \u001b[0;34m(\u001b[0m\u001b[0mdf\u001b[0m\u001b[0;34m[\u001b[0m\u001b[0;34m'phi'\u001b[0m\u001b[0;34m]\u001b[0m \u001b[0;34m<\u001b[0m \u001b[0mangles\u001b[0m\u001b[0;34m[\u001b[0m\u001b[0mtempname\u001b[0m\u001b[0;34m]\u001b[0m\u001b[0;34m[\u001b[0m\u001b[0;36m1\u001b[0m\u001b[0;34m]\u001b[0m\u001b[0;34m)\u001b[0m \u001b[0;34m&\u001b[0m \u001b[0;34m(\u001b[0m\u001b[0mdf\u001b[0m\u001b[0;34m[\u001b[0m\u001b[0;34m'psi'\u001b[0m\u001b[0;34m]\u001b[0m \u001b[0;34m>=\u001b[0m \u001b[0mangles\u001b[0m\u001b[0;34m[\u001b[0m\u001b[0mtempname\u001b[0m\u001b[0;34m]\u001b[0m\u001b[0;34m[\u001b[0m\u001b[0;36m2\u001b[0m\u001b[0;34m]\u001b[0m\u001b[0;34m)\u001b[0m \u001b[0;34m&\u001b[0m \u001b[0;34m(\u001b[0m\u001b[0mdf\u001b[0m\u001b[0;34m[\u001b[0m\u001b[0;34m'psi'\u001b[0m\u001b[0;34m]\u001b[0m \u001b[0;34m<\u001b[0m \u001b[0mangles\u001b[0m\u001b[0;34m[\u001b[0m\u001b[0mtempname\u001b[0m\u001b[0;34m]\u001b[0m\u001b[0;34m[\u001b[0m\u001b[0;36m3\u001b[0m\u001b[0;34m]\u001b[0m\u001b[0;34m)\u001b[0m\u001b[0;34m]\u001b[0m\u001b[0;34m\u001b[0m\u001b[0;34m\u001b[0m\u001b[0m\n\u001b[0m\u001b[1;32m     20\u001b[0m \u001b[0mtempname\u001b[0m \u001b[0;34m=\u001b[0m \u001b[0;34m'ralpha'\u001b[0m\u001b[0;34m\u001b[0m\u001b[0;34m\u001b[0m\u001b[0m\n\u001b[1;32m     21\u001b[0m \u001b[0malph\u001b[0m \u001b[0;34m=\u001b[0m \u001b[0mdf\u001b[0m\u001b[0;34m.\u001b[0m\u001b[0mloc\u001b[0m\u001b[0;34m[\u001b[0m\u001b[0;34m(\u001b[0m\u001b[0mdf\u001b[0m\u001b[0;34m[\u001b[0m\u001b[0;34m'phi'\u001b[0m\u001b[0;34m]\u001b[0m \u001b[0;34m>=\u001b[0m \u001b[0mangles\u001b[0m\u001b[0;34m[\u001b[0m\u001b[0mtempname\u001b[0m\u001b[0;34m]\u001b[0m\u001b[0;34m[\u001b[0m\u001b[0;36m0\u001b[0m\u001b[0;34m]\u001b[0m\u001b[0;34m)\u001b[0m \u001b[0;34m&\u001b[0m \u001b[0;34m(\u001b[0m\u001b[0mdf\u001b[0m\u001b[0;34m[\u001b[0m\u001b[0;34m'phi'\u001b[0m\u001b[0;34m]\u001b[0m \u001b[0;34m<\u001b[0m \u001b[0mangles\u001b[0m\u001b[0;34m[\u001b[0m\u001b[0mtempname\u001b[0m\u001b[0;34m]\u001b[0m\u001b[0;34m[\u001b[0m\u001b[0;36m1\u001b[0m\u001b[0;34m]\u001b[0m\u001b[0;34m)\u001b[0m \u001b[0;34m&\u001b[0m \u001b[0;34m(\u001b[0m\u001b[0mdf\u001b[0m\u001b[0;34m[\u001b[0m\u001b[0;34m'psi'\u001b[0m\u001b[0;34m]\u001b[0m \u001b[0;34m>=\u001b[0m \u001b[0mangles\u001b[0m\u001b[0;34m[\u001b[0m\u001b[0mtempname\u001b[0m\u001b[0;34m]\u001b[0m\u001b[0;34m[\u001b[0m\u001b[0;36m2\u001b[0m\u001b[0;34m]\u001b[0m\u001b[0;34m)\u001b[0m \u001b[0;34m&\u001b[0m \u001b[0;34m(\u001b[0m\u001b[0mdf\u001b[0m\u001b[0;34m[\u001b[0m\u001b[0;34m'psi'\u001b[0m\u001b[0;34m]\u001b[0m \u001b[0;34m<\u001b[0m \u001b[0mangles\u001b[0m\u001b[0;34m[\u001b[0m\u001b[0mtempname\u001b[0m\u001b[0;34m]\u001b[0m\u001b[0;34m[\u001b[0m\u001b[0;36m3\u001b[0m\u001b[0;34m]\u001b[0m\u001b[0;34m)\u001b[0m\u001b[0;34m]\u001b[0m\u001b[0;34m\u001b[0m\u001b[0;34m\u001b[0m\u001b[0m\n",
            "\u001b[0;32m/usr/local/lib/python3.10/dist-packages/pandas/core/frame.py\u001b[0m in \u001b[0;36m__getitem__\u001b[0;34m(self, key)\u001b[0m\n\u001b[1;32m   3805\u001b[0m             \u001b[0;32mif\u001b[0m \u001b[0mself\u001b[0m\u001b[0;34m.\u001b[0m\u001b[0mcolumns\u001b[0m\u001b[0;34m.\u001b[0m\u001b[0mnlevels\u001b[0m \u001b[0;34m>\u001b[0m \u001b[0;36m1\u001b[0m\u001b[0;34m:\u001b[0m\u001b[0;34m\u001b[0m\u001b[0;34m\u001b[0m\u001b[0m\n\u001b[1;32m   3806\u001b[0m                 \u001b[0;32mreturn\u001b[0m \u001b[0mself\u001b[0m\u001b[0;34m.\u001b[0m\u001b[0m_getitem_multilevel\u001b[0m\u001b[0;34m(\u001b[0m\u001b[0mkey\u001b[0m\u001b[0;34m)\u001b[0m\u001b[0;34m\u001b[0m\u001b[0;34m\u001b[0m\u001b[0m\n\u001b[0;32m-> 3807\u001b[0;31m             \u001b[0mindexer\u001b[0m \u001b[0;34m=\u001b[0m \u001b[0mself\u001b[0m\u001b[0;34m.\u001b[0m\u001b[0mcolumns\u001b[0m\u001b[0;34m.\u001b[0m\u001b[0mget_loc\u001b[0m\u001b[0;34m(\u001b[0m\u001b[0mkey\u001b[0m\u001b[0;34m)\u001b[0m\u001b[0;34m\u001b[0m\u001b[0;34m\u001b[0m\u001b[0m\n\u001b[0m\u001b[1;32m   3808\u001b[0m             \u001b[0;32mif\u001b[0m \u001b[0mis_integer\u001b[0m\u001b[0;34m(\u001b[0m\u001b[0mindexer\u001b[0m\u001b[0;34m)\u001b[0m\u001b[0;34m:\u001b[0m\u001b[0;34m\u001b[0m\u001b[0;34m\u001b[0m\u001b[0m\n\u001b[1;32m   3809\u001b[0m                 \u001b[0mindexer\u001b[0m \u001b[0;34m=\u001b[0m \u001b[0;34m[\u001b[0m\u001b[0mindexer\u001b[0m\u001b[0;34m]\u001b[0m\u001b[0;34m\u001b[0m\u001b[0;34m\u001b[0m\u001b[0m\n",
            "\u001b[0;32m/usr/local/lib/python3.10/dist-packages/pandas/core/indexes/base.py\u001b[0m in \u001b[0;36mget_loc\u001b[0;34m(self, key, method, tolerance)\u001b[0m\n\u001b[1;32m   3802\u001b[0m                 \u001b[0;32mreturn\u001b[0m \u001b[0mself\u001b[0m\u001b[0;34m.\u001b[0m\u001b[0m_engine\u001b[0m\u001b[0;34m.\u001b[0m\u001b[0mget_loc\u001b[0m\u001b[0;34m(\u001b[0m\u001b[0mcasted_key\u001b[0m\u001b[0;34m)\u001b[0m\u001b[0;34m\u001b[0m\u001b[0;34m\u001b[0m\u001b[0m\n\u001b[1;32m   3803\u001b[0m             \u001b[0;32mexcept\u001b[0m \u001b[0mKeyError\u001b[0m \u001b[0;32mas\u001b[0m \u001b[0merr\u001b[0m\u001b[0;34m:\u001b[0m\u001b[0;34m\u001b[0m\u001b[0;34m\u001b[0m\u001b[0m\n\u001b[0;32m-> 3804\u001b[0;31m                 \u001b[0;32mraise\u001b[0m \u001b[0mKeyError\u001b[0m\u001b[0;34m(\u001b[0m\u001b[0mkey\u001b[0m\u001b[0;34m)\u001b[0m \u001b[0;32mfrom\u001b[0m \u001b[0merr\u001b[0m\u001b[0;34m\u001b[0m\u001b[0;34m\u001b[0m\u001b[0m\n\u001b[0m\u001b[1;32m   3805\u001b[0m             \u001b[0;32mexcept\u001b[0m \u001b[0mTypeError\u001b[0m\u001b[0;34m:\u001b[0m\u001b[0;34m\u001b[0m\u001b[0;34m\u001b[0m\u001b[0m\n\u001b[1;32m   3806\u001b[0m                 \u001b[0;31m# If we have a listlike key, _check_indexing_error will raise\u001b[0m\u001b[0;34m\u001b[0m\u001b[0;34m\u001b[0m\u001b[0m\n",
            "\u001b[0;31mKeyError\u001b[0m: 'phi'"
          ]
        }
      ]
    }
  ]
}