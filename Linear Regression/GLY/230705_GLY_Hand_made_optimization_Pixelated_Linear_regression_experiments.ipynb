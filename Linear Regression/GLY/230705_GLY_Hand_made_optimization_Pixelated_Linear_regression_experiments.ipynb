{
  "nbformat": 4,
  "nbformat_minor": 0,
  "metadata": {
    "colab": {
      "provenance": [],
      "gpuType": "T4",
      "include_colab_link": true
    },
    "kernelspec": {
      "name": "python3",
      "display_name": "Python 3"
    },
    "language_info": {
      "name": "python"
    }
  },
  "cells": [
    {
      "cell_type": "markdown",
      "metadata": {
        "id": "view-in-github",
        "colab_type": "text"
      },
      "source": [
        "<a href=\"https://colab.research.google.com/github/erictong0/FrederickLab2023/blob/main/Linear%20Regression/GLY/230705_GLY_Hand_made_optimization_Pixelated_Linear_regression_experiments.ipynb\" target=\"_parent\"><img src=\"https://colab.research.google.com/assets/colab-badge.svg\" alt=\"Open In Colab\"/></a>"
      ]
    },
    {
      "cell_type": "markdown",
      "source": [
        "# irrelevant"
      ],
      "metadata": {
        "id": "eQF4MCDqkJQG"
      }
    },
    {
      "cell_type": "code",
      "execution_count": null,
      "metadata": {
        "id": "jbXwMbQrlDAY"
      },
      "outputs": [],
      "source": [
        "#imports\n",
        "!pip install bio --upgrade\n",
        "!pip install scipy"
      ]
    },
    {
      "cell_type": "code",
      "source": [
        "#imports for timing things\n",
        "!pip install line_profiler\n",
        "%load_ext line_profiler"
      ],
      "metadata": {
        "id": "ygSlwLXZOlhE"
      },
      "execution_count": null,
      "outputs": []
    },
    {
      "cell_type": "code",
      "source": [
        "import sys\n",
        "import glob\n",
        "import math\n",
        "import argparse\n",
        "import numpy as np\n",
        "import matplotlib as mpl\n",
        "import matplotlib.pyplot as plt\n",
        "import matplotlib.ticker as pltticker\n",
        "import matplotlib.cm as cm\n",
        "from matplotlib.patches import Rectangle\n",
        "import csv\n",
        "from matplotlib import colors\n",
        "import re\n",
        "import pandas as pd\n",
        "from numpy import savetxt\n",
        "from sklearn.linear_model import LinearRegression\n",
        "from statistics import mean\n",
        "import statsmodels.api as sm\n",
        "from Bio.Data.IUPACData import protein_letters_1to3 as one2three\n",
        "import scipy.optimize as spo\n",
        "from pandas.core.internals.construction import ma\n",
        "from sklearn.linear_model import Lasso"
      ],
      "metadata": {
        "id": "QdhKhzmOlO1v"
      },
      "execution_count": null,
      "outputs": []
    },
    {
      "cell_type": "code",
      "source": [
        "#works to load information in variables before the program\n",
        "\n",
        "fwhm = 1.5  # Full width at half maximum\n",
        "# Calculate the standard deviation from the FWHM\n",
        "c = fwhm / (2 * np.sqrt(2 * np.log(2)))\n",
        "\n",
        "def get_row_floats(data, row):\n",
        "  return list(map(lambda x: float(x[row]), data))\n",
        "\n",
        "xArray = []\n",
        "for i in range(68):\n",
        "  b = i / 4 + 54\n",
        "  xArray.append(np.linspace(b - 3 * c, b + 3 * c, 100))\n",
        "\n",
        "oData = []\n",
        "data = []\n",
        "with open(\"G_10K.out\", mode=\"r\") as infile: #open data file and read contents\n",
        "  reader = csv.reader(infile, delimiter=\"\\n\")\n",
        "  for row in reader:\n",
        "    if len(row) == 1:\n",
        "      data.append(re.split('\\t', row[0])[2:])\n",
        "    else:\n",
        "      data.append(row)\n",
        "\n",
        "tempData = []\n",
        "for i in range(6):\n",
        "  tempData.append(np.array(get_row_floats(data[1:], i)))\n",
        "\n",
        "oData.append(tempData)\n",
        "\n",
        "data = []\n",
        "tempData = []\n",
        "count = 0\n",
        "with open(\"230319_VGLASTasynA30_mono_sf_DARR_INADEQUATE_750uM_made230223_8Murea-2D_GLY_AD.txt\", mode=\"r\") as infile: #open data file and read contents\n",
        "  chunk_size = 1000\n",
        "  while True:\n",
        "      chunk = infile.readlines(chunk_size)\n",
        "      if not chunk:\n",
        "        break\n",
        "      for line in chunk:\n",
        "        reader = csv.reader(infile)\n",
        "        for row in reader:\n",
        "          count += 1\n",
        "          if len(row) == 1:\n",
        "            #tempData.append(re.split(r',', row[0]))\n",
        "            tempData.append(re.split(r'\\s+', row[0])[1:])\n",
        "          else:\n",
        "            tempData.append(row)\n",
        "\n",
        "data.append(get_row_floats(tempData,0)[1:])\n",
        "data.append(get_row_floats(tempData,2)[1:])\n",
        "\n",
        "oData.append(data)\n",
        "DATAINPUT = oData\n",
        "print(DATAINPUT[1][0])"
      ],
      "metadata": {
        "id": "uAosrkRIlXzx"
      },
      "execution_count": null,
      "outputs": []
    },
    {
      "cell_type": "code",
      "source": [
        "xScale = 30\n",
        "yScale = 30\n",
        "\n",
        "def main(inData, aa, rangeChoices):\n",
        "  aa1 = aa\n",
        "\n",
        "  phi = inData[0][0]\n",
        "  psi = inData[0][1]\n",
        "  ca = inData[0][2]\n",
        "  cb = inData[0][3]\n",
        "  c = inData[0][4]\n",
        "  n = inData[0][5]\n",
        "\n",
        "\n",
        "\n",
        "  ca_exp = inData[1][0] #def x as C shift\n",
        "  intensity = inData[1][1]\n",
        "\n",
        "  atom_key={\n",
        "            \"ca\":0,\n",
        "            \"cb\":1,\n",
        "            \"co\":2,\n",
        "            \"n\":3,\n",
        "          }\n",
        "\n",
        "  nonCys_nonGly_aas={\"A\", \"D\", \"E\", \"F\", \"H\", \"I\", \"K\", \"L\", \"M\",\n",
        "                    \"N\", \"P\", \"Q\", \"R\", \"S\", \"T\", \"V\", \"Y\", \"W\"}\n",
        "\n",
        "  nonCys_aas={\"A\", \"D\", \"E\", \"F\", \"G\", \"H\", \"I\", \"K\", \"L\", \"M\",\n",
        "              \"N\", \"P\", \"Q\", \"R\", \"S\", \"T\", \"V\", \"Y\", \"W\"}\n",
        "\n",
        "  na=np.nan\n",
        "\n",
        "  aa_spec_ranges={ #ranges of interest for chemical shifts\n",
        "                  #aa1 Ca      Cb      C         N\n",
        "                  # Ca & Cb adjusted to 17ppm to match Fig5\n",
        "                 'A':[[11,28],[203,234],[170,184],[112,133]],\n",
        "                  'R':[[47,64],[22,39],[169,183],[112,133]],\n",
        "                  'N':[[44,61],[30,47],[168,182],[106,127]],\n",
        "                  'D':[[45,62],[33,50],[169,183],[109,130]],\n",
        "  #               'C':[[50,67],[22,39],[168,182],[105,126]],\n",
        "                  'Q':[[47,64],[22,39],[169,183],[108,129]],\n",
        "                  'E':[[49,66],[22,39],[169,183],[109,130]],\n",
        "                  'G':[[36,53],[203,234],[169,179.25],[ 98,119]],\n",
        "                  #'G':[[36,53],[169,178],[167,181],[ 98,119]],\n",
        "                  'H':[[49,66],[23,40],[168,182],[107,128]],\n",
        "                  'I':[[54,71],[31,48],[168,182],[109,130]],\n",
        "                  'L':[[45,62],[33,50],[170,184],[110,131]],\n",
        "                  'K':[[49,66],[26,43],[169,183],[109,130]],\n",
        "                  'M':[[47,64],[26,43],[169,183],[108,129]],\n",
        "                  'F':[[50,67],[31,48],[168,182],[107,128]],\n",
        "                  'P':[[57,74],[25,42],[170,184],[ na, na]],\n",
        "                  'S':[[50,67],[55,72],[167,181],[104,125]],\n",
        "                  'T':[[54,70],[104,137],[60,77],[168,182],[102,123]],\n",
        "                  'W':[[48,65],[21,38],[169,183],[109,130]],\n",
        "                  'Y':[[50,67],[30,47],[168,182],[108,129]],\n",
        "                  'V':[[54,71],[25,42],[169,183],[108,129]],\n",
        "                  }\n",
        "\n",
        "  ####Changed this part####\n",
        "  rchoice = rangeChoices\n",
        "\n",
        "  ### extract plot subregions ###\n",
        "  # \"r\" stands for ramachandran\n",
        "  # regions: beta-strand, polyproline helix ii\n",
        "  #          beta-turn I, alpha-helix,\n",
        "  #          left handed helix (all phi > 0)\n",
        "  # !!! top and left corner are always >= or <=\n",
        "  #     unless they reach the bottom/right axis\n",
        "  #     (i.e. betaB, ppiiB, left)\n",
        "\n",
        "  #filter beta regions\n",
        "\n",
        "  def makeMask(a, b, c, d):\n",
        "    return np.logical_and(np.logical_and(phi >= a, phi <= b), np.logical_and(psi >= c, psi <= d))\n",
        "\n",
        "  masks = {}\n",
        "  datas = {}\n",
        "  cs_ca = {}\n",
        "  cs_cb = {}\n",
        "  cs_co = {}\n",
        "\n",
        "  for i in range(int(180/xScale)):\n",
        "    for j in range(int(360/yScale)):\n",
        "      name = f\"{chr(i+65)}{(j+1):02d}\"\n",
        "      mask = makeMask(i*xScale-180, (i+1)*xScale-180, 180-(j+1)*yScale, 180-j*yScale)\n",
        "      #print((i*10-180, i*10-170, 170-j*10, 180-j*10))\n",
        "      cs_ca[name] = ca[mask]\n",
        "      cs_cb[name] = cb[mask]\n",
        "      cs_co[name] = c[mask]\n",
        "\n",
        "  name = \"rturni\"\n",
        "  mask = makeMask(0, 180, -180, 180)\n",
        "  cs_ca[name] = ca[mask]\n",
        "  cs_cb[name] = cb[mask]\n",
        "  cs_co[name] = c[mask]\n",
        "  #cs_ca = list(cs_ca) ???\n",
        "\n",
        "  cs_all = {'ca':cs_ca,\n",
        "            'cb':cs_cb,\n",
        "            'c' :cs_co,\n",
        "            }\n",
        "\n",
        "  bin_width=0.25\n",
        "  mtick_spacing=5\n",
        "  #fig, axs = plt.subplots(1, 1, sharey=False, tight_layout=True,figsize=(10,10)) #35826579\n",
        "\n",
        "  x_lims = np.array(aa_spec_ranges[aa1][2])\n",
        "  y_lims = np.array(aa_spec_ranges[aa1][1])\n",
        "  x_edges = np.arange(x_lims[0],x_lims[1]+bin_width,bin_width) #create an array from one limit to the next using bin widths\n",
        "  y_edges=np.arange(y_lims[0],y_lims[1]+bin_width,bin_width)\n",
        "  hw=bin_width/2\n",
        "  center_bins_x=np.arange(x_lims[0]+hw,x_lims[1]+hw,bin_width)\n",
        "  center_bins_y=np.arange(y_lims[0]+hw,y_lims[1]+hw,bin_width)\n",
        "  inputs = []\n",
        "  h_lists = []\n",
        "  h_list = []\n",
        "  c = fwhm / (2 * np.sqrt(2 * np.log(2)))\n",
        "  for key in cs_co:\n",
        "    H, bins = np.histogram(cs_co[key],bins=(x_edges),density=False)\n",
        "    for j in range(len(H)):\n",
        "      a = H[j]  # Maximum value\n",
        "      b = bins[j]  # Peak position\n",
        "\n",
        "      #x = xArray\n",
        "      x = np.linspace(b - 3 * c, b + 3 * c, 100)\n",
        "\n",
        "      # Calculate the y values for the curve using the Gaussian function\n",
        "      y = a * np.exp(-(x - b)**2 / (2 * c**2))\n",
        "      histogram, bins = np.histogram(x, bins=x_edges, density=False, weights = y)\n",
        "      h_list.append(histogram)\n",
        "\n",
        "    h_lists = sum(h_list)\n",
        "    inputs.append(h_lists)\n",
        "\n",
        "  H_exp, bins = np.histogram(ca_exp, bins=(x_edges),density=False, weights = intensity)\n",
        "  target = (H_exp)\n",
        "  tempRet = inputs\n",
        "  tempArr = []\n",
        "  for element in inputs:\n",
        "    isSame = False\n",
        "    for element2 in tempArr:\n",
        "      if np.all(element == element2):\n",
        "        isSame = True\n",
        "    if isSame:\n",
        "      pass\n",
        "    else:\n",
        "      tempArr.append(element)\n",
        "  inputs = tempArr\n",
        "\n",
        "  x = inputs\n",
        "  y = target\n",
        "  return (x, y, cs_co, tempRet)\n",
        "\n",
        "\n",
        "def func3P(dict):\n",
        "  r, s, cs_co, tempRet = main(DATAINPUT, \"G\", dict)\n",
        "  #print(r.summary())\n",
        "  return (r, s, cs_co, tempRet)\n",
        "  return (r.summary(), s, e)\n",
        "\n",
        "x, y, cs_co, rawInput = func3P({})\n",
        "#resultString, cs_ca_list, H_exp = func3P({})\n",
        "\n"
      ],
      "metadata": {
        "id": "Mr287Mxvlir8"
      },
      "execution_count": null,
      "outputs": []
    },
    {
      "cell_type": "markdown",
      "source": [
        "#Insert saved coefficients here\n"
      ],
      "metadata": {
        "id": "5IjVBDwvizUW"
      }
    },
    {
      "cell_type": "code",
      "source": [
        "print(np.shape(x))"
      ],
      "metadata": {
        "id": "PzjouCz-cUgL"
      },
      "execution_count": null,
      "outputs": []
    },
    {
      "cell_type": "code",
      "source": [
        "\n",
        "copied = \"\"\n",
        "coeff = [float(element) for element in copied.split()]"
      ],
      "metadata": {
        "id": "c1Fx94m-eEQX"
      },
      "execution_count": null,
      "outputs": []
    },
    {
      "cell_type": "code",
      "source": [
        "coeff = [0] * 33 + [10000] + [0] * 21"
      ],
      "metadata": {
        "id": "9hdL5d0vcQ9c"
      },
      "execution_count": null,
      "outputs": []
    },
    {
      "cell_type": "markdown",
      "source": [
        "#After\n"
      ],
      "metadata": {
        "id": "-eXOQZvdjcAG"
      }
    },
    {
      "cell_type": "code",
      "source": [
        "f = lambda x, y: ((x-y)**2)/x\n",
        "tempCoeff = coeff\n",
        "print(np.shape(x))\n",
        "print(np.shape(y))\n",
        "def resid2(c):\n",
        "  global tempCoeff\n",
        "  tempCoeff = c\n",
        "  predictedY = [sum(element) for element in np.multiply(np.array(x).T, np.array(c))]\n",
        "  total = sum(f(y, predictedY))\n",
        "  return total\n",
        "print(resid2(tempCoeff))\n",
        "print(y)"
      ],
      "metadata": {
        "id": "7xstVN6tfdGx"
      },
      "execution_count": null,
      "outputs": []
    },
    {
      "cell_type": "code",
      "source": [
        "#Actually optimizing things\n",
        "for i in range(100):\n",
        "  coeff = tempCoeff\n",
        "  result = spo.least_squares(resid2, coeff, verbose = 2, max_nfev = 50, bounds = (0, 100000000))\n",
        "coeffArchive = tempCoeff\n",
        "print(result.x)\n",
        "print(result.fun)"
      ],
      "metadata": {
        "id": "cAG5ICU_ZyU7"
      },
      "execution_count": null,
      "outputs": []
    },
    {
      "cell_type": "code",
      "source": [
        "print(coeff)"
      ],
      "metadata": {
        "id": "c7_q-2vqCU7S"
      },
      "execution_count": null,
      "outputs": []
    },
    {
      "cell_type": "markdown",
      "source": [
        "#Visualization\n"
      ],
      "metadata": {
        "id": "wN0I7YzrjxW0"
      }
    },
    {
      "cell_type": "code",
      "source": [
        "bins = np.arange(169,179.25,0.25)\n",
        "plt.hist(bins, bins, weights = y);\n",
        "print(coeff)\n",
        "#print(np.shape(sum(np.multiply(np.array(x).T, coeff))));\n",
        "print(x)\n",
        "#plt.hist(bins, bins = bins, weights = sum(np.multiply(np.array(x).T, coeff).T));"
      ],
      "metadata": {
        "id": "lBUrkMamhfQs"
      },
      "execution_count": null,
      "outputs": []
    },
    {
      "cell_type": "code",
      "source": [
        "#makes a matplotlib rectangle object based on the coordinates of each corner.\n",
        "def makeRect(s, c):\n",
        "  return Rectangle((s[0], s[2]), s[1]-s[0], s[3]-s[2], color = c)\n",
        "\n",
        "#takes a dictionary and plots all of the various rectangles\n",
        "def visualizeRectangles(d, cs, r2):\n",
        "  norm = colors.Normalize(-6e+03, 6e+03)\n",
        "\n",
        "\n",
        "  fig, ax = plt.subplots()\n",
        "  for key in d.keys():\n",
        "    ax.add_patch(makeRect(d[key], cs[key]))\n",
        "\n",
        "  bound = 180\n",
        "  ax.set(xlim = (-1 * bound, bound), ylim = (-1*bound, bound))\n",
        "  plt.xlabel(\"φ/phi (deg)\")\n",
        "  plt.ylabel(\"Ψ/psi (deg)\")\n",
        "  plt.title(f\"Threonine Data: R²={round(r2, 3)}\")\n",
        "  fig.set_size_inches(6, 6)\n",
        "  fig.colorbar(cm.ScalarMappable(norm=norm, cmap=cm.RdBu))\n",
        "  plt.show()"
      ],
      "metadata": {
        "id": "ITf5VvJi4gmU"
      },
      "execution_count": null,
      "outputs": []
    },
    {
      "cell_type": "code",
      "source": [
        "print(coeff)"
      ],
      "metadata": {
        "id": "boqdPBk0ljo4"
      },
      "execution_count": null,
      "outputs": []
    },
    {
      "cell_type": "code",
      "source": [
        "print(np.all(rawInput[648] == x[235]))\n",
        "#print(x[235])\n",
        "\n",
        "#print(rawDict[\"R36\"])\n",
        "#print(x[235])\n",
        "for key in rawDict.keys():\n",
        "  if np.all(rawDict[key] == x[235]):\n",
        "    print(key)"
      ],
      "metadata": {
        "id": "sBGxzmQLX07N"
      },
      "execution_count": null,
      "outputs": []
    },
    {
      "cell_type": "code",
      "source": [
        "norm = colors.Normalize(-6e+03, 6e+03)\n",
        "rawDict = {}\n",
        "visDict = {}\n",
        "cDict = {}\n",
        "\n",
        "for i in range(int(180/xScale)):\n",
        "    for j in range(int(360/yScale)):\n",
        "      name = f\"{chr(i+65)}{(j+1):02d}\"\n",
        "      rawDict[name] = rawInput[i*int(360/yScale) + j]\n",
        "      visDict[name] = (i*xScale-180, (i+1)*xScale-180, 180-(j+1)*yScale, 180-j*yScale)\n",
        "rawDict[\"rlhelix\"] = rawInput[int(360*180/xScale/yScale)]\n",
        "visDict[\"rlhelix\"] = (0, 180, -180, 180)\n",
        "for i in range(len(x)):\n",
        "  for key in rawDict.keys():\n",
        "    if np.all(rawDict[key] == x[i]):\n",
        "      cDict[key] = cm.RdBu(norm(coeff[i]))\n",
        "\n",
        "#print(cDict)\n",
        "visualizeRectangles(visDict, cDict, 0)"
      ],
      "metadata": {
        "id": "oWMsSw8MkDSR"
      },
      "execution_count": null,
      "outputs": []
    },
    {
      "cell_type": "code",
      "source": [
        "norm = colors.Normalize(0, 4)\n",
        "rawDict = {}\n",
        "visDict = {}\n",
        "cDict = {}\n",
        "\n",
        "for i in range(int(180/xScale)):\n",
        "    for j in range(int(360/yScale)):\n",
        "      name = f\"{chr(i+65)}{(j+1):02d}\"\n",
        "      rawDict[name] = rawInput[i*int(360/yScale) + j]\n",
        "      visDict[name] = (i*xScale-180, (i+1)*xScale-180, 180-(j+1)*yScale, 180-j*yScale)\n",
        "rawDict[\"rturn\"] = rawInput[648]\n",
        "visDict[\"rturn\"] = (0, 180, -180, 180)\n",
        "for i in range(len(x)):\n",
        "  for key in rawDict.keys():\n",
        "    if np.all(rawDict[key] == x[i]):\n",
        "      cDict[key] = cm.RdBu(norm(np.log10(coeff[i])))\n",
        "\n",
        "#print(cDict)\n",
        "visualizeRectangles(visDict, cDict, 0)"
      ],
      "metadata": {
        "id": "CEgU1lI7Z9dS"
      },
      "execution_count": null,
      "outputs": []
    },
    {
      "cell_type": "code",
      "source": [
        "norm = colors.Normalize(-2.7e+07, 2.7e+07)\n",
        "visDict = {}\n",
        "colorArray = {}\n",
        "valDict = {}\n",
        "for i in range(int(180/xScale)):\n",
        "  for j in range(int(360/yScale)):\n",
        "    visDict[f\"{chr(i+65)}{(j+1):02d}\"] = (i*xScale-180, (i+1)*xScale-180, 180-(j+1)*yScale, 180-j*yScale)\n",
        "    val = float(tempArr[int((i)*360/yScale + (j))][1])\n",
        "    #print(f\"{np.log(abs(val))} / {val}\")\n",
        "    valDict[f\"{chr(i+65)}{(j+1):02d}\"] = val\n",
        "    colorArray[f\"{chr(i+65)}{(j+1):02d}\"] = cm.RdBu(norm(val))\n",
        "\n",
        "visDict[\"rturni\"] = (0, 180, -180, 180)\n",
        "#print(visDict)\n",
        "colorArray[\"rturni\"] = cm.RdBu(float(tempArr[-1][1]))\n",
        "#print(valDict)\n",
        "visualizeRectangles(visDict, colorArray, float(r))\n",
        "\n",
        "print(colorArray)\n",
        "\n",
        "\n",
        "#otherVal = min(max(np.log(val*-1)*-1/4,0),1)\n",
        "#otherVal = min(max(np.log(float(tempArr[-1][1]))*-1/4,0),1)"
      ],
      "metadata": {
        "id": "zNKmUoCZcJlQ"
      },
      "execution_count": null,
      "outputs": []
    },
    {
      "cell_type": "markdown",
      "source": [
        "#for explaining process"
      ],
      "metadata": {
        "id": "b45RfG7cjn8C"
      }
    },
    {
      "cell_type": "code",
      "source": [
        "q = np.array(([1, 2], [3, 4], [5, 6]))\n",
        "#print(q)\n",
        "\n",
        "r = np.array((1, 2, 3))\n",
        "#print(r)\n",
        "#print(q.T)\n",
        "\n",
        "print((np.multiply(q.T, r)))\n",
        "print(sum(np.multiply(q.T, r).T))"
      ],
      "metadata": {
        "id": "C7bCqMPNcSaG"
      },
      "execution_count": null,
      "outputs": []
    },
    {
      "cell_type": "code",
      "source": [
        "np.set_printoptions(threshold=np.inf)\n",
        "print(np.shape(np.array(x)))\n",
        "print(sum(np.multiply(np.array(x).T, coeff)))\n",
        "np.set_printoptions(threshold=1000)"
      ],
      "metadata": {
        "id": "WSrnACBlbvET"
      },
      "execution_count": null,
      "outputs": []
    }
  ]
}